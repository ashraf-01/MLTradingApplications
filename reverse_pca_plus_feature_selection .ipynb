{
 "cells": [
  {
   "cell_type": "markdown",
   "metadata": {},
   "source": [
    "# FEATURE SELECTION FIRST "
   ]
  },
  {
   "cell_type": "code",
   "execution_count": 4,
   "metadata": {},
   "outputs": [],
   "source": [
    "import pandas as pd\n",
    "import matplotlib.pyplot as plt\n",
    "import numpy as np\n",
    "import seaborn as sns\n",
    "from sklearn.ensemble import RandomForestRegressor , BaggingClassifier, RandomForestClassifier\n",
    "from mlfinlab.ensemble import SequentiallyBootstrappedBaggingClassifier\n"
   ]
  },
  {
   "cell_type": "code",
   "execution_count": 51,
   "metadata": {},
   "outputs": [],
   "source": [
    "from pandas_datareader import data as pdr\n",
    "import yfinance as yf\n",
    "yf.pdr_override()"
   ]
  },
  {
   "cell_type": "code",
   "execution_count": 184,
   "metadata": {},
   "outputs": [
    {
     "name": "stdout",
     "output_type": "stream",
     "text": [
      "[*********************100%***********************]  1 of 1 completed\n"
     ]
    }
   ],
   "source": [
    "amz = pdr.get_data_yahoo(\"AMZN\", start=\"2005-01-01\", end=\"2020-06-21\")"
   ]
  },
  {
   "cell_type": "code",
   "execution_count": 114,
   "metadata": {},
   "outputs": [],
   "source": [
    "# add returns here later using different defintions then add them all to the amz df then test each one seperatly\n",
    "# as a target variable and how correlations (linear) change with the change in the way returns are calculated"
   ]
  },
  {
   "cell_type": "code",
   "execution_count": 185,
   "metadata": {},
   "outputs": [
    {
     "data": {
      "text/html": [
       "<div>\n",
       "<style scoped>\n",
       "    .dataframe tbody tr th:only-of-type {\n",
       "        vertical-align: middle;\n",
       "    }\n",
       "\n",
       "    .dataframe tbody tr th {\n",
       "        vertical-align: top;\n",
       "    }\n",
       "\n",
       "    .dataframe thead th {\n",
       "        text-align: right;\n",
       "    }\n",
       "</style>\n",
       "<table border=\"1\" class=\"dataframe\">\n",
       "  <thead>\n",
       "    <tr style=\"text-align: right;\">\n",
       "      <th></th>\n",
       "      <th>Open</th>\n",
       "      <th>High</th>\n",
       "      <th>Low</th>\n",
       "      <th>Close</th>\n",
       "      <th>Adj Close</th>\n",
       "      <th>Volume</th>\n",
       "    </tr>\n",
       "    <tr>\n",
       "      <th>Date</th>\n",
       "      <th></th>\n",
       "      <th></th>\n",
       "      <th></th>\n",
       "      <th></th>\n",
       "      <th></th>\n",
       "      <th></th>\n",
       "    </tr>\n",
       "  </thead>\n",
       "  <tbody>\n",
       "    <tr>\n",
       "      <th>2004-12-31</th>\n",
       "      <td>45.130001</td>\n",
       "      <td>45.490002</td>\n",
       "      <td>44.160000</td>\n",
       "      <td>44.290001</td>\n",
       "      <td>44.290001</td>\n",
       "      <td>4790700</td>\n",
       "    </tr>\n",
       "    <tr>\n",
       "      <th>2005-01-03</th>\n",
       "      <td>44.950001</td>\n",
       "      <td>45.439999</td>\n",
       "      <td>44.209999</td>\n",
       "      <td>44.520000</td>\n",
       "      <td>44.520000</td>\n",
       "      <td>10446500</td>\n",
       "    </tr>\n",
       "    <tr>\n",
       "      <th>2005-01-04</th>\n",
       "      <td>42.669998</td>\n",
       "      <td>43.259998</td>\n",
       "      <td>41.500000</td>\n",
       "      <td>42.139999</td>\n",
       "      <td>42.139999</td>\n",
       "      <td>19418500</td>\n",
       "    </tr>\n",
       "    <tr>\n",
       "      <th>2005-01-05</th>\n",
       "      <td>41.570000</td>\n",
       "      <td>42.759998</td>\n",
       "      <td>41.560001</td>\n",
       "      <td>41.770000</td>\n",
       "      <td>41.770000</td>\n",
       "      <td>8354200</td>\n",
       "    </tr>\n",
       "    <tr>\n",
       "      <th>2005-01-06</th>\n",
       "      <td>41.810001</td>\n",
       "      <td>42.250000</td>\n",
       "      <td>40.900002</td>\n",
       "      <td>41.049999</td>\n",
       "      <td>41.049999</td>\n",
       "      <td>8700900</td>\n",
       "    </tr>\n",
       "    <tr>\n",
       "      <th>...</th>\n",
       "      <td>...</td>\n",
       "      <td>...</td>\n",
       "      <td>...</td>\n",
       "      <td>...</td>\n",
       "      <td>...</td>\n",
       "      <td>...</td>\n",
       "    </tr>\n",
       "    <tr>\n",
       "      <th>2020-06-15</th>\n",
       "      <td>2526.600098</td>\n",
       "      <td>2584.000000</td>\n",
       "      <td>2508.000000</td>\n",
       "      <td>2572.679932</td>\n",
       "      <td>2572.679932</td>\n",
       "      <td>3865100</td>\n",
       "    </tr>\n",
       "    <tr>\n",
       "      <th>2020-06-16</th>\n",
       "      <td>2620.000000</td>\n",
       "      <td>2620.000000</td>\n",
       "      <td>2576.000000</td>\n",
       "      <td>2615.270020</td>\n",
       "      <td>2615.270020</td>\n",
       "      <td>3585600</td>\n",
       "    </tr>\n",
       "    <tr>\n",
       "      <th>2020-06-17</th>\n",
       "      <td>2647.500000</td>\n",
       "      <td>2655.000000</td>\n",
       "      <td>2631.820068</td>\n",
       "      <td>2640.979980</td>\n",
       "      <td>2640.979980</td>\n",
       "      <td>2951100</td>\n",
       "    </tr>\n",
       "    <tr>\n",
       "      <th>2020-06-18</th>\n",
       "      <td>2647.010010</td>\n",
       "      <td>2659.639893</td>\n",
       "      <td>2636.110107</td>\n",
       "      <td>2653.979980</td>\n",
       "      <td>2653.979980</td>\n",
       "      <td>2487800</td>\n",
       "    </tr>\n",
       "    <tr>\n",
       "      <th>2020-06-19</th>\n",
       "      <td>2678.080078</td>\n",
       "      <td>2697.429932</td>\n",
       "      <td>2659.000000</td>\n",
       "      <td>2675.010010</td>\n",
       "      <td>2675.010010</td>\n",
       "      <td>5777000</td>\n",
       "    </tr>\n",
       "  </tbody>\n",
       "</table>\n",
       "<p>3894 rows × 6 columns</p>\n",
       "</div>"
      ],
      "text/plain": [
       "                   Open         High          Low        Close    Adj Close  \\\n",
       "Date                                                                          \n",
       "2004-12-31    45.130001    45.490002    44.160000    44.290001    44.290001   \n",
       "2005-01-03    44.950001    45.439999    44.209999    44.520000    44.520000   \n",
       "2005-01-04    42.669998    43.259998    41.500000    42.139999    42.139999   \n",
       "2005-01-05    41.570000    42.759998    41.560001    41.770000    41.770000   \n",
       "2005-01-06    41.810001    42.250000    40.900002    41.049999    41.049999   \n",
       "...                 ...          ...          ...          ...          ...   \n",
       "2020-06-15  2526.600098  2584.000000  2508.000000  2572.679932  2572.679932   \n",
       "2020-06-16  2620.000000  2620.000000  2576.000000  2615.270020  2615.270020   \n",
       "2020-06-17  2647.500000  2655.000000  2631.820068  2640.979980  2640.979980   \n",
       "2020-06-18  2647.010010  2659.639893  2636.110107  2653.979980  2653.979980   \n",
       "2020-06-19  2678.080078  2697.429932  2659.000000  2675.010010  2675.010010   \n",
       "\n",
       "              Volume  \n",
       "Date                  \n",
       "2004-12-31   4790700  \n",
       "2005-01-03  10446500  \n",
       "2005-01-04  19418500  \n",
       "2005-01-05   8354200  \n",
       "2005-01-06   8700900  \n",
       "...              ...  \n",
       "2020-06-15   3865100  \n",
       "2020-06-16   3585600  \n",
       "2020-06-17   2951100  \n",
       "2020-06-18   2487800  \n",
       "2020-06-19   5777000  \n",
       "\n",
       "[3894 rows x 6 columns]"
      ]
     },
     "execution_count": 185,
     "metadata": {},
     "output_type": "execute_result"
    }
   ],
   "source": [
    "amz"
   ]
  },
  {
   "cell_type": "code",
   "execution_count": 97,
   "metadata": {},
   "outputs": [],
   "source": [
    "def get_technical_indicators(dataset):\n",
    "    '''\n",
    "    params:\n",
    "        dataset: OHLCV data for AMZ ticker from 1999-09-01 to 2019-09-20\n",
    "    returns    \n",
    "        features dataframe with the calculations of all technical Indicators such as \n",
    "        MACD, 20 period’s standard deviation, ROC, CCI, EMA\n",
    "    '''\n",
    "    # Sort values by dates. Old dates at top \n",
    "    dataset.sort_index(inplace=True)\n",
    "    # Create the features  dataframe to store only the features\n",
    "    features = pd.DataFrame(index=dataset.index)\n",
    "    \n",
    "    # Create 7 and 21 days Moving Average\n",
    "    features['ma7'] = dataset['Adj Close'].rolling(window=7).mean()\n",
    "    features['ma21'] = dataset['Adj Close'].rolling(window=21).mean()\n",
    "    \n",
    "    # Create MACD\n",
    "    features['26ema'] = dataset['Adj Close'].ewm(span=26).mean()\n",
    "    features['12ema'] = dataset['Adj Close'].ewm(span=12).mean()\n",
    "    features['MACD'] = (features['12ema']-features['26ema'])\n",
    " \n",
    "    # Create Bollinger Bands\n",
    "    \n",
    "    features['20sd'] = dataset['Adj Close'].rolling(20).std()\n",
    "    features['upper_band'] = features['ma21'] + (features['20sd']*2)\n",
    "    features['lower_band'] = features['ma21'] - (features['20sd']*2)\n",
    "    \n",
    "    # Create Exponential moving average\n",
    "    features['ema'] = dataset['Adj Close'].ewm(span=20).mean()\n",
    "    \n",
    "    # ROC Rate of Change\n",
    "    N = dataset['Adj Close'].diff(10)\n",
    "    D = dataset['Adj Close'].shift(10)\n",
    "    features['ROC'] = N/D\n",
    "    \n",
    "    # CCI  Commodity Channel Index\n",
    "    TP = (dataset['High'] + dataset['Low'] + dataset['Adj Close']) / 3 \n",
    "    features['CCI']  = (TP - TP.rolling(20).mean()) / (0.015 *  TP.rolling(20).std() )\n",
    "    # Create Average True Range \n",
    "    features['TR'] = dataset['High'] - dataset['Low']\n",
    "    features['ATR'] = features['TR'].ewm(span = 10).mean()\n",
    "    features['volume'] = dataset['Volume']\n",
    "\n",
    "    return features"
   ]
  },
  {
   "cell_type": "code",
   "execution_count": 98,
   "metadata": {},
   "outputs": [],
   "source": [
    "features = get_technical_indicators(amz)"
   ]
  },
  {
   "cell_type": "code",
   "execution_count": null,
   "metadata": {},
   "outputs": [],
   "source": []
  },
  {
   "cell_type": "code",
   "execution_count": 99,
   "metadata": {},
   "outputs": [],
   "source": [
    "# Retrieve the features that will be used  in the vars_ dataframe\n",
    "vars_ = features[['MACD','20sd','TR','ma21','ROC','CCI','volume']]"
   ]
  },
  {
   "cell_type": "code",
   "execution_count": 101,
   "metadata": {},
   "outputs": [
    {
     "name": "stderr",
     "output_type": "stream",
     "text": [
      "'c' argument looks like a single numeric RGB or RGBA sequence, which should be avoided as value-mapping will have precedence in case its length matches with 'x' & 'y'.  Please use a 2-D array with a single row if you really want to specify the same RGB or RGBA value for all points.\n",
      "'c' argument looks like a single numeric RGB or RGBA sequence, which should be avoided as value-mapping will have precedence in case its length matches with 'x' & 'y'.  Please use a 2-D array with a single row if you really want to specify the same RGB or RGBA value for all points.\n",
      "'c' argument looks like a single numeric RGB or RGBA sequence, which should be avoided as value-mapping will have precedence in case its length matches with 'x' & 'y'.  Please use a 2-D array with a single row if you really want to specify the same RGB or RGBA value for all points.\n",
      "'c' argument looks like a single numeric RGB or RGBA sequence, which should be avoided as value-mapping will have precedence in case its length matches with 'x' & 'y'.  Please use a 2-D array with a single row if you really want to specify the same RGB or RGBA value for all points.\n",
      "'c' argument looks like a single numeric RGB or RGBA sequence, which should be avoided as value-mapping will have precedence in case its length matches with 'x' & 'y'.  Please use a 2-D array with a single row if you really want to specify the same RGB or RGBA value for all points.\n",
      "'c' argument looks like a single numeric RGB or RGBA sequence, which should be avoided as value-mapping will have precedence in case its length matches with 'x' & 'y'.  Please use a 2-D array with a single row if you really want to specify the same RGB or RGBA value for all points.\n",
      "'c' argument looks like a single numeric RGB or RGBA sequence, which should be avoided as value-mapping will have precedence in case its length matches with 'x' & 'y'.  Please use a 2-D array with a single row if you really want to specify the same RGB or RGBA value for all points.\n"
     ]
    },
    {
     "data": {
      "image/png": "[encoded data removed]",
      "text/plain": [
       "<Figure size 1008x648 with 7 Axes>"
      ]
     },
     "metadata": {
      "needs_background": "light"
     },
     "output_type": "display_data"
    }
   ],
   "source": [
    "# The correlation() function would make scatterplots between each of the features and  the target variable \n",
    "# AdjClose\n",
    "jet= plt.get_cmap('jet')\n",
    "colors = iter(jet(np.linspace(0,1,10)))\n",
    " \n",
    "def correlation(df,features,variables, n_rows, n_cols):\n",
    "    fig = plt.figure(figsize=(14,9))\n",
    "    for i, var in enumerate(variables):\n",
    "        ax = fig.add_subplot(n_rows,n_cols,i+1)\n",
    "        asset = features.loc[:,var]\n",
    "        ax.scatter(df[\"Adj Close\"], asset, c = next(colors))\n",
    "        ax.set_xlabel(\"Adj Close\")\n",
    "        ax.set_ylabel(\"  {}\".format(var))\n",
    "        ax.set_title(var +\" vs Adj Close\")\n",
    "    fig.tight_layout() \n",
    "    plt.show()\n",
    "        \n",
    "columns = vars_.columns    \n",
    "correlation(amz,vars_,columns,3,3)"
   ]
  },
  {
   "cell_type": "code",
   "execution_count": 102,
   "metadata": {},
   "outputs": [
    {
     "data": {
      "image/png": "[encoded data removed]",
      "text/plain": [
       "<Figure size 720x360 with 2 Axes>"
      ]
     },
     "metadata": {
      "needs_background": "light"
     },
     "output_type": "display_data"
    }
   ],
   "source": [
    "# Copy the vars_ dataframe into a new dataframe called df. \n",
    "# Add the target variable to the vars_ dataframe to make a correlation matrix among  features and target variable. Finally show a Heat Map with the values of the correlation matrix.\n",
    " \n",
    "df = vars_.copy()\n",
    "df['Adj Close'] = amz['Adj Close']\n",
    " \n",
    "colormap = plt.cm.inferno\n",
    "plt.figure(figsize=(10,5))\n",
    "corr = df.corr()\n",
    "sns.heatmap(corr[corr.index == 'Adj Close'], linewidths=0.1, vmax=1.0, square=True, cmap=colormap, linecolor='white', annot=True);\n",
    "plt.show()"
   ]
  },
  {
   "cell_type": "code",
   "execution_count": 103,
   "metadata": {},
   "outputs": [],
   "source": [
    "# Fit Random Forest Regressor and extract feature importance\n",
    "prices = pd.DataFrame(amz['Adj Close'])\n",
    "vars_model = prices.join(vars_)\n",
    "vars_model= vars_model.dropna()\n",
    " \n",
    "X = vars_model[['MACD','20sd','TR','ROC','CCI','volume']].values\n",
    "y = vars_model['Adj Close'].values\n",
    " \n",
    "forest = RandomForestRegressor(n_estimators=100)\n",
    "forest = forest.fit(X, y)\n",
    "importances = forest.feature_importances_\n",
    " \n",
    "values = list(zip(vars_model.columns[1:],importances))\n",
    "headers = ['feature','score']\n",
    "values_df = pd.DataFrame(values,columns = headers)"
   ]
  },
  {
   "cell_type": "code",
   "execution_count": 104,
   "metadata": {},
   "outputs": [
    {
     "data": {
      "text/html": [
       "<div>\n",
       "<style scoped>\n",
       "    .dataframe tbody tr th:only-of-type {\n",
       "        vertical-align: middle;\n",
       "    }\n",
       "\n",
       "    .dataframe tbody tr th {\n",
       "        vertical-align: top;\n",
       "    }\n",
       "\n",
       "    .dataframe thead th {\n",
       "        text-align: right;\n",
       "    }\n",
       "</style>\n",
       "<table border=\"1\" class=\"dataframe\">\n",
       "  <thead>\n",
       "    <tr style=\"text-align: right;\">\n",
       "      <th></th>\n",
       "      <th>feature</th>\n",
       "      <th>score</th>\n",
       "    </tr>\n",
       "  </thead>\n",
       "  <tbody>\n",
       "    <tr>\n",
       "      <th>0</th>\n",
       "      <td>MACD</td>\n",
       "      <td>0.040269</td>\n",
       "    </tr>\n",
       "    <tr>\n",
       "      <th>1</th>\n",
       "      <td>20sd</td>\n",
       "      <td>0.612313</td>\n",
       "    </tr>\n",
       "    <tr>\n",
       "      <th>2</th>\n",
       "      <td>TR</td>\n",
       "      <td>0.267989</td>\n",
       "    </tr>\n",
       "    <tr>\n",
       "      <th>3</th>\n",
       "      <td>ma21</td>\n",
       "      <td>0.017175</td>\n",
       "    </tr>\n",
       "    <tr>\n",
       "      <th>4</th>\n",
       "      <td>ROC</td>\n",
       "      <td>0.008634</td>\n",
       "    </tr>\n",
       "    <tr>\n",
       "      <th>5</th>\n",
       "      <td>CCI</td>\n",
       "      <td>0.053620</td>\n",
       "    </tr>\n",
       "  </tbody>\n",
       "</table>\n",
       "</div>"
      ],
      "text/plain": [
       "  feature     score\n",
       "0    MACD  0.040269\n",
       "1    20sd  0.612313\n",
       "2      TR  0.267989\n",
       "3    ma21  0.017175\n",
       "4     ROC  0.008634\n",
       "5     CCI  0.053620"
      ]
     },
     "execution_count": 104,
     "metadata": {},
     "output_type": "execute_result"
    }
   ],
   "source": [
    "values_df"
   ]
  },
  {
   "cell_type": "code",
   "execution_count": 106,
   "metadata": {},
   "outputs": [
    {
     "data": {
      "image/png": "[encoded data removed]",
      "text/plain": [
       "<Figure size 1008x648 with 1 Axes>"
      ]
     },
     "metadata": {
      "needs_background": "light"
     },
     "output_type": "display_data"
    }
   ],
   "source": [
    "# Plot the feature importance\n",
    "columns = ['MACD','20sd','TR','ROC','CCI','volume']\n",
    "nd = np.arange(len(columns))\n",
    "#width=0.5\n",
    "fig = plt.figure(figsize=(14,9))\n",
    "fig = plt.bar(nd, values_df['score'].values, color=sns.color_palette(\"deep\", 5))\n",
    "plt.legend(fig, columns, loc = 'upper right',bbox_to_anchor=(1.1, 1), title = \"Feature Importance\")\n",
    "plt.show()"
   ]
  },
  {
   "cell_type": "code",
   "execution_count": 107,
   "metadata": {},
   "outputs": [],
   "source": [
    "# Fit Sequentially Bootstrapped version of the Random Forest Regressor and extract feature importance\n",
    "\n"
   ]
  },
  {
   "cell_type": "code",
   "execution_count": null,
   "metadata": {},
   "outputs": [],
   "source": []
  },
  {
   "cell_type": "code",
   "execution_count": null,
   "metadata": {},
   "outputs": [],
   "source": []
  },
  {
   "cell_type": "code",
   "execution_count": null,
   "metadata": {},
   "outputs": [],
   "source": []
  },
  {
   "cell_type": "code",
   "execution_count": null,
   "metadata": {},
   "outputs": [],
   "source": []
  },
  {
   "cell_type": "code",
   "execution_count": null,
   "metadata": {},
   "outputs": [],
   "source": []
  },
  {
   "cell_type": "markdown",
   "metadata": {},
   "source": [
    "# Next is splitting your Dataset in to train - validate - test after choosing which features to include "
   ]
  },
  {
   "cell_type": "code",
   "execution_count": null,
   "metadata": {},
   "outputs": [],
   "source": []
  },
  {
   "cell_type": "markdown",
   "metadata": {},
   "source": [
    "# 2ND RVERSE PCA"
   ]
  },
  {
   "cell_type": "code",
   "execution_count": 109,
   "metadata": {},
   "outputs": [
    {
     "data": {
      "text/html": [
       "        <script type=\"text/javascript\">\n",
       "        window.PlotlyConfig = {MathJaxConfig: 'local'};\n",
       "        if (window.MathJax) {MathJax.Hub.Config({SVG: {font: \"STIX-Web\"}});}\n",
       "        if (typeof require !== 'undefined') {\n",
       "        require.undef(\"plotly\");\n",
       "        requirejs.config({\n",
       "            paths: {\n",
       "                'plotly': ['https://cdn.plot.ly/plotly-latest.min']\n",
       "            }\n",
       "        });\n",
       "        require(['plotly'], function(Plotly) {\n",
       "            window._Plotly = Plotly;\n",
       "        });\n",
       "        }\n",
       "        </script>\n",
       "        "
      ]
     },
     "metadata": {},
     "output_type": "display_data"
    }
   ],
   "source": [
    "import pandas as pd\n",
    "import numpy as np\n",
    "import seaborn as sns\n",
    "import matplotlib.pyplot as plt\n",
    "from sklearn.preprocessing import StandardScaler\n",
    "from sklearn.decomposition import PCA\n",
    "from statsmodels.tsa.stattools import adfuller\n",
    "from matplotlib.ticker import MaxNLocator\n",
    "from scipy import stats\n",
    "\n",
    "import plotly.graph_objs as go\n",
    "from plotly.graph_objs import *\n",
    "from plotly.offline import download_plotlyjs, init_notebook_mode, plot, iplot\n",
    "\n",
    "init_notebook_mode(connected=True)\n",
    "\n"
   ]
  },
  {
   "cell_type": "code",
   "execution_count": 120,
   "metadata": {},
   "outputs": [
    {
     "name": "stdout",
     "output_type": "stream",
     "text": [
      "[*********************100%***********************]  23 of 23 completed\n"
     ]
    }
   ],
   "source": [
    "# GETTING DIVERSE SET OF DATA \n",
    "mix_asset_class = pdr.get_data_yahoo(\"AMZN GS ZC=F ES=F NG=F DVEM MORT PSJ SCATX RAAAX UMPSX EURJPY=X INR=X MXN=X ^MXX ^IXIC ^STOXX50E ^GDAXI ^VIX ^FTSE ^N225 ^HSI ^KS11\",\n",
    "                                     start=\"2005-01-01\",\n",
    "                                     end=\"2020-06-21\")['Close']"
   ]
  },
  {
   "cell_type": "code",
   "execution_count": 123,
   "metadata": {},
   "outputs": [],
   "source": [
    "mix_asset_class = mix_asset_class.dropna()"
   ]
  },
  {
   "cell_type": "code",
   "execution_count": 124,
   "metadata": {},
   "outputs": [
    {
     "data": {
      "text/html": [
       "<div>\n",
       "<style scoped>\n",
       "    .dataframe tbody tr th:only-of-type {\n",
       "        vertical-align: middle;\n",
       "    }\n",
       "\n",
       "    .dataframe tbody tr th {\n",
       "        vertical-align: top;\n",
       "    }\n",
       "\n",
       "    .dataframe thead th {\n",
       "        text-align: right;\n",
       "    }\n",
       "</style>\n",
       "<table border=\"1\" class=\"dataframe\">\n",
       "  <thead>\n",
       "    <tr style=\"text-align: right;\">\n",
       "      <th></th>\n",
       "      <th>AMZN</th>\n",
       "      <th>DVEM</th>\n",
       "      <th>ES=F</th>\n",
       "      <th>EURJPY=X</th>\n",
       "      <th>GS</th>\n",
       "      <th>INR=X</th>\n",
       "      <th>MORT</th>\n",
       "      <th>MXN=X</th>\n",
       "      <th>NG=F</th>\n",
       "      <th>PSJ</th>\n",
       "      <th>...</th>\n",
       "      <th>ZC=F</th>\n",
       "      <th>^FTSE</th>\n",
       "      <th>^GDAXI</th>\n",
       "      <th>^HSI</th>\n",
       "      <th>^IXIC</th>\n",
       "      <th>^KS11</th>\n",
       "      <th>^MXX</th>\n",
       "      <th>^N225</th>\n",
       "      <th>^STOXX50E</th>\n",
       "      <th>^VIX</th>\n",
       "    </tr>\n",
       "    <tr>\n",
       "      <th>Date</th>\n",
       "      <th></th>\n",
       "      <th></th>\n",
       "      <th></th>\n",
       "      <th></th>\n",
       "      <th></th>\n",
       "      <th></th>\n",
       "      <th></th>\n",
       "      <th></th>\n",
       "      <th></th>\n",
       "      <th></th>\n",
       "      <th></th>\n",
       "      <th></th>\n",
       "      <th></th>\n",
       "      <th></th>\n",
       "      <th></th>\n",
       "      <th></th>\n",
       "      <th></th>\n",
       "      <th></th>\n",
       "      <th></th>\n",
       "      <th></th>\n",
       "      <th></th>\n",
       "    </tr>\n",
       "  </thead>\n",
       "  <tbody>\n",
       "    <tr>\n",
       "      <th>2016-04-07</th>\n",
       "      <td>591.429993</td>\n",
       "      <td>24.500000</td>\n",
       "      <td>2035.00</td>\n",
       "      <td>125.077003</td>\n",
       "      <td>150.410004</td>\n",
       "      <td>66.532997</td>\n",
       "      <td>19.40</td>\n",
       "      <td>17.880100</td>\n",
       "      <td>2.018</td>\n",
       "      <td>41.650002</td>\n",
       "      <td>...</td>\n",
       "      <td>361.50</td>\n",
       "      <td>6136.899902</td>\n",
       "      <td>9530.620117</td>\n",
       "      <td>20266.050781</td>\n",
       "      <td>4848.370117</td>\n",
       "      <td>1973.890015</td>\n",
       "      <td>45052.160156</td>\n",
       "      <td>15749.839844</td>\n",
       "      <td>2871.570068</td>\n",
       "      <td>16.160000</td>\n",
       "    </tr>\n",
       "    <tr>\n",
       "      <th>2016-04-08</th>\n",
       "      <td>594.599976</td>\n",
       "      <td>24.961000</td>\n",
       "      <td>2040.75</td>\n",
       "      <td>123.287003</td>\n",
       "      <td>150.279999</td>\n",
       "      <td>66.778999</td>\n",
       "      <td>19.50</td>\n",
       "      <td>17.767900</td>\n",
       "      <td>1.990</td>\n",
       "      <td>41.740002</td>\n",
       "      <td>...</td>\n",
       "      <td>362.25</td>\n",
       "      <td>6204.399902</td>\n",
       "      <td>9622.259766</td>\n",
       "      <td>20370.400391</td>\n",
       "      <td>4850.689941</td>\n",
       "      <td>1972.050049</td>\n",
       "      <td>44859.488281</td>\n",
       "      <td>15821.519531</td>\n",
       "      <td>2911.979980</td>\n",
       "      <td>15.360000</td>\n",
       "    </tr>\n",
       "    <tr>\n",
       "      <th>2016-04-11</th>\n",
       "      <td>595.929993</td>\n",
       "      <td>25.240000</td>\n",
       "      <td>2034.50</td>\n",
       "      <td>123.521004</td>\n",
       "      <td>152.199997</td>\n",
       "      <td>66.543999</td>\n",
       "      <td>19.75</td>\n",
       "      <td>17.650600</td>\n",
       "      <td>1.912</td>\n",
       "      <td>41.340000</td>\n",
       "      <td>...</td>\n",
       "      <td>356.75</td>\n",
       "      <td>6200.100098</td>\n",
       "      <td>9682.990234</td>\n",
       "      <td>20440.810547</td>\n",
       "      <td>4833.399902</td>\n",
       "      <td>1970.369995</td>\n",
       "      <td>44760.531250</td>\n",
       "      <td>15751.129883</td>\n",
       "      <td>2924.229980</td>\n",
       "      <td>16.260000</td>\n",
       "    </tr>\n",
       "    <tr>\n",
       "      <th>2016-04-12</th>\n",
       "      <td>603.169983</td>\n",
       "      <td>25.320000</td>\n",
       "      <td>2055.75</td>\n",
       "      <td>123.171997</td>\n",
       "      <td>154.309998</td>\n",
       "      <td>66.290001</td>\n",
       "      <td>19.77</td>\n",
       "      <td>17.475100</td>\n",
       "      <td>2.004</td>\n",
       "      <td>41.220001</td>\n",
       "      <td>...</td>\n",
       "      <td>362.75</td>\n",
       "      <td>6242.399902</td>\n",
       "      <td>9761.469727</td>\n",
       "      <td>20504.439453</td>\n",
       "      <td>4872.089844</td>\n",
       "      <td>1981.319946</td>\n",
       "      <td>45090.671875</td>\n",
       "      <td>15928.790039</td>\n",
       "      <td>2942.090088</td>\n",
       "      <td>14.850000</td>\n",
       "    </tr>\n",
       "    <tr>\n",
       "      <th>2016-04-14</th>\n",
       "      <td>620.750000</td>\n",
       "      <td>25.980000</td>\n",
       "      <td>2076.50</td>\n",
       "      <td>123.410004</td>\n",
       "      <td>160.910004</td>\n",
       "      <td>66.525002</td>\n",
       "      <td>19.84</td>\n",
       "      <td>17.431700</td>\n",
       "      <td>1.970</td>\n",
       "      <td>42.090000</td>\n",
       "      <td>...</td>\n",
       "      <td>374.00</td>\n",
       "      <td>6365.100098</td>\n",
       "      <td>10093.650391</td>\n",
       "      <td>21337.810547</td>\n",
       "      <td>4945.890137</td>\n",
       "      <td>2015.930054</td>\n",
       "      <td>45403.539062</td>\n",
       "      <td>16911.050781</td>\n",
       "      <td>3060.860107</td>\n",
       "      <td>13.720000</td>\n",
       "    </tr>\n",
       "    <tr>\n",
       "      <th>...</th>\n",
       "      <td>...</td>\n",
       "      <td>...</td>\n",
       "      <td>...</td>\n",
       "      <td>...</td>\n",
       "      <td>...</td>\n",
       "      <td>...</td>\n",
       "      <td>...</td>\n",
       "      <td>...</td>\n",
       "      <td>...</td>\n",
       "      <td>...</td>\n",
       "      <td>...</td>\n",
       "      <td>...</td>\n",
       "      <td>...</td>\n",
       "      <td>...</td>\n",
       "      <td>...</td>\n",
       "      <td>...</td>\n",
       "      <td>...</td>\n",
       "      <td>...</td>\n",
       "      <td>...</td>\n",
       "      <td>...</td>\n",
       "      <td>...</td>\n",
       "    </tr>\n",
       "    <tr>\n",
       "      <th>2020-03-31</th>\n",
       "      <td>1949.719971</td>\n",
       "      <td>23.440001</td>\n",
       "      <td>2569.75</td>\n",
       "      <td>119.150002</td>\n",
       "      <td>154.589996</td>\n",
       "      <td>75.400002</td>\n",
       "      <td>10.00</td>\n",
       "      <td>23.833000</td>\n",
       "      <td>1.640</td>\n",
       "      <td>85.739998</td>\n",
       "      <td>...</td>\n",
       "      <td>340.75</td>\n",
       "      <td>5672.000000</td>\n",
       "      <td>9935.839844</td>\n",
       "      <td>23603.480469</td>\n",
       "      <td>7700.100098</td>\n",
       "      <td>1754.640015</td>\n",
       "      <td>34554.531250</td>\n",
       "      <td>18917.009766</td>\n",
       "      <td>2786.899902</td>\n",
       "      <td>53.540001</td>\n",
       "    </tr>\n",
       "    <tr>\n",
       "      <th>2020-04-01</th>\n",
       "      <td>1907.699951</td>\n",
       "      <td>22.468700</td>\n",
       "      <td>2448.00</td>\n",
       "      <td>118.543999</td>\n",
       "      <td>145.289993</td>\n",
       "      <td>75.324997</td>\n",
       "      <td>8.45</td>\n",
       "      <td>23.750999</td>\n",
       "      <td>1.587</td>\n",
       "      <td>81.849998</td>\n",
       "      <td>...</td>\n",
       "      <td>334.75</td>\n",
       "      <td>5454.600098</td>\n",
       "      <td>9544.750000</td>\n",
       "      <td>23085.789062</td>\n",
       "      <td>7360.580078</td>\n",
       "      <td>1685.459961</td>\n",
       "      <td>33691.878906</td>\n",
       "      <td>18065.410156</td>\n",
       "      <td>2680.300049</td>\n",
       "      <td>57.060001</td>\n",
       "    </tr>\n",
       "    <tr>\n",
       "      <th>2020-04-02</th>\n",
       "      <td>1918.829956</td>\n",
       "      <td>23.190001</td>\n",
       "      <td>2516.50</td>\n",
       "      <td>117.489998</td>\n",
       "      <td>149.929993</td>\n",
       "      <td>77.570000</td>\n",
       "      <td>8.25</td>\n",
       "      <td>24.215500</td>\n",
       "      <td>1.552</td>\n",
       "      <td>83.349998</td>\n",
       "      <td>...</td>\n",
       "      <td>333.50</td>\n",
       "      <td>5480.200195</td>\n",
       "      <td>9570.820312</td>\n",
       "      <td>23280.060547</td>\n",
       "      <td>7487.310059</td>\n",
       "      <td>1724.859985</td>\n",
       "      <td>33590.621094</td>\n",
       "      <td>17818.720703</td>\n",
       "      <td>2688.489990</td>\n",
       "      <td>50.910000</td>\n",
       "    </tr>\n",
       "    <tr>\n",
       "      <th>2020-04-03</th>\n",
       "      <td>1906.589966</td>\n",
       "      <td>22.570000</td>\n",
       "      <td>2482.75</td>\n",
       "      <td>117.139999</td>\n",
       "      <td>146.929993</td>\n",
       "      <td>77.139999</td>\n",
       "      <td>7.46</td>\n",
       "      <td>24.235300</td>\n",
       "      <td>1.621</td>\n",
       "      <td>82.120003</td>\n",
       "      <td>...</td>\n",
       "      <td>330.75</td>\n",
       "      <td>5415.500000</td>\n",
       "      <td>9525.769531</td>\n",
       "      <td>23236.109375</td>\n",
       "      <td>7373.080078</td>\n",
       "      <td>1725.439941</td>\n",
       "      <td>33075.410156</td>\n",
       "      <td>17820.189453</td>\n",
       "      <td>2662.989990</td>\n",
       "      <td>46.799999</td>\n",
       "    </tr>\n",
       "    <tr>\n",
       "      <th>2020-04-06</th>\n",
       "      <td>1997.589966</td>\n",
       "      <td>23.799999</td>\n",
       "      <td>2644.50</td>\n",
       "      <td>117.447998</td>\n",
       "      <td>158.229996</td>\n",
       "      <td>76.230003</td>\n",
       "      <td>8.29</td>\n",
       "      <td>25.261999</td>\n",
       "      <td>1.731</td>\n",
       "      <td>87.500000</td>\n",
       "      <td>...</td>\n",
       "      <td>327.75</td>\n",
       "      <td>5582.399902</td>\n",
       "      <td>10075.169922</td>\n",
       "      <td>23749.119141</td>\n",
       "      <td>7913.240234</td>\n",
       "      <td>1791.880005</td>\n",
       "      <td>34381.558594</td>\n",
       "      <td>18576.300781</td>\n",
       "      <td>2795.969971</td>\n",
       "      <td>45.240002</td>\n",
       "    </tr>\n",
       "  </tbody>\n",
       "</table>\n",
       "<p>806 rows × 23 columns</p>\n",
       "</div>"
      ],
      "text/plain": [
       "                   AMZN       DVEM     ES=F    EURJPY=X          GS  \\\n",
       "Date                                                                  \n",
       "2016-04-07   591.429993  24.500000  2035.00  125.077003  150.410004   \n",
       "2016-04-08   594.599976  24.961000  2040.75  123.287003  150.279999   \n",
       "2016-04-11   595.929993  25.240000  2034.50  123.521004  152.199997   \n",
       "2016-04-12   603.169983  25.320000  2055.75  123.171997  154.309998   \n",
       "2016-04-14   620.750000  25.980000  2076.50  123.410004  160.910004   \n",
       "...                 ...        ...      ...         ...         ...   \n",
       "2020-03-31  1949.719971  23.440001  2569.75  119.150002  154.589996   \n",
       "2020-04-01  1907.699951  22.468700  2448.00  118.543999  145.289993   \n",
       "2020-04-02  1918.829956  23.190001  2516.50  117.489998  149.929993   \n",
       "2020-04-03  1906.589966  22.570000  2482.75  117.139999  146.929993   \n",
       "2020-04-06  1997.589966  23.799999  2644.50  117.447998  158.229996   \n",
       "\n",
       "                INR=X   MORT      MXN=X   NG=F        PSJ  ...    ZC=F  \\\n",
       "Date                                                       ...           \n",
       "2016-04-07  66.532997  19.40  17.880100  2.018  41.650002  ...  361.50   \n",
       "2016-04-08  66.778999  19.50  17.767900  1.990  41.740002  ...  362.25   \n",
       "2016-04-11  66.543999  19.75  17.650600  1.912  41.340000  ...  356.75   \n",
       "2016-04-12  66.290001  19.77  17.475100  2.004  41.220001  ...  362.75   \n",
       "2016-04-14  66.525002  19.84  17.431700  1.970  42.090000  ...  374.00   \n",
       "...               ...    ...        ...    ...        ...  ...     ...   \n",
       "2020-03-31  75.400002  10.00  23.833000  1.640  85.739998  ...  340.75   \n",
       "2020-04-01  75.324997   8.45  23.750999  1.587  81.849998  ...  334.75   \n",
       "2020-04-02  77.570000   8.25  24.215500  1.552  83.349998  ...  333.50   \n",
       "2020-04-03  77.139999   7.46  24.235300  1.621  82.120003  ...  330.75   \n",
       "2020-04-06  76.230003   8.29  25.261999  1.731  87.500000  ...  327.75   \n",
       "\n",
       "                  ^FTSE        ^GDAXI          ^HSI        ^IXIC        ^KS11  \\\n",
       "Date                                                                            \n",
       "2016-04-07  6136.899902   9530.620117  20266.050781  4848.370117  1973.890015   \n",
       "2016-04-08  6204.399902   9622.259766  20370.400391  4850.689941  1972.050049   \n",
       "2016-04-11  6200.100098   9682.990234  20440.810547  4833.399902  1970.369995   \n",
       "2016-04-12  6242.399902   9761.469727  20504.439453  4872.089844  1981.319946   \n",
       "2016-04-14  6365.100098  10093.650391  21337.810547  4945.890137  2015.930054   \n",
       "...                 ...           ...           ...          ...          ...   \n",
       "2020-03-31  5672.000000   9935.839844  23603.480469  7700.100098  1754.640015   \n",
       "2020-04-01  5454.600098   9544.750000  23085.789062  7360.580078  1685.459961   \n",
       "2020-04-02  5480.200195   9570.820312  23280.060547  7487.310059  1724.859985   \n",
       "2020-04-03  5415.500000   9525.769531  23236.109375  7373.080078  1725.439941   \n",
       "2020-04-06  5582.399902  10075.169922  23749.119141  7913.240234  1791.880005   \n",
       "\n",
       "                    ^MXX         ^N225    ^STOXX50E       ^VIX  \n",
       "Date                                                            \n",
       "2016-04-07  45052.160156  15749.839844  2871.570068  16.160000  \n",
       "2016-04-08  44859.488281  15821.519531  2911.979980  15.360000  \n",
       "2016-04-11  44760.531250  15751.129883  2924.229980  16.260000  \n",
       "2016-04-12  45090.671875  15928.790039  2942.090088  14.850000  \n",
       "2016-04-14  45403.539062  16911.050781  3060.860107  13.720000  \n",
       "...                  ...           ...          ...        ...  \n",
       "2020-03-31  34554.531250  18917.009766  2786.899902  53.540001  \n",
       "2020-04-01  33691.878906  18065.410156  2680.300049  57.060001  \n",
       "2020-04-02  33590.621094  17818.720703  2688.489990  50.910000  \n",
       "2020-04-03  33075.410156  17820.189453  2662.989990  46.799999  \n",
       "2020-04-06  34381.558594  18576.300781  2795.969971  45.240002  \n",
       "\n",
       "[806 rows x 23 columns]"
      ]
     },
     "execution_count": 124,
     "metadata": {},
     "output_type": "execute_result"
    }
   ],
   "source": [
    "mix_asset_class"
   ]
  },
  {
   "cell_type": "code",
   "execution_count": 125,
   "metadata": {},
   "outputs": [],
   "source": [
    "def logrets(dataframe):\n",
    "    dataframe = dataframe.dropna()\n",
    "    rets = np.log(dataframe.astype('float') / dataframe.astype('float').shift(1))\n",
    "    return rets"
   ]
  },
  {
   "cell_type": "code",
   "execution_count": 126,
   "metadata": {},
   "outputs": [],
   "source": [
    "mix_asset_class_rets = logrets(mix_asset_class).dropna()"
   ]
  },
  {
   "cell_type": "code",
   "execution_count": 127,
   "metadata": {},
   "outputs": [
    {
     "data": {
      "text/html": [
       "<div>\n",
       "<style scoped>\n",
       "    .dataframe tbody tr th:only-of-type {\n",
       "        vertical-align: middle;\n",
       "    }\n",
       "\n",
       "    .dataframe tbody tr th {\n",
       "        vertical-align: top;\n",
       "    }\n",
       "\n",
       "    .dataframe thead th {\n",
       "        text-align: right;\n",
       "    }\n",
       "</style>\n",
       "<table border=\"1\" class=\"dataframe\">\n",
       "  <thead>\n",
       "    <tr style=\"text-align: right;\">\n",
       "      <th></th>\n",
       "      <th>AMZN</th>\n",
       "      <th>DVEM</th>\n",
       "      <th>ES=F</th>\n",
       "      <th>EURJPY=X</th>\n",
       "      <th>GS</th>\n",
       "      <th>INR=X</th>\n",
       "      <th>MORT</th>\n",
       "      <th>MXN=X</th>\n",
       "      <th>NG=F</th>\n",
       "      <th>PSJ</th>\n",
       "      <th>...</th>\n",
       "      <th>ZC=F</th>\n",
       "      <th>^FTSE</th>\n",
       "      <th>^GDAXI</th>\n",
       "      <th>^HSI</th>\n",
       "      <th>^IXIC</th>\n",
       "      <th>^KS11</th>\n",
       "      <th>^MXX</th>\n",
       "      <th>^N225</th>\n",
       "      <th>^STOXX50E</th>\n",
       "      <th>^VIX</th>\n",
       "    </tr>\n",
       "    <tr>\n",
       "      <th>Date</th>\n",
       "      <th></th>\n",
       "      <th></th>\n",
       "      <th></th>\n",
       "      <th></th>\n",
       "      <th></th>\n",
       "      <th></th>\n",
       "      <th></th>\n",
       "      <th></th>\n",
       "      <th></th>\n",
       "      <th></th>\n",
       "      <th></th>\n",
       "      <th></th>\n",
       "      <th></th>\n",
       "      <th></th>\n",
       "      <th></th>\n",
       "      <th></th>\n",
       "      <th></th>\n",
       "      <th></th>\n",
       "      <th></th>\n",
       "      <th></th>\n",
       "      <th></th>\n",
       "    </tr>\n",
       "  </thead>\n",
       "  <tbody>\n",
       "    <tr>\n",
       "      <th>2016-04-08</th>\n",
       "      <td>0.005346</td>\n",
       "      <td>0.018642</td>\n",
       "      <td>0.002822</td>\n",
       "      <td>-0.014415</td>\n",
       "      <td>-0.000865</td>\n",
       "      <td>0.003691</td>\n",
       "      <td>0.005141</td>\n",
       "      <td>-0.006295</td>\n",
       "      <td>-0.013972</td>\n",
       "      <td>0.002159</td>\n",
       "      <td>...</td>\n",
       "      <td>0.002073</td>\n",
       "      <td>0.010939</td>\n",
       "      <td>0.009569</td>\n",
       "      <td>0.005136</td>\n",
       "      <td>0.000478</td>\n",
       "      <td>-0.000933</td>\n",
       "      <td>-0.004286</td>\n",
       "      <td>0.004541</td>\n",
       "      <td>0.013974</td>\n",
       "      <td>-0.050772</td>\n",
       "    </tr>\n",
       "    <tr>\n",
       "      <th>2016-04-11</th>\n",
       "      <td>0.002234</td>\n",
       "      <td>0.011115</td>\n",
       "      <td>-0.003067</td>\n",
       "      <td>0.001896</td>\n",
       "      <td>0.012695</td>\n",
       "      <td>-0.003525</td>\n",
       "      <td>0.012739</td>\n",
       "      <td>-0.006624</td>\n",
       "      <td>-0.039985</td>\n",
       "      <td>-0.009629</td>\n",
       "      <td>...</td>\n",
       "      <td>-0.015299</td>\n",
       "      <td>-0.000693</td>\n",
       "      <td>0.006292</td>\n",
       "      <td>0.003451</td>\n",
       "      <td>-0.003571</td>\n",
       "      <td>-0.000852</td>\n",
       "      <td>-0.002208</td>\n",
       "      <td>-0.004459</td>\n",
       "      <td>0.004198</td>\n",
       "      <td>0.056941</td>\n",
       "    </tr>\n",
       "    <tr>\n",
       "      <th>2016-04-12</th>\n",
       "      <td>0.012076</td>\n",
       "      <td>0.003165</td>\n",
       "      <td>0.010391</td>\n",
       "      <td>-0.002829</td>\n",
       "      <td>0.013768</td>\n",
       "      <td>-0.003824</td>\n",
       "      <td>0.001012</td>\n",
       "      <td>-0.009993</td>\n",
       "      <td>0.046995</td>\n",
       "      <td>-0.002907</td>\n",
       "      <td>...</td>\n",
       "      <td>0.016679</td>\n",
       "      <td>0.006799</td>\n",
       "      <td>0.008072</td>\n",
       "      <td>0.003108</td>\n",
       "      <td>0.007973</td>\n",
       "      <td>0.005542</td>\n",
       "      <td>0.007349</td>\n",
       "      <td>0.011216</td>\n",
       "      <td>0.006089</td>\n",
       "      <td>-0.090708</td>\n",
       "    </tr>\n",
       "    <tr>\n",
       "      <th>2016-04-14</th>\n",
       "      <td>0.028729</td>\n",
       "      <td>0.025732</td>\n",
       "      <td>0.010043</td>\n",
       "      <td>0.001930</td>\n",
       "      <td>0.041882</td>\n",
       "      <td>0.003539</td>\n",
       "      <td>0.003534</td>\n",
       "      <td>-0.002487</td>\n",
       "      <td>-0.017112</td>\n",
       "      <td>0.020887</td>\n",
       "      <td>...</td>\n",
       "      <td>0.030542</td>\n",
       "      <td>0.019465</td>\n",
       "      <td>0.033464</td>\n",
       "      <td>0.039839</td>\n",
       "      <td>0.015034</td>\n",
       "      <td>0.017317</td>\n",
       "      <td>0.006915</td>\n",
       "      <td>0.059839</td>\n",
       "      <td>0.039576</td>\n",
       "      <td>-0.079145</td>\n",
       "    </tr>\n",
       "    <tr>\n",
       "      <th>2016-04-15</th>\n",
       "      <td>0.008246</td>\n",
       "      <td>0.000000</td>\n",
       "      <td>-0.000723</td>\n",
       "      <td>-0.002028</td>\n",
       "      <td>-0.014964</td>\n",
       "      <td>0.001682</td>\n",
       "      <td>0.002517</td>\n",
       "      <td>0.006513</td>\n",
       "      <td>-0.035128</td>\n",
       "      <td>0.006866</td>\n",
       "      <td>...</td>\n",
       "      <td>0.011960</td>\n",
       "      <td>-0.003352</td>\n",
       "      <td>-0.004178</td>\n",
       "      <td>-0.001001</td>\n",
       "      <td>-0.001552</td>\n",
       "      <td>-0.000605</td>\n",
       "      <td>0.002925</td>\n",
       "      <td>-0.003734</td>\n",
       "      <td>-0.002132</td>\n",
       "      <td>-0.007315</td>\n",
       "    </tr>\n",
       "    <tr>\n",
       "      <th>...</th>\n",
       "      <td>...</td>\n",
       "      <td>...</td>\n",
       "      <td>...</td>\n",
       "      <td>...</td>\n",
       "      <td>...</td>\n",
       "      <td>...</td>\n",
       "      <td>...</td>\n",
       "      <td>...</td>\n",
       "      <td>...</td>\n",
       "      <td>...</td>\n",
       "      <td>...</td>\n",
       "      <td>...</td>\n",
       "      <td>...</td>\n",
       "      <td>...</td>\n",
       "      <td>...</td>\n",
       "      <td>...</td>\n",
       "      <td>...</td>\n",
       "      <td>...</td>\n",
       "      <td>...</td>\n",
       "      <td>...</td>\n",
       "      <td>...</td>\n",
       "    </tr>\n",
       "    <tr>\n",
       "      <th>2020-03-31</th>\n",
       "      <td>-0.007272</td>\n",
       "      <td>-0.000776</td>\n",
       "      <td>-0.016020</td>\n",
       "      <td>-0.004029</td>\n",
       "      <td>-0.032020</td>\n",
       "      <td>-0.000862</td>\n",
       "      <td>-0.067659</td>\n",
       "      <td>0.010053</td>\n",
       "      <td>-0.030032</td>\n",
       "      <td>-0.010211</td>\n",
       "      <td>...</td>\n",
       "      <td>-0.001466</td>\n",
       "      <td>0.019278</td>\n",
       "      <td>0.012138</td>\n",
       "      <td>0.018315</td>\n",
       "      <td>-0.009571</td>\n",
       "      <td>0.021615</td>\n",
       "      <td>0.010314</td>\n",
       "      <td>-0.008840</td>\n",
       "      <td>0.007665</td>\n",
       "      <td>-0.064025</td>\n",
       "    </tr>\n",
       "    <tr>\n",
       "      <th>2020-04-01</th>\n",
       "      <td>-0.021787</td>\n",
       "      <td>-0.042321</td>\n",
       "      <td>-0.048537</td>\n",
       "      <td>-0.005099</td>\n",
       "      <td>-0.062045</td>\n",
       "      <td>-0.000995</td>\n",
       "      <td>-0.168419</td>\n",
       "      <td>-0.003447</td>\n",
       "      <td>-0.032851</td>\n",
       "      <td>-0.046431</td>\n",
       "      <td>...</td>\n",
       "      <td>-0.017765</td>\n",
       "      <td>-0.039082</td>\n",
       "      <td>-0.040157</td>\n",
       "      <td>-0.022177</td>\n",
       "      <td>-0.045095</td>\n",
       "      <td>-0.040225</td>\n",
       "      <td>-0.025282</td>\n",
       "      <td>-0.046062</td>\n",
       "      <td>-0.039001</td>\n",
       "      <td>0.063674</td>\n",
       "    </tr>\n",
       "    <tr>\n",
       "      <th>2020-04-02</th>\n",
       "      <td>0.005817</td>\n",
       "      <td>0.031598</td>\n",
       "      <td>0.027598</td>\n",
       "      <td>-0.008931</td>\n",
       "      <td>0.031437</td>\n",
       "      <td>0.029369</td>\n",
       "      <td>-0.023953</td>\n",
       "      <td>0.019368</td>\n",
       "      <td>-0.022301</td>\n",
       "      <td>0.018160</td>\n",
       "      <td>...</td>\n",
       "      <td>-0.003741</td>\n",
       "      <td>0.004682</td>\n",
       "      <td>0.002728</td>\n",
       "      <td>0.008380</td>\n",
       "      <td>0.017071</td>\n",
       "      <td>0.023107</td>\n",
       "      <td>-0.003010</td>\n",
       "      <td>-0.013749</td>\n",
       "      <td>0.003051</td>\n",
       "      <td>-0.114044</td>\n",
       "    </tr>\n",
       "    <tr>\n",
       "      <th>2020-04-03</th>\n",
       "      <td>-0.006399</td>\n",
       "      <td>-0.027100</td>\n",
       "      <td>-0.013502</td>\n",
       "      <td>-0.002983</td>\n",
       "      <td>-0.020212</td>\n",
       "      <td>-0.005559</td>\n",
       "      <td>-0.100658</td>\n",
       "      <td>0.000817</td>\n",
       "      <td>0.043499</td>\n",
       "      <td>-0.014867</td>\n",
       "      <td>...</td>\n",
       "      <td>-0.008280</td>\n",
       "      <td>-0.011876</td>\n",
       "      <td>-0.004718</td>\n",
       "      <td>-0.001890</td>\n",
       "      <td>-0.015374</td>\n",
       "      <td>0.000336</td>\n",
       "      <td>-0.015457</td>\n",
       "      <td>0.000082</td>\n",
       "      <td>-0.009530</td>\n",
       "      <td>-0.084176</td>\n",
       "    </tr>\n",
       "    <tr>\n",
       "      <th>2020-04-06</th>\n",
       "      <td>0.046625</td>\n",
       "      <td>0.053064</td>\n",
       "      <td>0.063115</td>\n",
       "      <td>0.002626</td>\n",
       "      <td>0.074093</td>\n",
       "      <td>-0.011867</td>\n",
       "      <td>0.105495</td>\n",
       "      <td>0.041491</td>\n",
       "      <td>0.065656</td>\n",
       "      <td>0.063457</td>\n",
       "      <td>...</td>\n",
       "      <td>-0.009112</td>\n",
       "      <td>0.030354</td>\n",
       "      <td>0.056073</td>\n",
       "      <td>0.021838</td>\n",
       "      <td>0.070702</td>\n",
       "      <td>0.037783</td>\n",
       "      <td>0.038730</td>\n",
       "      <td>0.041555</td>\n",
       "      <td>0.048730</td>\n",
       "      <td>-0.033901</td>\n",
       "    </tr>\n",
       "  </tbody>\n",
       "</table>\n",
       "<p>805 rows × 23 columns</p>\n",
       "</div>"
      ],
      "text/plain": [
       "                AMZN      DVEM      ES=F  EURJPY=X        GS     INR=X  \\\n",
       "Date                                                                     \n",
       "2016-04-08  0.005346  0.018642  0.002822 -0.014415 -0.000865  0.003691   \n",
       "2016-04-11  0.002234  0.011115 -0.003067  0.001896  0.012695 -0.003525   \n",
       "2016-04-12  0.012076  0.003165  0.010391 -0.002829  0.013768 -0.003824   \n",
       "2016-04-14  0.028729  0.025732  0.010043  0.001930  0.041882  0.003539   \n",
       "2016-04-15  0.008246  0.000000 -0.000723 -0.002028 -0.014964  0.001682   \n",
       "...              ...       ...       ...       ...       ...       ...   \n",
       "2020-03-31 -0.007272 -0.000776 -0.016020 -0.004029 -0.032020 -0.000862   \n",
       "2020-04-01 -0.021787 -0.042321 -0.048537 -0.005099 -0.062045 -0.000995   \n",
       "2020-04-02  0.005817  0.031598  0.027598 -0.008931  0.031437  0.029369   \n",
       "2020-04-03 -0.006399 -0.027100 -0.013502 -0.002983 -0.020212 -0.005559   \n",
       "2020-04-06  0.046625  0.053064  0.063115  0.002626  0.074093 -0.011867   \n",
       "\n",
       "                MORT     MXN=X      NG=F       PSJ  ...      ZC=F     ^FTSE  \\\n",
       "Date                                                ...                       \n",
       "2016-04-08  0.005141 -0.006295 -0.013972  0.002159  ...  0.002073  0.010939   \n",
       "2016-04-11  0.012739 -0.006624 -0.039985 -0.009629  ... -0.015299 -0.000693   \n",
       "2016-04-12  0.001012 -0.009993  0.046995 -0.002907  ...  0.016679  0.006799   \n",
       "2016-04-14  0.003534 -0.002487 -0.017112  0.020887  ...  0.030542  0.019465   \n",
       "2016-04-15  0.002517  0.006513 -0.035128  0.006866  ...  0.011960 -0.003352   \n",
       "...              ...       ...       ...       ...  ...       ...       ...   \n",
       "2020-03-31 -0.067659  0.010053 -0.030032 -0.010211  ... -0.001466  0.019278   \n",
       "2020-04-01 -0.168419 -0.003447 -0.032851 -0.046431  ... -0.017765 -0.039082   \n",
       "2020-04-02 -0.023953  0.019368 -0.022301  0.018160  ... -0.003741  0.004682   \n",
       "2020-04-03 -0.100658  0.000817  0.043499 -0.014867  ... -0.008280 -0.011876   \n",
       "2020-04-06  0.105495  0.041491  0.065656  0.063457  ... -0.009112  0.030354   \n",
       "\n",
       "              ^GDAXI      ^HSI     ^IXIC     ^KS11      ^MXX     ^N225  \\\n",
       "Date                                                                     \n",
       "2016-04-08  0.009569  0.005136  0.000478 -0.000933 -0.004286  0.004541   \n",
       "2016-04-11  0.006292  0.003451 -0.003571 -0.000852 -0.002208 -0.004459   \n",
       "2016-04-12  0.008072  0.003108  0.007973  0.005542  0.007349  0.011216   \n",
       "2016-04-14  0.033464  0.039839  0.015034  0.017317  0.006915  0.059839   \n",
       "2016-04-15 -0.004178 -0.001001 -0.001552 -0.000605  0.002925 -0.003734   \n",
       "...              ...       ...       ...       ...       ...       ...   \n",
       "2020-03-31  0.012138  0.018315 -0.009571  0.021615  0.010314 -0.008840   \n",
       "2020-04-01 -0.040157 -0.022177 -0.045095 -0.040225 -0.025282 -0.046062   \n",
       "2020-04-02  0.002728  0.008380  0.017071  0.023107 -0.003010 -0.013749   \n",
       "2020-04-03 -0.004718 -0.001890 -0.015374  0.000336 -0.015457  0.000082   \n",
       "2020-04-06  0.056073  0.021838  0.070702  0.037783  0.038730  0.041555   \n",
       "\n",
       "            ^STOXX50E      ^VIX  \n",
       "Date                             \n",
       "2016-04-08   0.013974 -0.050772  \n",
       "2016-04-11   0.004198  0.056941  \n",
       "2016-04-12   0.006089 -0.090708  \n",
       "2016-04-14   0.039576 -0.079145  \n",
       "2016-04-15  -0.002132 -0.007315  \n",
       "...               ...       ...  \n",
       "2020-03-31   0.007665 -0.064025  \n",
       "2020-04-01  -0.039001  0.063674  \n",
       "2020-04-02   0.003051 -0.114044  \n",
       "2020-04-03  -0.009530 -0.084176  \n",
       "2020-04-06   0.048730 -0.033901  \n",
       "\n",
       "[805 rows x 23 columns]"
      ]
     },
     "execution_count": 127,
     "metadata": {},
     "output_type": "execute_result"
    }
   ],
   "source": [
    "mix_asset_class_rets"
   ]
  },
  {
   "cell_type": "code",
   "execution_count": 128,
   "metadata": {},
   "outputs": [
    {
     "name": "stderr",
     "output_type": "stream",
     "text": [
      "/home/ash/miniconda3/lib/python3.7/site-packages/pandas/plotting/_matplotlib/converter.py:103: FutureWarning:\n",
      "\n",
      "Using an implicitly registered datetime converter for a matplotlib plotting method. The converter was registered by pandas on import. Future versions of pandas will require you to explicitly register matplotlib converters.\n",
      "\n",
      "To register the converters:\n",
      "\t>>> from pandas.plotting import register_matplotlib_converters\n",
      "\t>>> register_matplotlib_converters()\n",
      "\n"
     ]
    },
    {
     "data": {
      "image/png": "[encoded data removed]",
      "text/plain": [
       "<Figure size 432x288 with 1 Axes>"
      ]
     },
     "metadata": {
      "needs_background": "light"
     },
     "output_type": "display_data"
    }
   ],
   "source": [
    "plt.plot(mix_asset_class_rets)\n",
    "plt.title(\"All indicies\")\n",
    "plt.ylim([-0.4,0.5])\n",
    "plt.show()"
   ]
  },
  {
   "cell_type": "markdown",
   "metadata": {},
   "source": [
    "# Check if we have a stationary time series"
   ]
  },
  {
   "cell_type": "code",
   "execution_count": 136,
   "metadata": {},
   "outputs": [
    {
     "data": {
      "text/plain": [
       "'Result of ADF test: -11.769620255448629'"
      ]
     },
     "execution_count": 136,
     "metadata": {},
     "output_type": "execute_result"
    }
   ],
   "source": [
    "# If the ADF test statistic is < -4 then we can reject the null hypothesis - i.e. we have a stationary time series\n",
    "\n",
    "result = adfuller(mix_asset_class_rets.iloc[:,11].dropna())\n",
    "\"Result of ADF test: %s\" % result[0]"
   ]
  },
  {
   "cell_type": "code",
   "execution_count": 137,
   "metadata": {},
   "outputs": [
    {
     "data": {
      "text/plain": [
       "Date\n",
       "2016-04-08   -0.005767\n",
       "2016-04-11   -0.011634\n",
       "2016-04-12    0.013735\n",
       "2016-04-14    0.026406\n",
       "2016-04-15    0.001021\n",
       "                ...   \n",
       "2020-03-31   -0.011076\n",
       "2020-04-01   -0.047340\n",
       "2020-04-02   -0.019293\n",
       "2020-04-03   -0.013803\n",
       "2020-04-06    0.066503\n",
       "Name: SCATX, Length: 805, dtype: float64"
      ]
     },
     "execution_count": 137,
     "metadata": {},
     "output_type": "execute_result"
    }
   ],
   "source": [
    "mix_asset_class_rets.iloc[:,11]"
   ]
  },
  {
   "cell_type": "code",
   "execution_count": 139,
   "metadata": {},
   "outputs": [
    {
     "data": {
      "image/png": "[encoded data removed]",
      "text/plain": [
       "<Figure size 432x288 with 1 Axes>"
      ]
     },
     "metadata": {
      "needs_background": "light"
     },
     "output_type": "display_data"
    }
   ],
   "source": [
    "\n",
    "\n",
    "#plot a particular series - if it is approximately normal then there is a good chance we have a stationary series\n",
    "plt.hist(mix_asset_class_rets.iloc[:,10].dropna(),bins=50)\n",
    "plt.hist(mix_asset_class_rets.iloc[:,15].dropna(),bins=50)\n",
    "plt.hist(mix_asset_class_rets.iloc[:,20].dropna(),bins=50)\n",
    "plt.title(\"Distrubution of log returns for series %s %s and %s\" % (10, 15, 20))\n",
    "plt.grid(which='major')\n",
    "plt.show()"
   ]
  },
  {
   "cell_type": "code",
   "execution_count": 140,
   "metadata": {},
   "outputs": [],
   "source": [
    "#manually calculate correlation coefficents - normalise by stdev.\n",
    "mix_asset_class_rets = mix_asset_class_rets.dropna()\n",
    "m = mix_asset_class_rets.mean(axis=0)\n",
    "s = mix_asset_class_rets.std(ddof=1, axis=0)\n",
    " \n",
    "# normalised time-series as an input for PCA\n",
    "combo_pca = (mix_asset_class_rets - m)/s\n",
    " \n",
    "c = np.cov(combo_pca.values.T)     # covariance matrix   \n",
    "co = np.corrcoef(combo_pca.values.T) #correlation matrix"
   ]
  },
  {
   "cell_type": "code",
   "execution_count": 147,
   "metadata": {},
   "outputs": [
    {
     "data": {
      "application/vnd.plotly.v1+json": {
       "config": {
        "linkText": "Export to plot.ly",
        "plotlyServerURL": "https://plot.ly",
        "showLink": false
       },
       "data": [
        {
         "colorscale": [
          [
           0,
           "#440154"
          ],
          [
           0.1111111111111111,
           "#482878"
          ],
          [
           0.2222222222222222,
           "#3e4989"
          ],
          [
           0.3333333333333333,
           "#31688e"
          ],
          [
           0.4444444444444444,
           "#26828e"
          ],
          [
           0.5555555555555556,
           "#1f9e89"
          ],
          [
           0.6666666666666666,
           "#35b779"
          ],
          [
           0.7777777777777778,
           "#6ece58"
          ],
          [
           0.8888888888888888,
           "#b5de2b"
          ],
          [
           1,
           "#fde725"
          ]
         ],
         "type": "heatmap",
         "x": [
          "AMZN",
          "DVEM",
          "ES=F",
          "EURJPY=X",
          "GS",
          "INR=X",
          "MORT",
          "MXN=X",
          "NG=F",
          "PSJ",
          "RAAAX",
          "SCATX",
          "UMPSX",
          "ZC=F",
          "^FTSE",
          "^GDAXI",
          "^HSI",
          "^IXIC",
          "^KS11",
          "^MXX",
          "^N225",
          "^STOXX50E",
          "^VIX"
         ],
         "y": [
          "AMZN",
          "DVEM",
          "ES=F",
          "EURJPY=X",
          "GS",
          "INR=X",
          "MORT",
          "MXN=X",
          "NG=F",
          "PSJ",
          "RAAAX",
          "SCATX",
          "UMPSX",
          "ZC=F",
          "^FTSE",
          "^GDAXI",
          "^HSI",
          "^IXIC",
          "^KS11",
          "^MXX",
          "^N225",
          "^STOXX50E",
          "^VIX"
         ],
         "z": [
          [
           1,
           0.40290966359550157,
           0.549081961472682,
           -0.024949040221788482,
           0.3797631949982727,
           0.03894747717187901,
           0.18091933256142698,
           -0.05207583722033384,
           0.03459520746274998,
           0.651406728960204,
           0.4699448353746178,
           0.6473701034399634,
           0.45930267825896137,
           -0.018796969886798142,
           0.3027308694586652,
           0.33607615323210344,
           0.2118379820691701,
           0.6954307315469925,
           0.14029177502819393,
           0.32718899206797186,
           0.12733567943509091,
           0.31700258945878,
           -0.49822444943871574
          ],
          [
           0.40290966359550157,
           1,
           0.7092546459514137,
           0.1236396813567305,
           0.6384499170159595,
           0.05203687075223785,
           0.4637982080817147,
           -0.25302769590159435,
           0.10710273582072345,
           0.5756805419652974,
           0.5971063772544386,
           0.5620492333236092,
           0.7075482975157724,
           0.12001389685100186,
           0.6244554880433691,
           0.6082052372506112,
           0.5218572130833214,
           0.7108063575851808,
           0.4712802162117721,
           0.6243853847514412,
           0.2697365188037905,
           0.6299315231894168,
           -0.4983612655109672
          ],
          [
           0.549081961472682,
           0.7092546459514137,
           1,
           0.05899671427350115,
           0.7959567808486059,
           0.037064207512166485,
           0.5122869978010863,
           -0.16963422502770015,
           0.12031671323879481,
           0.7807811784245262,
           0.7981727019445127,
           0.7253374943130336,
           0.8599921327446308,
           0.08517899405597258,
           0.6500250619145185,
           0.6451351488068168,
           0.34548696794898787,
           0.939047803154638,
           0.371766517797261,
           0.5915646157965251,
           0.2775023810175901,
           0.6514866967869621,
           -0.6649639195595245
          ],
          [
           -0.024949040221788482,
           0.1236396813567305,
           0.05899671427350115,
           1,
           0.07403985224966296,
           -0.15275535923398328,
           -0.007163705811065754,
           -0.1504725976162219,
           0.03922853385649653,
           0.02876153919007787,
           -0.008740738975139715,
           0.028787928264408517,
           0.1115562295421739,
           0.00028541853085589165,
           0.21822965938923503,
           0.18883419875347388,
           0.23723099013328994,
           0.045758514577857345,
           0.2009044545389511,
           0.10726183306042825,
           0.31635314294889594,
           0.2084249202228553,
           -0.011207164034656067
          ],
          [
           0.3797631949982727,
           0.6384499170159595,
           0.7959567808486059,
           0.07403985224966296,
           1,
           0.05827861291801961,
           0.4354325340706514,
           -0.10547237018965348,
           0.12249560958166018,
           0.5872315713415134,
           0.584758867895684,
           0.5759198012111802,
           0.7418665726248497,
           0.07947176071134021,
           0.564122361963726,
           0.6059751772170955,
           0.3346458795895268,
           0.7565459363010837,
           0.2803522997795965,
           0.4878627176163185,
           0.24909313075361034,
           0.610723675056604,
           -0.5242031207920687
          ],
          [
           0.03894747717187901,
           0.05203687075223785,
           0.037064207512166485,
           -0.15275535923398328,
           0.05827861291801961,
           1,
           -0.03639215705744374,
           0.20946562328005555,
           0.06483870799615751,
           0.021313300466475282,
           0.01596891648149147,
           0.05159667108609821,
           0.00766184991393039,
           -0.05265469293264067,
           -0.03192105536640344,
           -0.029947859167641838,
           -0.16627747407265017,
           0.04309424076517127,
           -0.11970440203661845,
           0.018935815063089778,
           -0.09308030120956251,
           -0.0050885888807062655,
           -0.05695723407619015
          ],
          [
           0.18091933256142698,
           0.4637982080817147,
           0.5122869978010863,
           -0.007163705811065754,
           0.4354325340706514,
           -0.03639215705744374,
           1,
           -0.23335193930397757,
           0.09408796281561471,
           0.4023606294445132,
           0.5937110012233897,
           0.3418477376049352,
           0.5573093671228379,
           0.12818405676120817,
           0.3638126659481258,
           0.3239817020493667,
           0.19556571148346408,
           0.4596548625117628,
           0.2801740079408564,
           0.3610548741725875,
           0.15827700952499044,
           0.3435557986781324,
           -0.24524183368204786
          ],
          [
           -0.05207583722033384,
           -0.25302769590159435,
           -0.16963422502770015,
           -0.1504725976162219,
           -0.10547237018965348,
           0.20946562328005555,
           -0.23335193930397757,
           1,
           0.004172436466063517,
           -0.11842394225747017,
           -0.17428250052451796,
           -0.10513569057774794,
           -0.19125519421135526,
           -0.12668583969397149,
           -0.16421195840743408,
           -0.17745998850675965,
           -0.21013808639586246,
           -0.1296179590227919,
           -0.20422067556349938,
           -0.2581070811651167,
           -0.18394543270161692,
           -0.20924817017688135,
           0.125301586329779
          ],
          [
           0.03459520746274998,
           0.10710273582072345,
           0.12031671323879481,
           0.03922853385649653,
           0.12249560958166018,
           0.06483870799615751,
           0.09408796281561471,
           0.004172436466063517,
           1,
           0.026134299686553585,
           0.06667202303653937,
           0.047116329002029896,
           0.12131115483550843,
           0.008599922823005172,
           0.09418169498538712,
           0.08455289534872111,
           0.07572250778844063,
           0.08786869816454491,
           0.0896840047466463,
           0.13073772315162044,
           0.08195802514694717,
           0.08734862780922152,
           -0.04256115060855457
          ],
          [
           0.651406728960204,
           0.5756805419652974,
           0.7807811784245262,
           0.02876153919007787,
           0.5872315713415134,
           0.021313300466475282,
           0.4023606294445132,
           -0.11842394225747017,
           0.026134299686553585,
           1,
           0.6895082428810171,
           0.8429925199771388,
           0.7317673792193975,
           0.08123241230691321,
           0.48322229886852575,
           0.5257364417562145,
           0.286950835927899,
           0.8842779813638711,
           0.23256412336128648,
           0.4262522081478944,
           0.1968569263053894,
           0.5257275811288888,
           -0.6348805636462965
          ],
          [
           0.4699448353746178,
           0.5971063772544386,
           0.7981727019445127,
           -0.008740738975139715,
           0.584758867895684,
           0.01596891648149147,
           0.5937110012233897,
           -0.17428250052451796,
           0.06667202303653937,
           0.6895082428810171,
           1,
           0.6161038433659667,
           0.7329302390542567,
           0.06334414606712749,
           0.5142966443729022,
           0.4924895342654992,
           0.2962244438284373,
           0.7619763781944441,
           0.3369142012658087,
           0.5001969332405714,
           0.21556411340777618,
           0.4870851515015586,
           -0.49098141644122895
          ],
          [
           0.6473701034399634,
           0.5620492333236092,
           0.7253374943130336,
           0.028787928264408517,
           0.5759198012111802,
           0.05159667108609821,
           0.3418477376049352,
           -0.10513569057774794,
           0.047116329002029896,
           0.8429925199771388,
           0.6161038433659667,
           1,
           0.6843755272920646,
           0.08566560562881645,
           0.4543295566883716,
           0.5162718491087714,
           0.3035436281969649,
           0.8382354122590776,
           0.2391580845638836,
           0.4171236016879777,
           0.20952493996027655,
           0.5198907739402865,
           -0.6107674860730763
          ],
          [
           0.45930267825896137,
           0.7075482975157724,
           0.8599921327446308,
           0.1115562295421739,
           0.7418665726248497,
           0.00766184991393039,
           0.5573093671228379,
           -0.19125519421135526,
           0.12131115483550843,
           0.7317673792193975,
           0.7329302390542567,
           0.6843755272920646,
           1,
           0.07597607804392299,
           0.6673306326217459,
           0.6995559999809396,
           0.34830103864332335,
           0.8357736116782181,
           0.3504888809216524,
           0.5478514977742157,
           0.2942991743894913,
           0.7030402894064482,
           -0.5789125181618541
          ],
          [
           -0.018796969886798142,
           0.12001389685100186,
           0.08517899405597258,
           0.00028541853085589165,
           0.07947176071134021,
           -0.05265469293264067,
           0.12818405676120817,
           -0.12668583969397149,
           0.008599922823005172,
           0.08123241230691321,
           0.06334414606712749,
           0.08566560562881645,
           0.07597607804392299,
           1,
           0.12496769555796494,
           0.10344920351548186,
           0.08704074325481471,
           0.07231770738811015,
           0.09445516059964011,
           0.13207700863305155,
           0.08513828811472116,
           0.1127471995804391,
           -0.041785018715200475
          ],
          [
           0.3027308694586652,
           0.6244554880433691,
           0.6500250619145185,
           0.21822965938923503,
           0.564122361963726,
           -0.03192105536640344,
           0.3638126659481258,
           -0.16421195840743408,
           0.09418169498538712,
           0.48322229886852575,
           0.5142966443729022,
           0.4543295566883716,
           0.6673306326217459,
           0.12496769555796494,
           1,
           0.8265534643107734,
           0.5077394826736632,
           0.5991822249023186,
           0.4618510038314236,
           0.5357230741806825,
           0.41493374318430254,
           0.8533787040007209,
           -0.4598963667745558
          ],
          [
           0.33607615323210344,
           0.6082052372506112,
           0.6451351488068168,
           0.18883419875347388,
           0.6059751772170955,
           -0.029947859167641838,
           0.3239817020493667,
           -0.17745998850675965,
           0.08455289534872111,
           0.5257364417562145,
           0.4924895342654992,
           0.5162718491087714,
           0.6995559999809396,
           0.10344920351548186,
           0.8265534643107734,
           1,
           0.4811854490467188,
           0.6251719029747862,
           0.48148427632023594,
           0.4883679499874128,
           0.465978561922065,
           0.966364871965603,
           -0.5148692484961592
          ],
          [
           0.2118379820691701,
           0.5218572130833214,
           0.34548696794898787,
           0.23723099013328994,
           0.3346458795895268,
           -0.16627747407265017,
           0.19556571148346408,
           -0.21013808639586246,
           0.07572250778844063,
           0.286950835927899,
           0.2962244438284373,
           0.3035436281969649,
           0.34830103864332335,
           0.08704074325481471,
           0.5077394826736632,
           0.4811854490467188,
           1,
           0.35101560664838743,
           0.683386209431287,
           0.32848361345031996,
           0.598236917126647,
           0.48351655288557477,
           -0.28748669455239784
          ],
          [
           0.6954307315469925,
           0.7108063575851808,
           0.939047803154638,
           0.045758514577857345,
           0.7565459363010837,
           0.04309424076517127,
           0.4596548625117628,
           -0.1296179590227919,
           0.08786869816454491,
           0.8842779813638711,
           0.7619763781944441,
           0.8382354122590776,
           0.8357736116782181,
           0.07231770738811015,
           0.5991822249023186,
           0.6251719029747862,
           0.35101560664838743,
           1,
           0.3201991572708348,
           0.5527674380412906,
           0.2424962458627958,
           0.626261625907764,
           -0.6984283202740796
          ],
          [
           0.14029177502819393,
           0.4712802162117721,
           0.371766517797261,
           0.2009044545389511,
           0.2803522997795965,
           -0.11970440203661845,
           0.2801740079408564,
           -0.20422067556349938,
           0.0896840047466463,
           0.23256412336128648,
           0.3369142012658087,
           0.2391580845638836,
           0.3504888809216524,
           0.09445516059964011,
           0.4618510038314236,
           0.48148427632023594,
           0.683386209431287,
           0.3201991572708348,
           1,
           0.32856278906987696,
           0.6483842012200108,
           0.4623771694431112,
           -0.23682279219251426
          ],
          [
           0.32718899206797186,
           0.6243853847514412,
           0.5915646157965251,
           0.10726183306042825,
           0.4878627176163185,
           0.018935815063089778,
           0.3610548741725875,
           -0.2581070811651167,
           0.13073772315162044,
           0.4262522081478944,
           0.5001969332405714,
           0.4171236016879777,
           0.5478514977742157,
           0.13207700863305155,
           0.5357230741806825,
           0.4883679499874128,
           0.32848361345031996,
           0.5527674380412906,
           0.32856278906987696,
           1,
           0.23146959671153677,
           0.5165784485199414,
           -0.4051587135138263
          ],
          [
           0.12733567943509091,
           0.2697365188037905,
           0.2775023810175901,
           0.31635314294889594,
           0.24909313075361034,
           -0.09308030120956251,
           0.15827700952499044,
           -0.18394543270161692,
           0.08195802514694717,
           0.1968569263053894,
           0.21556411340777618,
           0.20952493996027655,
           0.2942991743894913,
           0.08513828811472116,
           0.41493374318430254,
           0.465978561922065,
           0.598236917126647,
           0.2424962458627958,
           0.6483842012200108,
           0.23146959671153677,
           1,
           0.4761228988385743,
           -0.22451118560791208
          ],
          [
           0.31700258945878,
           0.6299315231894168,
           0.6514866967869621,
           0.2084249202228553,
           0.610723675056604,
           -0.0050885888807062655,
           0.3435557986781324,
           -0.20924817017688135,
           0.08734862780922152,
           0.5257275811288888,
           0.4870851515015586,
           0.5198907739402865,
           0.7030402894064482,
           0.1127471995804391,
           0.8533787040007209,
           0.966364871965603,
           0.48351655288557477,
           0.626261625907764,
           0.4623771694431112,
           0.5165784485199414,
           0.4761228988385743,
           1,
           -0.5294057186499836
          ],
          [
           -0.49822444943871574,
           -0.4983612655109672,
           -0.6649639195595245,
           -0.011207164034656067,
           -0.5242031207920687,
           -0.05695723407619015,
           -0.24524183368204786,
           0.125301586329779,
           -0.04256115060855457,
           -0.6348805636462965,
           -0.49098141644122895,
           -0.6107674860730763,
           -0.5789125181618541,
           -0.041785018715200475,
           -0.4598963667745558,
           -0.5148692484961592,
           -0.28748669455239784,
           -0.6984283202740796,
           -0.23682279219251426,
           -0.4051587135138263,
           -0.22451118560791208,
           -0.5294057186499836,
           1
          ]
         ]
        }
       ],
       "layout": {
        "template": {
         "data": {
          "bar": [
           {
            "error_x": {
             "color": "#2a3f5f"
            },
            "error_y": {
             "color": "#2a3f5f"
            },
            "marker": {
             "line": {
              "color": "#E5ECF6",
              "width": 0.5
             }
            },
            "type": "bar"
           }
          ],
          "barpolar": [
           {
            "marker": {
             "line": {
              "color": "#E5ECF6",
              "width": 0.5
             }
            },
            "type": "barpolar"
           }
          ],
          "carpet": [
           {
            "aaxis": {
             "endlinecolor": "#2a3f5f",
             "gridcolor": "white",
             "linecolor": "white",
             "minorgridcolor": "white",
             "startlinecolor": "#2a3f5f"
            },
            "baxis": {
             "endlinecolor": "#2a3f5f",
             "gridcolor": "white",
             "linecolor": "white",
             "minorgridcolor": "white",
             "startlinecolor": "#2a3f5f"
            },
            "type": "carpet"
           }
          ],
          "choropleth": [
           {
            "colorbar": {
             "outlinewidth": 0,
             "ticks": ""
            },
            "type": "choropleth"
           }
          ],
          "contour": [
           {
            "colorbar": {
             "outlinewidth": 0,
             "ticks": ""
            },
            "colorscale": [
             [
              0,
              "#0d0887"
             ],
             [
              0.1111111111111111,
              "#46039f"
             ],
             [
              0.2222222222222222,
              "#7201a8"
             ],
             [
              0.3333333333333333,
              "#9c179e"
             ],
             [
              0.4444444444444444,
              "#bd3786"
             ],
             [
              0.5555555555555556,
              "#d8576b"
             ],
             [
              0.6666666666666666,
              "#ed7953"
             ],
             [
              0.7777777777777778,
              "#fb9f3a"
             ],
             [
              0.8888888888888888,
              "#fdca26"
             ],
             [
              1,
              "#f0f921"
             ]
            ],
            "type": "contour"
           }
          ],
          "contourcarpet": [
           {
            "colorbar": {
             "outlinewidth": 0,
             "ticks": ""
            },
            "type": "contourcarpet"
           }
          ],
          "heatmap": [
           {
            "colorbar": {
             "outlinewidth": 0,
             "ticks": ""
            },
            "colorscale": [
             [
              0,
              "#0d0887"
             ],
             [
              0.1111111111111111,
              "#46039f"
             ],
             [
              0.2222222222222222,
              "#7201a8"
             ],
             [
              0.3333333333333333,
              "#9c179e"
             ],
             [
              0.4444444444444444,
              "#bd3786"
             ],
             [
              0.5555555555555556,
              "#d8576b"
             ],
             [
              0.6666666666666666,
              "#ed7953"
             ],
             [
              0.7777777777777778,
              "#fb9f3a"
             ],
             [
              0.8888888888888888,
              "#fdca26"
             ],
             [
              1,
              "#f0f921"
             ]
            ],
            "type": "heatmap"
           }
          ],
          "heatmapgl": [
           {
            "colorbar": {
             "outlinewidth": 0,
             "ticks": ""
            },
            "colorscale": [
             [
              0,
              "#0d0887"
             ],
             [
              0.1111111111111111,
              "#46039f"
             ],
             [
              0.2222222222222222,
              "#7201a8"
             ],
             [
              0.3333333333333333,
              "#9c179e"
             ],
             [
              0.4444444444444444,
              "#bd3786"
             ],
             [
              0.5555555555555556,
              "#d8576b"
             ],
             [
              0.6666666666666666,
              "#ed7953"
             ],
             [
              0.7777777777777778,
              "#fb9f3a"
             ],
             [
              0.8888888888888888,
              "#fdca26"
             ],
             [
              1,
              "#f0f921"
             ]
            ],
            "type": "heatmapgl"
           }
          ],
          "histogram": [
           {
            "marker": {
             "colorbar": {
              "outlinewidth": 0,
              "ticks": ""
             }
            },
            "type": "histogram"
           }
          ],
          "histogram2d": [
           {
            "colorbar": {
             "outlinewidth": 0,
             "ticks": ""
            },
            "colorscale": [
             [
              0,
              "#0d0887"
             ],
             [
              0.1111111111111111,
              "#46039f"
             ],
             [
              0.2222222222222222,
              "#7201a8"
             ],
             [
              0.3333333333333333,
              "#9c179e"
             ],
             [
              0.4444444444444444,
              "#bd3786"
             ],
             [
              0.5555555555555556,
              "#d8576b"
             ],
             [
              0.6666666666666666,
              "#ed7953"
             ],
             [
              0.7777777777777778,
              "#fb9f3a"
             ],
             [
              0.8888888888888888,
              "#fdca26"
             ],
             [
              1,
              "#f0f921"
             ]
            ],
            "type": "histogram2d"
           }
          ],
          "histogram2dcontour": [
           {
            "colorbar": {
             "outlinewidth": 0,
             "ticks": ""
            },
            "colorscale": [
             [
              0,
              "#0d0887"
             ],
             [
              0.1111111111111111,
              "#46039f"
             ],
             [
              0.2222222222222222,
              "#7201a8"
             ],
             [
              0.3333333333333333,
              "#9c179e"
             ],
             [
              0.4444444444444444,
              "#bd3786"
             ],
             [
              0.5555555555555556,
              "#d8576b"
             ],
             [
              0.6666666666666666,
              "#ed7953"
             ],
             [
              0.7777777777777778,
              "#fb9f3a"
             ],
             [
              0.8888888888888888,
              "#fdca26"
             ],
             [
              1,
              "#f0f921"
             ]
            ],
            "type": "histogram2dcontour"
           }
          ],
          "mesh3d": [
           {
            "colorbar": {
             "outlinewidth": 0,
             "ticks": ""
            },
            "type": "mesh3d"
           }
          ],
          "parcoords": [
           {
            "line": {
             "colorbar": {
              "outlinewidth": 0,
              "ticks": ""
             }
            },
            "type": "parcoords"
           }
          ],
          "pie": [
           {
            "automargin": true,
            "type": "pie"
           }
          ],
          "scatter": [
           {
            "marker": {
             "colorbar": {
              "outlinewidth": 0,
              "ticks": ""
             }
            },
            "type": "scatter"
           }
          ],
          "scatter3d": [
           {
            "line": {
             "colorbar": {
              "outlinewidth": 0,
              "ticks": ""
             }
            },
            "marker": {
             "colorbar": {
              "outlinewidth": 0,
              "ticks": ""
             }
            },
            "type": "scatter3d"
           }
          ],
          "scattercarpet": [
           {
            "marker": {
             "colorbar": {
              "outlinewidth": 0,
              "ticks": ""
             }
            },
            "type": "scattercarpet"
           }
          ],
          "scattergeo": [
           {
            "marker": {
             "colorbar": {
              "outlinewidth": 0,
              "ticks": ""
             }
            },
            "type": "scattergeo"
           }
          ],
          "scattergl": [
           {
            "marker": {
             "colorbar": {
              "outlinewidth": 0,
              "ticks": ""
             }
            },
            "type": "scattergl"
           }
          ],
          "scattermapbox": [
           {
            "marker": {
             "colorbar": {
              "outlinewidth": 0,
              "ticks": ""
             }
            },
            "type": "scattermapbox"
           }
          ],
          "scatterpolar": [
           {
            "marker": {
             "colorbar": {
              "outlinewidth": 0,
              "ticks": ""
             }
            },
            "type": "scatterpolar"
           }
          ],
          "scatterpolargl": [
           {
            "marker": {
             "colorbar": {
              "outlinewidth": 0,
              "ticks": ""
             }
            },
            "type": "scatterpolargl"
           }
          ],
          "scatterternary": [
           {
            "marker": {
             "colorbar": {
              "outlinewidth": 0,
              "ticks": ""
             }
            },
            "type": "scatterternary"
           }
          ],
          "surface": [
           {
            "colorbar": {
             "outlinewidth": 0,
             "ticks": ""
            },
            "colorscale": [
             [
              0,
              "#0d0887"
             ],
             [
              0.1111111111111111,
              "#46039f"
             ],
             [
              0.2222222222222222,
              "#7201a8"
             ],
             [
              0.3333333333333333,
              "#9c179e"
             ],
             [
              0.4444444444444444,
              "#bd3786"
             ],
             [
              0.5555555555555556,
              "#d8576b"
             ],
             [
              0.6666666666666666,
              "#ed7953"
             ],
             [
              0.7777777777777778,
              "#fb9f3a"
             ],
             [
              0.8888888888888888,
              "#fdca26"
             ],
             [
              1,
              "#f0f921"
             ]
            ],
            "type": "surface"
           }
          ],
          "table": [
           {
            "cells": {
             "fill": {
              "color": "#EBF0F8"
             },
             "line": {
              "color": "white"
             }
            },
            "header": {
             "fill": {
              "color": "#C8D4E3"
             },
             "line": {
              "color": "white"
             }
            },
            "type": "table"
           }
          ]
         },
         "layout": {
          "annotationdefaults": {
           "arrowcolor": "#2a3f5f",
           "arrowhead": 0,
           "arrowwidth": 1
          },
          "coloraxis": {
           "colorbar": {
            "outlinewidth": 0,
            "ticks": ""
           }
          },
          "colorscale": {
           "diverging": [
            [
             0,
             "#8e0152"
            ],
            [
             0.1,
             "#c51b7d"
            ],
            [
             0.2,
             "#de77ae"
            ],
            [
             0.3,
             "#f1b6da"
            ],
            [
             0.4,
             "#fde0ef"
            ],
            [
             0.5,
             "#f7f7f7"
            ],
            [
             0.6,
             "#e6f5d0"
            ],
            [
             0.7,
             "#b8e186"
            ],
            [
             0.8,
             "#7fbc41"
            ],
            [
             0.9,
             "#4d9221"
            ],
            [
             1,
             "#276419"
            ]
           ],
           "sequential": [
            [
             0,
             "#0d0887"
            ],
            [
             0.1111111111111111,
             "#46039f"
            ],
            [
             0.2222222222222222,
             "#7201a8"
            ],
            [
             0.3333333333333333,
             "#9c179e"
            ],
            [
             0.4444444444444444,
             "#bd3786"
            ],
            [
             0.5555555555555556,
             "#d8576b"
            ],
            [
             0.6666666666666666,
             "#ed7953"
            ],
            [
             0.7777777777777778,
             "#fb9f3a"
            ],
            [
             0.8888888888888888,
             "#fdca26"
            ],
            [
             1,
             "#f0f921"
            ]
           ],
           "sequentialminus": [
            [
             0,
             "#0d0887"
            ],
            [
             0.1111111111111111,
             "#46039f"
            ],
            [
             0.2222222222222222,
             "#7201a8"
            ],
            [
             0.3333333333333333,
             "#9c179e"
            ],
            [
             0.4444444444444444,
             "#bd3786"
            ],
            [
             0.5555555555555556,
             "#d8576b"
            ],
            [
             0.6666666666666666,
             "#ed7953"
            ],
            [
             0.7777777777777778,
             "#fb9f3a"
            ],
            [
             0.8888888888888888,
             "#fdca26"
            ],
            [
             1,
             "#f0f921"
            ]
           ]
          },
          "colorway": [
           "#636efa",
           "#EF553B",
           "#00cc96",
           "#ab63fa",
           "#FFA15A",
           "#19d3f3",
           "#FF6692",
           "#B6E880",
           "#FF97FF",
           "#FECB52"
          ],
          "font": {
           "color": "#2a3f5f"
          },
          "geo": {
           "bgcolor": "white",
           "lakecolor": "white",
           "landcolor": "#E5ECF6",
           "showlakes": true,
           "showland": true,
           "subunitcolor": "white"
          },
          "hoverlabel": {
           "align": "left"
          },
          "hovermode": "closest",
          "mapbox": {
           "style": "light"
          },
          "paper_bgcolor": "white",
          "plot_bgcolor": "#E5ECF6",
          "polar": {
           "angularaxis": {
            "gridcolor": "white",
            "linecolor": "white",
            "ticks": ""
           },
           "bgcolor": "#E5ECF6",
           "radialaxis": {
            "gridcolor": "white",
            "linecolor": "white",
            "ticks": ""
           }
          },
          "scene": {
           "xaxis": {
            "backgroundcolor": "#E5ECF6",
            "gridcolor": "white",
            "gridwidth": 2,
            "linecolor": "white",
            "showbackground": true,
            "ticks": "",
            "zerolinecolor": "white"
           },
           "yaxis": {
            "backgroundcolor": "#E5ECF6",
            "gridcolor": "white",
            "gridwidth": 2,
            "linecolor": "white",
            "showbackground": true,
            "ticks": "",
            "zerolinecolor": "white"
           },
           "zaxis": {
            "backgroundcolor": "#E5ECF6",
            "gridcolor": "white",
            "gridwidth": 2,
            "linecolor": "white",
            "showbackground": true,
            "ticks": "",
            "zerolinecolor": "white"
           }
          },
          "shapedefaults": {
           "line": {
            "color": "#2a3f5f"
           }
          },
          "ternary": {
           "aaxis": {
            "gridcolor": "white",
            "linecolor": "white",
            "ticks": ""
           },
           "baxis": {
            "gridcolor": "white",
            "linecolor": "white",
            "ticks": ""
           },
           "bgcolor": "#E5ECF6",
           "caxis": {
            "gridcolor": "white",
            "linecolor": "white",
            "ticks": ""
           }
          },
          "title": {
           "x": 0.05
          },
          "xaxis": {
           "automargin": true,
           "gridcolor": "white",
           "linecolor": "white",
           "ticks": "",
           "title": {
            "standoff": 15
           },
           "zerolinecolor": "white",
           "zerolinewidth": 2
          },
          "yaxis": {
           "automargin": true,
           "gridcolor": "white",
           "linecolor": "white",
           "ticks": "",
           "title": {
            "standoff": 15
           },
           "zerolinecolor": "white",
           "zerolinewidth": 2
          }
         }
        },
        "title": {
         "text": "Correlation matrix for Currencies ,Stocks,Futures,ETFS,Indices and Mutual Funds"
        }
       }
      },
      "text/html": [
       "<div>\n",
       "        \n",
       "        \n",
       "            <div id=\"967507be-b38a-40cc-87e9-06f759ceca05\" class=\"plotly-graph-div\" style=\"height:525px; width:100%;\"></div>\n",
       "            <script type=\"text/javascript\">\n",
       "                require([\"plotly\"], function(Plotly) {\n",
       "                    window.PLOTLYENV=window.PLOTLYENV || {};\n",
       "                    \n",
       "                if (document.getElementById(\"967507be-b38a-40cc-87e9-06f759ceca05\")) {\n",
       "                    Plotly.newPlot(\n",
       "                        '967507be-b38a-40cc-87e9-06f759ceca05',\n",
       "                        [{\"colorscale\": [[0.0, \"#440154\"], [0.1111111111111111, \"#482878\"], [0.2222222222222222, \"#3e4989\"], [0.3333333333333333, \"#31688e\"], [0.4444444444444444, \"#26828e\"], [0.5555555555555556, \"#1f9e89\"], [0.6666666666666666, \"#35b779\"], [0.7777777777777778, \"#6ece58\"], [0.8888888888888888, \"#b5de2b\"], [1.0, \"#fde725\"]], \"type\": \"heatmap\", \"x\": [\"AMZN\", \"DVEM\", \"ES=F\", \"EURJPY=X\", \"GS\", \"INR=X\", \"MORT\", \"MXN=X\", \"NG=F\", \"PSJ\", \"RAAAX\", \"SCATX\", \"UMPSX\", \"ZC=F\", \"^FTSE\", \"^GDAXI\", \"^HSI\", \"^IXIC\", \"^KS11\", \"^MXX\", \"^N225\", \"^STOXX50E\", \"^VIX\"], \"y\": [\"AMZN\", \"DVEM\", \"ES=F\", \"EURJPY=X\", \"GS\", \"INR=X\", \"MORT\", \"MXN=X\", \"NG=F\", \"PSJ\", \"RAAAX\", \"SCATX\", \"UMPSX\", \"ZC=F\", \"^FTSE\", \"^GDAXI\", \"^HSI\", \"^IXIC\", \"^KS11\", \"^MXX\", \"^N225\", \"^STOXX50E\", \"^VIX\"], \"z\": [[1.0, 0.40290966359550157, 0.549081961472682, -0.024949040221788482, 0.3797631949982727, 0.03894747717187901, 0.18091933256142698, -0.05207583722033384, 0.03459520746274998, 0.651406728960204, 0.4699448353746178, 0.6473701034399634, 0.45930267825896137, -0.018796969886798142, 0.3027308694586652, 0.33607615323210344, 0.2118379820691701, 0.6954307315469925, 0.14029177502819393, 0.32718899206797186, 0.12733567943509091, 0.31700258945878, -0.49822444943871574], [0.40290966359550157, 1.0, 0.7092546459514137, 0.1236396813567305, 0.6384499170159595, 0.05203687075223785, 0.4637982080817147, -0.25302769590159435, 0.10710273582072345, 0.5756805419652974, 0.5971063772544386, 0.5620492333236092, 0.7075482975157724, 0.12001389685100186, 0.6244554880433691, 0.6082052372506112, 0.5218572130833214, 0.7108063575851808, 0.4712802162117721, 0.6243853847514412, 0.2697365188037905, 0.6299315231894168, -0.4983612655109672], [0.549081961472682, 0.7092546459514137, 1.0, 0.05899671427350115, 0.7959567808486059, 0.037064207512166485, 0.5122869978010863, -0.16963422502770015, 0.12031671323879481, 0.7807811784245262, 0.7981727019445127, 0.7253374943130336, 0.8599921327446308, 0.08517899405597258, 0.6500250619145185, 0.6451351488068168, 0.34548696794898787, 0.939047803154638, 0.371766517797261, 0.5915646157965251, 0.2775023810175901, 0.6514866967869621, -0.6649639195595245], [-0.024949040221788482, 0.1236396813567305, 0.05899671427350115, 1.0, 0.07403985224966296, -0.15275535923398328, -0.007163705811065754, -0.1504725976162219, 0.03922853385649653, 0.02876153919007787, -0.008740738975139715, 0.028787928264408517, 0.1115562295421739, 0.00028541853085589165, 0.21822965938923503, 0.18883419875347388, 0.23723099013328994, 0.045758514577857345, 0.2009044545389511, 0.10726183306042825, 0.31635314294889594, 0.2084249202228553, -0.011207164034656067], [0.3797631949982727, 0.6384499170159595, 0.7959567808486059, 0.07403985224966296, 1.0, 0.05827861291801961, 0.4354325340706514, -0.10547237018965348, 0.12249560958166018, 0.5872315713415134, 0.584758867895684, 0.5759198012111802, 0.7418665726248497, 0.07947176071134021, 0.564122361963726, 0.6059751772170955, 0.3346458795895268, 0.7565459363010837, 0.2803522997795965, 0.4878627176163185, 0.24909313075361034, 0.610723675056604, -0.5242031207920687], [0.03894747717187901, 0.05203687075223785, 0.037064207512166485, -0.15275535923398328, 0.05827861291801961, 1.0, -0.03639215705744374, 0.20946562328005555, 0.06483870799615751, 0.021313300466475282, 0.01596891648149147, 0.05159667108609821, 0.00766184991393039, -0.05265469293264067, -0.03192105536640344, -0.029947859167641838, -0.16627747407265017, 0.04309424076517127, -0.11970440203661845, 0.018935815063089778, -0.09308030120956251, -0.0050885888807062655, -0.05695723407619015], [0.18091933256142698, 0.4637982080817147, 0.5122869978010863, -0.007163705811065754, 0.4354325340706514, -0.03639215705744374, 1.0, -0.23335193930397757, 0.09408796281561471, 0.4023606294445132, 0.5937110012233897, 0.3418477376049352, 0.5573093671228379, 0.12818405676120817, 0.3638126659481258, 0.3239817020493667, 0.19556571148346408, 0.4596548625117628, 0.2801740079408564, 0.3610548741725875, 0.15827700952499044, 0.3435557986781324, -0.24524183368204786], [-0.05207583722033384, -0.25302769590159435, -0.16963422502770015, -0.1504725976162219, -0.10547237018965348, 0.20946562328005555, -0.23335193930397757, 1.0, 0.004172436466063517, -0.11842394225747017, -0.17428250052451796, -0.10513569057774794, -0.19125519421135526, -0.12668583969397149, -0.16421195840743408, -0.17745998850675965, -0.21013808639586246, -0.1296179590227919, -0.20422067556349938, -0.2581070811651167, -0.18394543270161692, -0.20924817017688135, 0.125301586329779], [0.03459520746274998, 0.10710273582072345, 0.12031671323879481, 0.03922853385649653, 0.12249560958166018, 0.06483870799615751, 0.09408796281561471, 0.004172436466063517, 1.0, 0.026134299686553585, 0.06667202303653937, 0.047116329002029896, 0.12131115483550843, 0.008599922823005172, 0.09418169498538712, 0.08455289534872111, 0.07572250778844063, 0.08786869816454491, 0.0896840047466463, 0.13073772315162044, 0.08195802514694717, 0.08734862780922152, -0.04256115060855457], [0.651406728960204, 0.5756805419652974, 0.7807811784245262, 0.02876153919007787, 0.5872315713415134, 0.021313300466475282, 0.4023606294445132, -0.11842394225747017, 0.026134299686553585, 1.0, 0.6895082428810171, 0.8429925199771388, 0.7317673792193975, 0.08123241230691321, 0.48322229886852575, 0.5257364417562145, 0.286950835927899, 0.8842779813638711, 0.23256412336128648, 0.4262522081478944, 0.1968569263053894, 0.5257275811288888, -0.6348805636462965], [0.4699448353746178, 0.5971063772544386, 0.7981727019445127, -0.008740738975139715, 0.584758867895684, 0.01596891648149147, 0.5937110012233897, -0.17428250052451796, 0.06667202303653937, 0.6895082428810171, 1.0, 0.6161038433659667, 0.7329302390542567, 0.06334414606712749, 0.5142966443729022, 0.4924895342654992, 0.2962244438284373, 0.7619763781944441, 0.3369142012658087, 0.5001969332405714, 0.21556411340777618, 0.4870851515015586, -0.49098141644122895], [0.6473701034399634, 0.5620492333236092, 0.7253374943130336, 0.028787928264408517, 0.5759198012111802, 0.05159667108609821, 0.3418477376049352, -0.10513569057774794, 0.047116329002029896, 0.8429925199771388, 0.6161038433659667, 1.0, 0.6843755272920646, 0.08566560562881645, 0.4543295566883716, 0.5162718491087714, 0.3035436281969649, 0.8382354122590776, 0.2391580845638836, 0.4171236016879777, 0.20952493996027655, 0.5198907739402865, -0.6107674860730763], [0.45930267825896137, 0.7075482975157724, 0.8599921327446308, 0.1115562295421739, 0.7418665726248497, 0.00766184991393039, 0.5573093671228379, -0.19125519421135526, 0.12131115483550843, 0.7317673792193975, 0.7329302390542567, 0.6843755272920646, 1.0, 0.07597607804392299, 0.6673306326217459, 0.6995559999809396, 0.34830103864332335, 0.8357736116782181, 0.3504888809216524, 0.5478514977742157, 0.2942991743894913, 0.7030402894064482, -0.5789125181618541], [-0.018796969886798142, 0.12001389685100186, 0.08517899405597258, 0.00028541853085589165, 0.07947176071134021, -0.05265469293264067, 0.12818405676120817, -0.12668583969397149, 0.008599922823005172, 0.08123241230691321, 0.06334414606712749, 0.08566560562881645, 0.07597607804392299, 1.0, 0.12496769555796494, 0.10344920351548186, 0.08704074325481471, 0.07231770738811015, 0.09445516059964011, 0.13207700863305155, 0.08513828811472116, 0.1127471995804391, -0.041785018715200475], [0.3027308694586652, 0.6244554880433691, 0.6500250619145185, 0.21822965938923503, 0.564122361963726, -0.03192105536640344, 0.3638126659481258, -0.16421195840743408, 0.09418169498538712, 0.48322229886852575, 0.5142966443729022, 0.4543295566883716, 0.6673306326217459, 0.12496769555796494, 1.0, 0.8265534643107734, 0.5077394826736632, 0.5991822249023186, 0.4618510038314236, 0.5357230741806825, 0.41493374318430254, 0.8533787040007209, -0.4598963667745558], [0.33607615323210344, 0.6082052372506112, 0.6451351488068168, 0.18883419875347388, 0.6059751772170955, -0.029947859167641838, 0.3239817020493667, -0.17745998850675965, 0.08455289534872111, 0.5257364417562145, 0.4924895342654992, 0.5162718491087714, 0.6995559999809396, 0.10344920351548186, 0.8265534643107734, 1.0, 0.4811854490467188, 0.6251719029747862, 0.48148427632023594, 0.4883679499874128, 0.465978561922065, 0.966364871965603, -0.5148692484961592], [0.2118379820691701, 0.5218572130833214, 0.34548696794898787, 0.23723099013328994, 0.3346458795895268, -0.16627747407265017, 0.19556571148346408, -0.21013808639586246, 0.07572250778844063, 0.286950835927899, 0.2962244438284373, 0.3035436281969649, 0.34830103864332335, 0.08704074325481471, 0.5077394826736632, 0.4811854490467188, 1.0, 0.35101560664838743, 0.683386209431287, 0.32848361345031996, 0.598236917126647, 0.48351655288557477, -0.28748669455239784], [0.6954307315469925, 0.7108063575851808, 0.939047803154638, 0.045758514577857345, 0.7565459363010837, 0.04309424076517127, 0.4596548625117628, -0.1296179590227919, 0.08786869816454491, 0.8842779813638711, 0.7619763781944441, 0.8382354122590776, 0.8357736116782181, 0.07231770738811015, 0.5991822249023186, 0.6251719029747862, 0.35101560664838743, 1.0, 0.3201991572708348, 0.5527674380412906, 0.2424962458627958, 0.626261625907764, -0.6984283202740796], [0.14029177502819393, 0.4712802162117721, 0.371766517797261, 0.2009044545389511, 0.2803522997795965, -0.11970440203661845, 0.2801740079408564, -0.20422067556349938, 0.0896840047466463, 0.23256412336128648, 0.3369142012658087, 0.2391580845638836, 0.3504888809216524, 0.09445516059964011, 0.4618510038314236, 0.48148427632023594, 0.683386209431287, 0.3201991572708348, 1.0, 0.32856278906987696, 0.6483842012200108, 0.4623771694431112, -0.23682279219251426], [0.32718899206797186, 0.6243853847514412, 0.5915646157965251, 0.10726183306042825, 0.4878627176163185, 0.018935815063089778, 0.3610548741725875, -0.2581070811651167, 0.13073772315162044, 0.4262522081478944, 0.5001969332405714, 0.4171236016879777, 0.5478514977742157, 0.13207700863305155, 0.5357230741806825, 0.4883679499874128, 0.32848361345031996, 0.5527674380412906, 0.32856278906987696, 1.0, 0.23146959671153677, 0.5165784485199414, -0.4051587135138263], [0.12733567943509091, 0.2697365188037905, 0.2775023810175901, 0.31635314294889594, 0.24909313075361034, -0.09308030120956251, 0.15827700952499044, -0.18394543270161692, 0.08195802514694717, 0.1968569263053894, 0.21556411340777618, 0.20952493996027655, 0.2942991743894913, 0.08513828811472116, 0.41493374318430254, 0.465978561922065, 0.598236917126647, 0.2424962458627958, 0.6483842012200108, 0.23146959671153677, 1.0, 0.4761228988385743, -0.22451118560791208], [0.31700258945878, 0.6299315231894168, 0.6514866967869621, 0.2084249202228553, 0.610723675056604, -0.0050885888807062655, 0.3435557986781324, -0.20924817017688135, 0.08734862780922152, 0.5257275811288888, 0.4870851515015586, 0.5198907739402865, 0.7030402894064482, 0.1127471995804391, 0.8533787040007209, 0.966364871965603, 0.48351655288557477, 0.626261625907764, 0.4623771694431112, 0.5165784485199414, 0.4761228988385743, 1.0, -0.5294057186499836], [-0.49822444943871574, -0.4983612655109672, -0.6649639195595245, -0.011207164034656067, -0.5242031207920687, -0.05695723407619015, -0.24524183368204786, 0.125301586329779, -0.04256115060855457, -0.6348805636462965, -0.49098141644122895, -0.6107674860730763, -0.5789125181618541, -0.041785018715200475, -0.4598963667745558, -0.5148692484961592, -0.28748669455239784, -0.6984283202740796, -0.23682279219251426, -0.4051587135138263, -0.22451118560791208, -0.5294057186499836, 1.0]]}],\n",
       "                        {\"template\": {\"data\": {\"bar\": [{\"error_x\": {\"color\": \"#2a3f5f\"}, \"error_y\": {\"color\": \"#2a3f5f\"}, \"marker\": {\"line\": {\"color\": \"#E5ECF6\", \"width\": 0.5}}, \"type\": \"bar\"}], \"barpolar\": [{\"marker\": {\"line\": {\"color\": \"#E5ECF6\", \"width\": 0.5}}, \"type\": \"barpolar\"}], \"carpet\": [{\"aaxis\": {\"endlinecolor\": \"#2a3f5f\", \"gridcolor\": \"white\", \"linecolor\": \"white\", \"minorgridcolor\": \"white\", \"startlinecolor\": \"#2a3f5f\"}, \"baxis\": {\"endlinecolor\": \"#2a3f5f\", \"gridcolor\": \"white\", \"linecolor\": \"white\", \"minorgridcolor\": \"white\", \"startlinecolor\": \"#2a3f5f\"}, \"type\": \"carpet\"}], \"choropleth\": [{\"colorbar\": {\"outlinewidth\": 0, \"ticks\": \"\"}, \"type\": \"choropleth\"}], \"contour\": [{\"colorbar\": {\"outlinewidth\": 0, \"ticks\": \"\"}, \"colorscale\": [[0.0, \"#0d0887\"], [0.1111111111111111, \"#46039f\"], [0.2222222222222222, \"#7201a8\"], [0.3333333333333333, \"#9c179e\"], [0.4444444444444444, \"#bd3786\"], [0.5555555555555556, \"#d8576b\"], [0.6666666666666666, \"#ed7953\"], [0.7777777777777778, \"#fb9f3a\"], [0.8888888888888888, \"#fdca26\"], [1.0, \"#f0f921\"]], \"type\": \"contour\"}], \"contourcarpet\": [{\"colorbar\": {\"outlinewidth\": 0, \"ticks\": \"\"}, \"type\": \"contourcarpet\"}], \"heatmap\": [{\"colorbar\": {\"outlinewidth\": 0, \"ticks\": \"\"}, \"colorscale\": [[0.0, \"#0d0887\"], [0.1111111111111111, \"#46039f\"], [0.2222222222222222, \"#7201a8\"], [0.3333333333333333, \"#9c179e\"], [0.4444444444444444, \"#bd3786\"], [0.5555555555555556, \"#d8576b\"], [0.6666666666666666, \"#ed7953\"], [0.7777777777777778, \"#fb9f3a\"], [0.8888888888888888, \"#fdca26\"], [1.0, \"#f0f921\"]], \"type\": \"heatmap\"}], \"heatmapgl\": [{\"colorbar\": {\"outlinewidth\": 0, \"ticks\": \"\"}, \"colorscale\": [[0.0, \"#0d0887\"], [0.1111111111111111, \"#46039f\"], [0.2222222222222222, \"#7201a8\"], [0.3333333333333333, \"#9c179e\"], [0.4444444444444444, \"#bd3786\"], [0.5555555555555556, \"#d8576b\"], [0.6666666666666666, \"#ed7953\"], [0.7777777777777778, \"#fb9f3a\"], [0.8888888888888888, \"#fdca26\"], [1.0, \"#f0f921\"]], \"type\": \"heatmapgl\"}], \"histogram\": [{\"marker\": {\"colorbar\": {\"outlinewidth\": 0, \"ticks\": \"\"}}, \"type\": \"histogram\"}], \"histogram2d\": [{\"colorbar\": {\"outlinewidth\": 0, \"ticks\": \"\"}, \"colorscale\": [[0.0, \"#0d0887\"], [0.1111111111111111, \"#46039f\"], [0.2222222222222222, \"#7201a8\"], [0.3333333333333333, \"#9c179e\"], [0.4444444444444444, \"#bd3786\"], [0.5555555555555556, \"#d8576b\"], [0.6666666666666666, \"#ed7953\"], [0.7777777777777778, \"#fb9f3a\"], [0.8888888888888888, \"#fdca26\"], [1.0, \"#f0f921\"]], \"type\": \"histogram2d\"}], \"histogram2dcontour\": [{\"colorbar\": {\"outlinewidth\": 0, \"ticks\": \"\"}, \"colorscale\": [[0.0, \"#0d0887\"], [0.1111111111111111, \"#46039f\"], [0.2222222222222222, \"#7201a8\"], [0.3333333333333333, \"#9c179e\"], [0.4444444444444444, \"#bd3786\"], [0.5555555555555556, \"#d8576b\"], [0.6666666666666666, \"#ed7953\"], [0.7777777777777778, \"#fb9f3a\"], [0.8888888888888888, \"#fdca26\"], [1.0, \"#f0f921\"]], \"type\": \"histogram2dcontour\"}], \"mesh3d\": [{\"colorbar\": {\"outlinewidth\": 0, \"ticks\": \"\"}, \"type\": \"mesh3d\"}], \"parcoords\": [{\"line\": {\"colorbar\": {\"outlinewidth\": 0, \"ticks\": \"\"}}, \"type\": \"parcoords\"}], \"pie\": [{\"automargin\": true, \"type\": \"pie\"}], \"scatter\": [{\"marker\": {\"colorbar\": {\"outlinewidth\": 0, \"ticks\": \"\"}}, \"type\": \"scatter\"}], \"scatter3d\": [{\"line\": {\"colorbar\": {\"outlinewidth\": 0, \"ticks\": \"\"}}, \"marker\": {\"colorbar\": {\"outlinewidth\": 0, \"ticks\": \"\"}}, \"type\": \"scatter3d\"}], \"scattercarpet\": [{\"marker\": {\"colorbar\": {\"outlinewidth\": 0, \"ticks\": \"\"}}, \"type\": \"scattercarpet\"}], \"scattergeo\": [{\"marker\": {\"colorbar\": {\"outlinewidth\": 0, \"ticks\": \"\"}}, \"type\": \"scattergeo\"}], \"scattergl\": [{\"marker\": {\"colorbar\": {\"outlinewidth\": 0, \"ticks\": \"\"}}, \"type\": \"scattergl\"}], \"scattermapbox\": [{\"marker\": {\"colorbar\": {\"outlinewidth\": 0, \"ticks\": \"\"}}, \"type\": \"scattermapbox\"}], \"scatterpolar\": [{\"marker\": {\"colorbar\": {\"outlinewidth\": 0, \"ticks\": \"\"}}, \"type\": \"scatterpolar\"}], \"scatterpolargl\": [{\"marker\": {\"colorbar\": {\"outlinewidth\": 0, \"ticks\": \"\"}}, \"type\": \"scatterpolargl\"}], \"scatterternary\": [{\"marker\": {\"colorbar\": {\"outlinewidth\": 0, \"ticks\": \"\"}}, \"type\": \"scatterternary\"}], \"surface\": [{\"colorbar\": {\"outlinewidth\": 0, \"ticks\": \"\"}, \"colorscale\": [[0.0, \"#0d0887\"], [0.1111111111111111, \"#46039f\"], [0.2222222222222222, \"#7201a8\"], [0.3333333333333333, \"#9c179e\"], [0.4444444444444444, \"#bd3786\"], [0.5555555555555556, \"#d8576b\"], [0.6666666666666666, \"#ed7953\"], [0.7777777777777778, \"#fb9f3a\"], [0.8888888888888888, \"#fdca26\"], [1.0, \"#f0f921\"]], \"type\": \"surface\"}], \"table\": [{\"cells\": {\"fill\": {\"color\": \"#EBF0F8\"}, \"line\": {\"color\": \"white\"}}, \"header\": {\"fill\": {\"color\": \"#C8D4E3\"}, \"line\": {\"color\": \"white\"}}, \"type\": \"table\"}]}, \"layout\": {\"annotationdefaults\": {\"arrowcolor\": \"#2a3f5f\", \"arrowhead\": 0, \"arrowwidth\": 1}, \"coloraxis\": {\"colorbar\": {\"outlinewidth\": 0, \"ticks\": \"\"}}, \"colorscale\": {\"diverging\": [[0, \"#8e0152\"], [0.1, \"#c51b7d\"], [0.2, \"#de77ae\"], [0.3, \"#f1b6da\"], [0.4, \"#fde0ef\"], [0.5, \"#f7f7f7\"], [0.6, \"#e6f5d0\"], [0.7, \"#b8e186\"], [0.8, \"#7fbc41\"], [0.9, \"#4d9221\"], [1, \"#276419\"]], \"sequential\": [[0.0, \"#0d0887\"], [0.1111111111111111, \"#46039f\"], [0.2222222222222222, \"#7201a8\"], [0.3333333333333333, \"#9c179e\"], [0.4444444444444444, \"#bd3786\"], [0.5555555555555556, \"#d8576b\"], [0.6666666666666666, \"#ed7953\"], [0.7777777777777778, \"#fb9f3a\"], [0.8888888888888888, \"#fdca26\"], [1.0, \"#f0f921\"]], \"sequentialminus\": [[0.0, \"#0d0887\"], [0.1111111111111111, \"#46039f\"], [0.2222222222222222, \"#7201a8\"], [0.3333333333333333, \"#9c179e\"], [0.4444444444444444, \"#bd3786\"], [0.5555555555555556, \"#d8576b\"], [0.6666666666666666, \"#ed7953\"], [0.7777777777777778, \"#fb9f3a\"], [0.8888888888888888, \"#fdca26\"], [1.0, \"#f0f921\"]]}, \"colorway\": [\"#636efa\", \"#EF553B\", \"#00cc96\", \"#ab63fa\", \"#FFA15A\", \"#19d3f3\", \"#FF6692\", \"#B6E880\", \"#FF97FF\", \"#FECB52\"], \"font\": {\"color\": \"#2a3f5f\"}, \"geo\": {\"bgcolor\": \"white\", \"lakecolor\": \"white\", \"landcolor\": \"#E5ECF6\", \"showlakes\": true, \"showland\": true, \"subunitcolor\": \"white\"}, \"hoverlabel\": {\"align\": \"left\"}, \"hovermode\": \"closest\", \"mapbox\": {\"style\": \"light\"}, \"paper_bgcolor\": \"white\", \"plot_bgcolor\": \"#E5ECF6\", \"polar\": {\"angularaxis\": {\"gridcolor\": \"white\", \"linecolor\": \"white\", \"ticks\": \"\"}, \"bgcolor\": \"#E5ECF6\", \"radialaxis\": {\"gridcolor\": \"white\", \"linecolor\": \"white\", \"ticks\": \"\"}}, \"scene\": {\"xaxis\": {\"backgroundcolor\": \"#E5ECF6\", \"gridcolor\": \"white\", \"gridwidth\": 2, \"linecolor\": \"white\", \"showbackground\": true, \"ticks\": \"\", \"zerolinecolor\": \"white\"}, \"yaxis\": {\"backgroundcolor\": \"#E5ECF6\", \"gridcolor\": \"white\", \"gridwidth\": 2, \"linecolor\": \"white\", \"showbackground\": true, \"ticks\": \"\", \"zerolinecolor\": \"white\"}, \"zaxis\": {\"backgroundcolor\": \"#E5ECF6\", \"gridcolor\": \"white\", \"gridwidth\": 2, \"linecolor\": \"white\", \"showbackground\": true, \"ticks\": \"\", \"zerolinecolor\": \"white\"}}, \"shapedefaults\": {\"line\": {\"color\": \"#2a3f5f\"}}, \"ternary\": {\"aaxis\": {\"gridcolor\": \"white\", \"linecolor\": \"white\", \"ticks\": \"\"}, \"baxis\": {\"gridcolor\": \"white\", \"linecolor\": \"white\", \"ticks\": \"\"}, \"bgcolor\": \"#E5ECF6\", \"caxis\": {\"gridcolor\": \"white\", \"linecolor\": \"white\", \"ticks\": \"\"}}, \"title\": {\"x\": 0.05}, \"xaxis\": {\"automargin\": true, \"gridcolor\": \"white\", \"linecolor\": \"white\", \"ticks\": \"\", \"title\": {\"standoff\": 15}, \"zerolinecolor\": \"white\", \"zerolinewidth\": 2}, \"yaxis\": {\"automargin\": true, \"gridcolor\": \"white\", \"linecolor\": \"white\", \"ticks\": \"\", \"title\": {\"standoff\": 15}, \"zerolinecolor\": \"white\", \"zerolinewidth\": 2}}}, \"title\": {\"text\": \"Correlation matrix for Currencies ,Stocks,Futures,ETFS,Indices and Mutual Funds\"}},\n",
       "                        {\"responsive\": true}\n",
       "                    ).then(function(){\n",
       "                            \n",
       "var gd = document.getElementById('967507be-b38a-40cc-87e9-06f759ceca05');\n",
       "var x = new MutationObserver(function (mutations, observer) {{\n",
       "        var display = window.getComputedStyle(gd).display;\n",
       "        if (!display || display === 'none') {{\n",
       "            console.log([gd, 'removed!']);\n",
       "            Plotly.purge(gd);\n",
       "            observer.disconnect();\n",
       "        }}\n",
       "}});\n",
       "\n",
       "// Listen for the removal of the full notebook cells\n",
       "var notebookContainer = gd.closest('#notebook-container');\n",
       "if (notebookContainer) {{\n",
       "    x.observe(notebookContainer, {childList: true});\n",
       "}}\n",
       "\n",
       "// Listen for the clearing of the current output cell\n",
       "var outputEl = gd.closest('.output');\n",
       "if (outputEl) {{\n",
       "    x.observe(outputEl, {childList: true});\n",
       "}}\n",
       "\n",
       "                        })\n",
       "                };\n",
       "                });\n",
       "            </script>\n",
       "        </div>"
      ]
     },
     "metadata": {},
     "output_type": "display_data"
    }
   ],
   "source": [
    "\n",
    "\n",
    "#create an interactive heatmap\n",
    "tickers = list(mix_asset_class_rets.columns)\n",
    "trace = go.Heatmap(z=co.tolist(),x=tickers,y=tickers,colorscale='Viridis')\n",
    "\n",
    "\n",
    "data = Data([trace])\n",
    "\n",
    "layout=Layout(\n",
    "        title='Correlation matrix for Currencies ,Stocks,Futures,ETFS,Indices and Mutual Funds',\n",
    "    )\n",
    "\n",
    "fig = Figure(data=data, layout=layout)\n",
    "iplot(fig)"
   ]
  },
  {
   "cell_type": "code",
   "execution_count": 156,
   "metadata": {},
   "outputs": [
    {
     "data": {
      "image/png": "[encoded data removed]",
      "text/plain": [
       "<Figure size 1080x720 with 2 Axes>"
      ]
     },
     "metadata": {
      "needs_background": "light"
     },
     "output_type": "display_data"
    }
   ],
   "source": [
    "# ZOOMING IN TO SEE IF VIX STILL OFFERS NICE HEDGE \n",
    "colormap = plt.cm.inferno\n",
    "plt.figure(figsize=(15,10))\n",
    "corr = combo_pca.corr()\n",
    "sns.heatmap(corr[corr.index == '^VIX'], linewidths=0.3, vmax=1.0, square=True, cmap=colormap, linecolor='white', annot=True);\n",
    "plt.show()"
   ]
  },
  {
   "cell_type": "markdown",
   "metadata": {},
   "source": [
    "# Performing PCA"
   ]
  },
  {
   "cell_type": "code",
   "execution_count": 157,
   "metadata": {},
   "outputs": [
    {
     "data": {
      "image/png": "[encoded data removed]",
      "text/plain": [
       "<Figure size 1152x720 with 2 Axes>"
      ]
     },
     "metadata": {
      "needs_background": "light"
     },
     "output_type": "display_data"
    }
   ],
   "source": [
    "# Perfomring PCA involves calculating the eigenvectors and eigenvalues of the covariance matrix.\n",
    "# The eigenvectors (principal components) determine the directions of the new feature space,\n",
    "#and the eigenvalues determine their magnitude, (i.e. the eigenvalues explain the variance of \n",
    "# the data along the new feature axes.)\n",
    "\n",
    "# perform PCA\n",
    "eig_vals, eig_vecs = np.linalg.eig(c)  \n",
    " \n",
    "ax = plt.figure(figsize=(16,10)).gca()\n",
    "plt.imshow(eig_vecs, cmap=\"bwr\", interpolation=\"nearest\")\n",
    "cb = plt.colorbar()\n",
    "#choose only the third label each time as there is not enough space and we only need an overview\n",
    "plt.yticks(np.arange(len(tickers)), [x if i%3==0 else \" \" for i, x in enumerate(tickers)])\n",
    "plt.xlabel(\"PC Number\")\n",
    "plt.title(\"Contribution of each feature to each PC\", fontsize=14)\n",
    "# force x-tickers to be displayed as integers\n",
    "ax.xaxis.set_major_locator(MaxNLocator(integer=True))\n",
    "plt.show()"
   ]
  },
  {
   "cell_type": "code",
   "execution_count": 158,
   "metadata": {},
   "outputs": [
    {
     "name": "stderr",
     "output_type": "stream",
     "text": [
      "/home/ash/miniconda3/lib/python3.7/site-packages/plotly/graph_objs/_deprecations.py:578: DeprecationWarning:\n",
      "\n",
      "plotly.graph_objs.YAxis is deprecated.\n",
      "Please replace it with one of the following more specific types\n",
      "  - plotly.graph_objs.layout.YAxis\n",
      "  - plotly.graph_objs.layout.scene.YAxis\n",
      "\n",
      "\n"
     ]
    },
    {
     "data": {
      "application/vnd.plotly.v1+json": {
       "config": {
        "linkText": "Export to plot.ly",
        "plotlyServerURL": "https://plot.ly",
        "showLink": false
       },
       "data": [
        {
         "showlegend": false,
         "type": "bar",
         "x": [
          "PC 1",
          "PC 2",
          "PC 3",
          "PC 4",
          "PC 5",
          "PC 6",
          "PC 7",
          "PC 8",
          "PC 9",
          "PC 10",
          "PC 11",
          "PC 12",
          "PC 13",
          "PC 14",
          "PC 15",
          "PC 16",
          "PC 17",
          "PC 18",
          "PC 19",
          "PC 20",
          "PC 21",
          "PC 22",
          "PC 23",
          "PC 24",
          "PC 25",
          "PC 26",
          "PC 27",
          "PC 28",
          "PC 29",
          "PC 30",
          "PC 31",
          "PC 32",
          "PC 33",
          "PC 34",
          "PC 35",
          "PC 36",
          "PC 37",
          "PC 38",
          "PC 39",
          "PC 40",
          "PC 41",
          "PC 42",
          "PC 43",
          "PC 44"
         ],
         "y": [
          43.478918153418554,
          10.375294149721977,
          5.471409065037608,
          5.103448744656871,
          4.332394303096038,
          4.146908446547474,
          3.9123533520329024,
          3.4666558281693036,
          3.2824509923858254,
          2.700637427382422,
          2.1598287931917595,
          1.9746783842564282,
          1.7569109581931905,
          1.507521498780264,
          1.3680893285648146,
          1.2355193835286968,
          0.9587946428332674,
          0.7833841888302104,
          0.7049867285538325,
          0.6235526907572876,
          0.4293804727758959,
          0.12280261154687445,
          0.10407985573851468
         ]
        },
        {
         "name": "cumulative explained variance",
         "type": "scatter",
         "x": [
          "PC 1",
          "PC 2",
          "PC 3",
          "PC 4",
          "PC 5",
          "PC 6",
          "PC 7",
          "PC 8",
          "PC 9",
          "PC 10",
          "PC 11",
          "PC 12",
          "PC 13",
          "PC 14",
          "PC 15",
          "PC 16",
          "PC 17",
          "PC 18",
          "PC 19",
          "PC 20",
          "PC 21",
          "PC 22",
          "PC 23",
          "PC 24",
          "PC 25",
          "PC 26",
          "PC 27",
          "PC 28",
          "PC 29",
          "PC 30",
          "PC 31",
          "PC 32",
          "PC 33",
          "PC 34",
          "PC 35",
          "PC 36",
          "PC 37",
          "PC 38",
          "PC 39",
          "PC 40",
          "PC 41",
          "PC 42",
          "PC 43",
          "PC 44"
         ],
         "y": [
          43.478918153418554,
          53.85421230314053,
          59.32562136817813,
          64.429070112835,
          68.76146441593104,
          72.90837286247852,
          76.82072621451142,
          80.28738204268073,
          83.56983303506655,
          86.27047046244897,
          88.43029925564073,
          90.40497763989715,
          92.16188859809034,
          93.6694100968706,
          95.03749942543543,
          96.27301880896412,
          97.2318134517974,
          98.0151976406276,
          98.72018436918144,
          99.34373705993873,
          99.77311753271462,
          99.8959201442615,
          100.00000000000001
         ]
        }
       ],
       "layout": {
        "template": {
         "data": {
          "bar": [
           {
            "error_x": {
             "color": "#2a3f5f"
            },
            "error_y": {
             "color": "#2a3f5f"
            },
            "marker": {
             "line": {
              "color": "#E5ECF6",
              "width": 0.5
             }
            },
            "type": "bar"
           }
          ],
          "barpolar": [
           {
            "marker": {
             "line": {
              "color": "#E5ECF6",
              "width": 0.5
             }
            },
            "type": "barpolar"
           }
          ],
          "carpet": [
           {
            "aaxis": {
             "endlinecolor": "#2a3f5f",
             "gridcolor": "white",
             "linecolor": "white",
             "minorgridcolor": "white",
             "startlinecolor": "#2a3f5f"
            },
            "baxis": {
             "endlinecolor": "#2a3f5f",
             "gridcolor": "white",
             "linecolor": "white",
             "minorgridcolor": "white",
             "startlinecolor": "#2a3f5f"
            },
            "type": "carpet"
           }
          ],
          "choropleth": [
           {
            "colorbar": {
             "outlinewidth": 0,
             "ticks": ""
            },
            "type": "choropleth"
           }
          ],
          "contour": [
           {
            "colorbar": {
             "outlinewidth": 0,
             "ticks": ""
            },
            "colorscale": [
             [
              0,
              "#0d0887"
             ],
             [
              0.1111111111111111,
              "#46039f"
             ],
             [
              0.2222222222222222,
              "#7201a8"
             ],
             [
              0.3333333333333333,
              "#9c179e"
             ],
             [
              0.4444444444444444,
              "#bd3786"
             ],
             [
              0.5555555555555556,
              "#d8576b"
             ],
             [
              0.6666666666666666,
              "#ed7953"
             ],
             [
              0.7777777777777778,
              "#fb9f3a"
             ],
             [
              0.8888888888888888,
              "#fdca26"
             ],
             [
              1,
              "#f0f921"
             ]
            ],
            "type": "contour"
           }
          ],
          "contourcarpet": [
           {
            "colorbar": {
             "outlinewidth": 0,
             "ticks": ""
            },
            "type": "contourcarpet"
           }
          ],
          "heatmap": [
           {
            "colorbar": {
             "outlinewidth": 0,
             "ticks": ""
            },
            "colorscale": [
             [
              0,
              "#0d0887"
             ],
             [
              0.1111111111111111,
              "#46039f"
             ],
             [
              0.2222222222222222,
              "#7201a8"
             ],
             [
              0.3333333333333333,
              "#9c179e"
             ],
             [
              0.4444444444444444,
              "#bd3786"
             ],
             [
              0.5555555555555556,
              "#d8576b"
             ],
             [
              0.6666666666666666,
              "#ed7953"
             ],
             [
              0.7777777777777778,
              "#fb9f3a"
             ],
             [
              0.8888888888888888,
              "#fdca26"
             ],
             [
              1,
              "#f0f921"
             ]
            ],
            "type": "heatmap"
           }
          ],
          "heatmapgl": [
           {
            "colorbar": {
             "outlinewidth": 0,
             "ticks": ""
            },
            "colorscale": [
             [
              0,
              "#0d0887"
             ],
             [
              0.1111111111111111,
              "#46039f"
             ],
             [
              0.2222222222222222,
              "#7201a8"
             ],
             [
              0.3333333333333333,
              "#9c179e"
             ],
             [
              0.4444444444444444,
              "#bd3786"
             ],
             [
              0.5555555555555556,
              "#d8576b"
             ],
             [
              0.6666666666666666,
              "#ed7953"
             ],
             [
              0.7777777777777778,
              "#fb9f3a"
             ],
             [
              0.8888888888888888,
              "#fdca26"
             ],
             [
              1,
              "#f0f921"
             ]
            ],
            "type": "heatmapgl"
           }
          ],
          "histogram": [
           {
            "marker": {
             "colorbar": {
              "outlinewidth": 0,
              "ticks": ""
             }
            },
            "type": "histogram"
           }
          ],
          "histogram2d": [
           {
            "colorbar": {
             "outlinewidth": 0,
             "ticks": ""
            },
            "colorscale": [
             [
              0,
              "#0d0887"
             ],
             [
              0.1111111111111111,
              "#46039f"
             ],
             [
              0.2222222222222222,
              "#7201a8"
             ],
             [
              0.3333333333333333,
              "#9c179e"
             ],
             [
              0.4444444444444444,
              "#bd3786"
             ],
             [
              0.5555555555555556,
              "#d8576b"
             ],
             [
              0.6666666666666666,
              "#ed7953"
             ],
             [
              0.7777777777777778,
              "#fb9f3a"
             ],
             [
              0.8888888888888888,
              "#fdca26"
             ],
             [
              1,
              "#f0f921"
             ]
            ],
            "type": "histogram2d"
           }
          ],
          "histogram2dcontour": [
           {
            "colorbar": {
             "outlinewidth": 0,
             "ticks": ""
            },
            "colorscale": [
             [
              0,
              "#0d0887"
             ],
             [
              0.1111111111111111,
              "#46039f"
             ],
             [
              0.2222222222222222,
              "#7201a8"
             ],
             [
              0.3333333333333333,
              "#9c179e"
             ],
             [
              0.4444444444444444,
              "#bd3786"
             ],
             [
              0.5555555555555556,
              "#d8576b"
             ],
             [
              0.6666666666666666,
              "#ed7953"
             ],
             [
              0.7777777777777778,
              "#fb9f3a"
             ],
             [
              0.8888888888888888,
              "#fdca26"
             ],
             [
              1,
              "#f0f921"
             ]
            ],
            "type": "histogram2dcontour"
           }
          ],
          "mesh3d": [
           {
            "colorbar": {
             "outlinewidth": 0,
             "ticks": ""
            },
            "type": "mesh3d"
           }
          ],
          "parcoords": [
           {
            "line": {
             "colorbar": {
              "outlinewidth": 0,
              "ticks": ""
             }
            },
            "type": "parcoords"
           }
          ],
          "pie": [
           {
            "automargin": true,
            "type": "pie"
           }
          ],
          "scatter": [
           {
            "marker": {
             "colorbar": {
              "outlinewidth": 0,
              "ticks": ""
             }
            },
            "type": "scatter"
           }
          ],
          "scatter3d": [
           {
            "line": {
             "colorbar": {
              "outlinewidth": 0,
              "ticks": ""
             }
            },
            "marker": {
             "colorbar": {
              "outlinewidth": 0,
              "ticks": ""
             }
            },
            "type": "scatter3d"
           }
          ],
          "scattercarpet": [
           {
            "marker": {
             "colorbar": {
              "outlinewidth": 0,
              "ticks": ""
             }
            },
            "type": "scattercarpet"
           }
          ],
          "scattergeo": [
           {
            "marker": {
             "colorbar": {
              "outlinewidth": 0,
              "ticks": ""
             }
            },
            "type": "scattergeo"
           }
          ],
          "scattergl": [
           {
            "marker": {
             "colorbar": {
              "outlinewidth": 0,
              "ticks": ""
             }
            },
            "type": "scattergl"
           }
          ],
          "scattermapbox": [
           {
            "marker": {
             "colorbar": {
              "outlinewidth": 0,
              "ticks": ""
             }
            },
            "type": "scattermapbox"
           }
          ],
          "scatterpolar": [
           {
            "marker": {
             "colorbar": {
              "outlinewidth": 0,
              "ticks": ""
             }
            },
            "type": "scatterpolar"
           }
          ],
          "scatterpolargl": [
           {
            "marker": {
             "colorbar": {
              "outlinewidth": 0,
              "ticks": ""
             }
            },
            "type": "scatterpolargl"
           }
          ],
          "scatterternary": [
           {
            "marker": {
             "colorbar": {
              "outlinewidth": 0,
              "ticks": ""
             }
            },
            "type": "scatterternary"
           }
          ],
          "surface": [
           {
            "colorbar": {
             "outlinewidth": 0,
             "ticks": ""
            },
            "colorscale": [
             [
              0,
              "#0d0887"
             ],
             [
              0.1111111111111111,
              "#46039f"
             ],
             [
              0.2222222222222222,
              "#7201a8"
             ],
             [
              0.3333333333333333,
              "#9c179e"
             ],
             [
              0.4444444444444444,
              "#bd3786"
             ],
             [
              0.5555555555555556,
              "#d8576b"
             ],
             [
              0.6666666666666666,
              "#ed7953"
             ],
             [
              0.7777777777777778,
              "#fb9f3a"
             ],
             [
              0.8888888888888888,
              "#fdca26"
             ],
             [
              1,
              "#f0f921"
             ]
            ],
            "type": "surface"
           }
          ],
          "table": [
           {
            "cells": {
             "fill": {
              "color": "#EBF0F8"
             },
             "line": {
              "color": "white"
             }
            },
            "header": {
             "fill": {
              "color": "#C8D4E3"
             },
             "line": {
              "color": "white"
             }
            },
            "type": "table"
           }
          ]
         },
         "layout": {
          "annotationdefaults": {
           "arrowcolor": "#2a3f5f",
           "arrowhead": 0,
           "arrowwidth": 1
          },
          "coloraxis": {
           "colorbar": {
            "outlinewidth": 0,
            "ticks": ""
           }
          },
          "colorscale": {
           "diverging": [
            [
             0,
             "#8e0152"
            ],
            [
             0.1,
             "#c51b7d"
            ],
            [
             0.2,
             "#de77ae"
            ],
            [
             0.3,
             "#f1b6da"
            ],
            [
             0.4,
             "#fde0ef"
            ],
            [
             0.5,
             "#f7f7f7"
            ],
            [
             0.6,
             "#e6f5d0"
            ],
            [
             0.7,
             "#b8e186"
            ],
            [
             0.8,
             "#7fbc41"
            ],
            [
             0.9,
             "#4d9221"
            ],
            [
             1,
             "#276419"
            ]
           ],
           "sequential": [
            [
             0,
             "#0d0887"
            ],
            [
             0.1111111111111111,
             "#46039f"
            ],
            [
             0.2222222222222222,
             "#7201a8"
            ],
            [
             0.3333333333333333,
             "#9c179e"
            ],
            [
             0.4444444444444444,
             "#bd3786"
            ],
            [
             0.5555555555555556,
             "#d8576b"
            ],
            [
             0.6666666666666666,
             "#ed7953"
            ],
            [
             0.7777777777777778,
             "#fb9f3a"
            ],
            [
             0.8888888888888888,
             "#fdca26"
            ],
            [
             1,
             "#f0f921"
            ]
           ],
           "sequentialminus": [
            [
             0,
             "#0d0887"
            ],
            [
             0.1111111111111111,
             "#46039f"
            ],
            [
             0.2222222222222222,
             "#7201a8"
            ],
            [
             0.3333333333333333,
             "#9c179e"
            ],
            [
             0.4444444444444444,
             "#bd3786"
            ],
            [
             0.5555555555555556,
             "#d8576b"
            ],
            [
             0.6666666666666666,
             "#ed7953"
            ],
            [
             0.7777777777777778,
             "#fb9f3a"
            ],
            [
             0.8888888888888888,
             "#fdca26"
            ],
            [
             1,
             "#f0f921"
            ]
           ]
          },
          "colorway": [
           "#636efa",
           "#EF553B",
           "#00cc96",
           "#ab63fa",
           "#FFA15A",
           "#19d3f3",
           "#FF6692",
           "#B6E880",
           "#FF97FF",
           "#FECB52"
          ],
          "font": {
           "color": "#2a3f5f"
          },
          "geo": {
           "bgcolor": "white",
           "lakecolor": "white",
           "landcolor": "#E5ECF6",
           "showlakes": true,
           "showland": true,
           "subunitcolor": "white"
          },
          "hoverlabel": {
           "align": "left"
          },
          "hovermode": "closest",
          "mapbox": {
           "style": "light"
          },
          "paper_bgcolor": "white",
          "plot_bgcolor": "#E5ECF6",
          "polar": {
           "angularaxis": {
            "gridcolor": "white",
            "linecolor": "white",
            "ticks": ""
           },
           "bgcolor": "#E5ECF6",
           "radialaxis": {
            "gridcolor": "white",
            "linecolor": "white",
            "ticks": ""
           }
          },
          "scene": {
           "xaxis": {
            "backgroundcolor": "#E5ECF6",
            "gridcolor": "white",
            "gridwidth": 2,
            "linecolor": "white",
            "showbackground": true,
            "ticks": "",
            "zerolinecolor": "white"
           },
           "yaxis": {
            "backgroundcolor": "#E5ECF6",
            "gridcolor": "white",
            "gridwidth": 2,
            "linecolor": "white",
            "showbackground": true,
            "ticks": "",
            "zerolinecolor": "white"
           },
           "zaxis": {
            "backgroundcolor": "#E5ECF6",
            "gridcolor": "white",
            "gridwidth": 2,
            "linecolor": "white",
            "showbackground": true,
            "ticks": "",
            "zerolinecolor": "white"
           }
          },
          "shapedefaults": {
           "line": {
            "color": "#2a3f5f"
           }
          },
          "ternary": {
           "aaxis": {
            "gridcolor": "white",
            "linecolor": "white",
            "ticks": ""
           },
           "baxis": {
            "gridcolor": "white",
            "linecolor": "white",
            "ticks": ""
           },
           "bgcolor": "#E5ECF6",
           "caxis": {
            "gridcolor": "white",
            "linecolor": "white",
            "ticks": ""
           }
          },
          "title": {
           "x": 0.05
          },
          "xaxis": {
           "automargin": true,
           "gridcolor": "white",
           "linecolor": "white",
           "ticks": "",
           "title": {
            "standoff": 15
           },
           "zerolinecolor": "white",
           "zerolinewidth": 2
          },
          "yaxis": {
           "automargin": true,
           "gridcolor": "white",
           "linecolor": "white",
           "ticks": "",
           "title": {
            "standoff": 15
           },
           "zerolinecolor": "white",
           "zerolinewidth": 2
          }
         }
        },
        "title": {
         "text": "Explained variance by first 45 principal components"
        },
        "yaxis": {
         "title": {
          "text": "Explained variance in percent"
         }
        }
       }
      },
      "text/html": [
       "<div>\n",
       "        \n",
       "        \n",
       "            <div id=\"f21b07df-6a97-4615-b27d-ef478d0f845b\" class=\"plotly-graph-div\" style=\"height:525px; width:100%;\"></div>\n",
       "            <script type=\"text/javascript\">\n",
       "                require([\"plotly\"], function(Plotly) {\n",
       "                    window.PLOTLYENV=window.PLOTLYENV || {};\n",
       "                    \n",
       "                if (document.getElementById(\"f21b07df-6a97-4615-b27d-ef478d0f845b\")) {\n",
       "                    Plotly.newPlot(\n",
       "                        'f21b07df-6a97-4615-b27d-ef478d0f845b',\n",
       "                        [{\"showlegend\": false, \"type\": \"bar\", \"x\": [\"PC 1\", \"PC 2\", \"PC 3\", \"PC 4\", \"PC 5\", \"PC 6\", \"PC 7\", \"PC 8\", \"PC 9\", \"PC 10\", \"PC 11\", \"PC 12\", \"PC 13\", \"PC 14\", \"PC 15\", \"PC 16\", \"PC 17\", \"PC 18\", \"PC 19\", \"PC 20\", \"PC 21\", \"PC 22\", \"PC 23\", \"PC 24\", \"PC 25\", \"PC 26\", \"PC 27\", \"PC 28\", \"PC 29\", \"PC 30\", \"PC 31\", \"PC 32\", \"PC 33\", \"PC 34\", \"PC 35\", \"PC 36\", \"PC 37\", \"PC 38\", \"PC 39\", \"PC 40\", \"PC 41\", \"PC 42\", \"PC 43\", \"PC 44\"], \"y\": [43.478918153418554, 10.375294149721977, 5.471409065037608, 5.103448744656871, 4.332394303096038, 4.146908446547474, 3.9123533520329024, 3.4666558281693036, 3.2824509923858254, 2.700637427382422, 2.1598287931917595, 1.9746783842564282, 1.7569109581931905, 1.507521498780264, 1.3680893285648146, 1.2355193835286968, 0.9587946428332674, 0.7833841888302104, 0.7049867285538325, 0.6235526907572876, 0.4293804727758959, 0.12280261154687445, 0.10407985573851468]}, {\"name\": \"cumulative explained variance\", \"type\": \"scatter\", \"x\": [\"PC 1\", \"PC 2\", \"PC 3\", \"PC 4\", \"PC 5\", \"PC 6\", \"PC 7\", \"PC 8\", \"PC 9\", \"PC 10\", \"PC 11\", \"PC 12\", \"PC 13\", \"PC 14\", \"PC 15\", \"PC 16\", \"PC 17\", \"PC 18\", \"PC 19\", \"PC 20\", \"PC 21\", \"PC 22\", \"PC 23\", \"PC 24\", \"PC 25\", \"PC 26\", \"PC 27\", \"PC 28\", \"PC 29\", \"PC 30\", \"PC 31\", \"PC 32\", \"PC 33\", \"PC 34\", \"PC 35\", \"PC 36\", \"PC 37\", \"PC 38\", \"PC 39\", \"PC 40\", \"PC 41\", \"PC 42\", \"PC 43\", \"PC 44\"], \"y\": [43.478918153418554, 53.85421230314053, 59.32562136817813, 64.429070112835, 68.76146441593104, 72.90837286247852, 76.82072621451142, 80.28738204268073, 83.56983303506655, 86.27047046244897, 88.43029925564073, 90.40497763989715, 92.16188859809034, 93.6694100968706, 95.03749942543543, 96.27301880896412, 97.2318134517974, 98.0151976406276, 98.72018436918144, 99.34373705993873, 99.77311753271462, 99.8959201442615, 100.00000000000001]}],\n",
       "                        {\"template\": {\"data\": {\"bar\": [{\"error_x\": {\"color\": \"#2a3f5f\"}, \"error_y\": {\"color\": \"#2a3f5f\"}, \"marker\": {\"line\": {\"color\": \"#E5ECF6\", \"width\": 0.5}}, \"type\": \"bar\"}], \"barpolar\": [{\"marker\": {\"line\": {\"color\": \"#E5ECF6\", \"width\": 0.5}}, \"type\": \"barpolar\"}], \"carpet\": [{\"aaxis\": {\"endlinecolor\": \"#2a3f5f\", \"gridcolor\": \"white\", \"linecolor\": \"white\", \"minorgridcolor\": \"white\", \"startlinecolor\": \"#2a3f5f\"}, \"baxis\": {\"endlinecolor\": \"#2a3f5f\", \"gridcolor\": \"white\", \"linecolor\": \"white\", \"minorgridcolor\": \"white\", \"startlinecolor\": \"#2a3f5f\"}, \"type\": \"carpet\"}], \"choropleth\": [{\"colorbar\": {\"outlinewidth\": 0, \"ticks\": \"\"}, \"type\": \"choropleth\"}], \"contour\": [{\"colorbar\": {\"outlinewidth\": 0, \"ticks\": \"\"}, \"colorscale\": [[0.0, \"#0d0887\"], [0.1111111111111111, \"#46039f\"], [0.2222222222222222, \"#7201a8\"], [0.3333333333333333, \"#9c179e\"], [0.4444444444444444, \"#bd3786\"], [0.5555555555555556, \"#d8576b\"], [0.6666666666666666, \"#ed7953\"], [0.7777777777777778, \"#fb9f3a\"], [0.8888888888888888, \"#fdca26\"], [1.0, \"#f0f921\"]], \"type\": \"contour\"}], \"contourcarpet\": [{\"colorbar\": {\"outlinewidth\": 0, \"ticks\": \"\"}, \"type\": \"contourcarpet\"}], \"heatmap\": [{\"colorbar\": {\"outlinewidth\": 0, \"ticks\": \"\"}, \"colorscale\": [[0.0, \"#0d0887\"], [0.1111111111111111, \"#46039f\"], [0.2222222222222222, \"#7201a8\"], [0.3333333333333333, \"#9c179e\"], [0.4444444444444444, \"#bd3786\"], [0.5555555555555556, \"#d8576b\"], [0.6666666666666666, \"#ed7953\"], [0.7777777777777778, \"#fb9f3a\"], [0.8888888888888888, \"#fdca26\"], [1.0, \"#f0f921\"]], \"type\": \"heatmap\"}], \"heatmapgl\": [{\"colorbar\": {\"outlinewidth\": 0, \"ticks\": \"\"}, \"colorscale\": [[0.0, \"#0d0887\"], [0.1111111111111111, \"#46039f\"], [0.2222222222222222, \"#7201a8\"], [0.3333333333333333, \"#9c179e\"], [0.4444444444444444, \"#bd3786\"], [0.5555555555555556, \"#d8576b\"], [0.6666666666666666, \"#ed7953\"], [0.7777777777777778, \"#fb9f3a\"], [0.8888888888888888, \"#fdca26\"], [1.0, \"#f0f921\"]], \"type\": \"heatmapgl\"}], \"histogram\": [{\"marker\": {\"colorbar\": {\"outlinewidth\": 0, \"ticks\": \"\"}}, \"type\": \"histogram\"}], \"histogram2d\": [{\"colorbar\": {\"outlinewidth\": 0, \"ticks\": \"\"}, \"colorscale\": [[0.0, \"#0d0887\"], [0.1111111111111111, \"#46039f\"], [0.2222222222222222, \"#7201a8\"], [0.3333333333333333, \"#9c179e\"], [0.4444444444444444, \"#bd3786\"], [0.5555555555555556, \"#d8576b\"], [0.6666666666666666, \"#ed7953\"], [0.7777777777777778, \"#fb9f3a\"], [0.8888888888888888, \"#fdca26\"], [1.0, \"#f0f921\"]], \"type\": \"histogram2d\"}], \"histogram2dcontour\": [{\"colorbar\": {\"outlinewidth\": 0, \"ticks\": \"\"}, \"colorscale\": [[0.0, \"#0d0887\"], [0.1111111111111111, \"#46039f\"], [0.2222222222222222, \"#7201a8\"], [0.3333333333333333, \"#9c179e\"], [0.4444444444444444, \"#bd3786\"], [0.5555555555555556, \"#d8576b\"], [0.6666666666666666, \"#ed7953\"], [0.7777777777777778, \"#fb9f3a\"], [0.8888888888888888, \"#fdca26\"], [1.0, \"#f0f921\"]], \"type\": \"histogram2dcontour\"}], \"mesh3d\": [{\"colorbar\": {\"outlinewidth\": 0, \"ticks\": \"\"}, \"type\": \"mesh3d\"}], \"parcoords\": [{\"line\": {\"colorbar\": {\"outlinewidth\": 0, \"ticks\": \"\"}}, \"type\": \"parcoords\"}], \"pie\": [{\"automargin\": true, \"type\": \"pie\"}], \"scatter\": [{\"marker\": {\"colorbar\": {\"outlinewidth\": 0, \"ticks\": \"\"}}, \"type\": \"scatter\"}], \"scatter3d\": [{\"line\": {\"colorbar\": {\"outlinewidth\": 0, \"ticks\": \"\"}}, \"marker\": {\"colorbar\": {\"outlinewidth\": 0, \"ticks\": \"\"}}, \"type\": \"scatter3d\"}], \"scattercarpet\": [{\"marker\": {\"colorbar\": {\"outlinewidth\": 0, \"ticks\": \"\"}}, \"type\": \"scattercarpet\"}], \"scattergeo\": [{\"marker\": {\"colorbar\": {\"outlinewidth\": 0, \"ticks\": \"\"}}, \"type\": \"scattergeo\"}], \"scattergl\": [{\"marker\": {\"colorbar\": {\"outlinewidth\": 0, \"ticks\": \"\"}}, \"type\": \"scattergl\"}], \"scattermapbox\": [{\"marker\": {\"colorbar\": {\"outlinewidth\": 0, \"ticks\": \"\"}}, \"type\": \"scattermapbox\"}], \"scatterpolar\": [{\"marker\": {\"colorbar\": {\"outlinewidth\": 0, \"ticks\": \"\"}}, \"type\": \"scatterpolar\"}], \"scatterpolargl\": [{\"marker\": {\"colorbar\": {\"outlinewidth\": 0, \"ticks\": \"\"}}, \"type\": \"scatterpolargl\"}], \"scatterternary\": [{\"marker\": {\"colorbar\": {\"outlinewidth\": 0, \"ticks\": \"\"}}, \"type\": \"scatterternary\"}], \"surface\": [{\"colorbar\": {\"outlinewidth\": 0, \"ticks\": \"\"}, \"colorscale\": [[0.0, \"#0d0887\"], [0.1111111111111111, \"#46039f\"], [0.2222222222222222, \"#7201a8\"], [0.3333333333333333, \"#9c179e\"], [0.4444444444444444, \"#bd3786\"], [0.5555555555555556, \"#d8576b\"], [0.6666666666666666, \"#ed7953\"], [0.7777777777777778, \"#fb9f3a\"], [0.8888888888888888, \"#fdca26\"], [1.0, \"#f0f921\"]], \"type\": \"surface\"}], \"table\": [{\"cells\": {\"fill\": {\"color\": \"#EBF0F8\"}, \"line\": {\"color\": \"white\"}}, \"header\": {\"fill\": {\"color\": \"#C8D4E3\"}, \"line\": {\"color\": \"white\"}}, \"type\": \"table\"}]}, \"layout\": {\"annotationdefaults\": {\"arrowcolor\": \"#2a3f5f\", \"arrowhead\": 0, \"arrowwidth\": 1}, \"coloraxis\": {\"colorbar\": {\"outlinewidth\": 0, \"ticks\": \"\"}}, \"colorscale\": {\"diverging\": [[0, \"#8e0152\"], [0.1, \"#c51b7d\"], [0.2, \"#de77ae\"], [0.3, \"#f1b6da\"], [0.4, \"#fde0ef\"], [0.5, \"#f7f7f7\"], [0.6, \"#e6f5d0\"], [0.7, \"#b8e186\"], [0.8, \"#7fbc41\"], [0.9, \"#4d9221\"], [1, \"#276419\"]], \"sequential\": [[0.0, \"#0d0887\"], [0.1111111111111111, \"#46039f\"], [0.2222222222222222, \"#7201a8\"], [0.3333333333333333, \"#9c179e\"], [0.4444444444444444, \"#bd3786\"], [0.5555555555555556, \"#d8576b\"], [0.6666666666666666, \"#ed7953\"], [0.7777777777777778, \"#fb9f3a\"], [0.8888888888888888, \"#fdca26\"], [1.0, \"#f0f921\"]], \"sequentialminus\": [[0.0, \"#0d0887\"], [0.1111111111111111, \"#46039f\"], [0.2222222222222222, \"#7201a8\"], [0.3333333333333333, \"#9c179e\"], [0.4444444444444444, \"#bd3786\"], [0.5555555555555556, \"#d8576b\"], [0.6666666666666666, \"#ed7953\"], [0.7777777777777778, \"#fb9f3a\"], [0.8888888888888888, \"#fdca26\"], [1.0, \"#f0f921\"]]}, \"colorway\": [\"#636efa\", \"#EF553B\", \"#00cc96\", \"#ab63fa\", \"#FFA15A\", \"#19d3f3\", \"#FF6692\", \"#B6E880\", \"#FF97FF\", \"#FECB52\"], \"font\": {\"color\": \"#2a3f5f\"}, \"geo\": {\"bgcolor\": \"white\", \"lakecolor\": \"white\", \"landcolor\": \"#E5ECF6\", \"showlakes\": true, \"showland\": true, \"subunitcolor\": \"white\"}, \"hoverlabel\": {\"align\": \"left\"}, \"hovermode\": \"closest\", \"mapbox\": {\"style\": \"light\"}, \"paper_bgcolor\": \"white\", \"plot_bgcolor\": \"#E5ECF6\", \"polar\": {\"angularaxis\": {\"gridcolor\": \"white\", \"linecolor\": \"white\", \"ticks\": \"\"}, \"bgcolor\": \"#E5ECF6\", \"radialaxis\": {\"gridcolor\": \"white\", \"linecolor\": \"white\", \"ticks\": \"\"}}, \"scene\": {\"xaxis\": {\"backgroundcolor\": \"#E5ECF6\", \"gridcolor\": \"white\", \"gridwidth\": 2, \"linecolor\": \"white\", \"showbackground\": true, \"ticks\": \"\", \"zerolinecolor\": \"white\"}, \"yaxis\": {\"backgroundcolor\": \"#E5ECF6\", \"gridcolor\": \"white\", \"gridwidth\": 2, \"linecolor\": \"white\", \"showbackground\": true, \"ticks\": \"\", \"zerolinecolor\": \"white\"}, \"zaxis\": {\"backgroundcolor\": \"#E5ECF6\", \"gridcolor\": \"white\", \"gridwidth\": 2, \"linecolor\": \"white\", \"showbackground\": true, \"ticks\": \"\", \"zerolinecolor\": \"white\"}}, \"shapedefaults\": {\"line\": {\"color\": \"#2a3f5f\"}}, \"ternary\": {\"aaxis\": {\"gridcolor\": \"white\", \"linecolor\": \"white\", \"ticks\": \"\"}, \"baxis\": {\"gridcolor\": \"white\", \"linecolor\": \"white\", \"ticks\": \"\"}, \"bgcolor\": \"#E5ECF6\", \"caxis\": {\"gridcolor\": \"white\", \"linecolor\": \"white\", \"ticks\": \"\"}}, \"title\": {\"x\": 0.05}, \"xaxis\": {\"automargin\": true, \"gridcolor\": \"white\", \"linecolor\": \"white\", \"ticks\": \"\", \"title\": {\"standoff\": 15}, \"zerolinecolor\": \"white\", \"zerolinewidth\": 2}, \"yaxis\": {\"automargin\": true, \"gridcolor\": \"white\", \"linecolor\": \"white\", \"ticks\": \"\", \"title\": {\"standoff\": 15}, \"zerolinecolor\": \"white\", \"zerolinewidth\": 2}}}, \"title\": {\"text\": \"Explained variance by first 45 principal components\"}, \"yaxis\": {\"title\": {\"text\": \"Explained variance in percent\"}}},\n",
       "                        {\"responsive\": true}\n",
       "                    ).then(function(){\n",
       "                            \n",
       "var gd = document.getElementById('f21b07df-6a97-4615-b27d-ef478d0f845b');\n",
       "var x = new MutationObserver(function (mutations, observer) {{\n",
       "        var display = window.getComputedStyle(gd).display;\n",
       "        if (!display || display === 'none') {{\n",
       "            console.log([gd, 'removed!']);\n",
       "            Plotly.purge(gd);\n",
       "            observer.disconnect();\n",
       "        }}\n",
       "}});\n",
       "\n",
       "// Listen for the removal of the full notebook cells\n",
       "var notebookContainer = gd.closest('#notebook-container');\n",
       "if (notebookContainer) {{\n",
       "    x.observe(notebookContainer, {childList: true});\n",
       "}}\n",
       "\n",
       "// Listen for the clearing of the current output cell\n",
       "var outputEl = gd.closest('.output');\n",
       "if (outputEl) {{\n",
       "    x.observe(outputEl, {childList: true});\n",
       "}}\n",
       "\n",
       "                        })\n",
       "                };\n",
       "                });\n",
       "            </script>\n",
       "        </div>"
      ]
     },
     "metadata": {},
     "output_type": "display_data"
    }
   ],
   "source": [
    "#There are 23 components all together. We can see that the early components (0-40) describe variation across all\n",
    "#the stocks (red spots in top left corner). It also appears that the variation represented by the later components\n",
    "#is more distributed.\n",
    "\n",
    "# The total variability in the system is now represented by the 90 components,\n",
    "# (as opposed to the 1520 dimensions in the original dataset). \n",
    "# The eigenvalues can be used to describe how much variance is explained by each component, \n",
    "#(i.e. how the varaiance is distributed across our PC's).\n",
    "\n",
    "tot = sum(eig_vals)\n",
    "var_exp = [(i / tot)*100 for i in sorted(eig_vals, reverse=True)]\n",
    "cum_var_exp = np.cumsum(var_exp)\n",
    "\n",
    "trace1 = Bar(\n",
    "        x=['PC %s' %i for i in range(1,45)],\n",
    "        y=var_exp,\n",
    "        showlegend=False)\n",
    "\n",
    "trace2 = Scatter(\n",
    "        x=['PC %s' %i for i in range(1,45)], \n",
    "        y=cum_var_exp,\n",
    "        name='cumulative explained variance')\n",
    "\n",
    "data = Data([trace1, trace2])\n",
    "\n",
    "layout=Layout(\n",
    "        yaxis=YAxis(title='Explained variance in percent'),\n",
    "        title='Explained variance by first %s principal components' % 45)\n",
    "\n",
    "fig = Figure(data=data, layout=layout)\n",
    "iplot(fig)"
   ]
  },
  {
   "cell_type": "code",
   "execution_count": 160,
   "metadata": {},
   "outputs": [
    {
     "data": {
      "text/plain": [
       "[43.478918153418554,\n",
       " 10.375294149721977,\n",
       " 5.471409065037608,\n",
       " 5.103448744656871,\n",
       " 4.332394303096038,\n",
       " 4.146908446547474,\n",
       " 3.9123533520329024,\n",
       " 3.4666558281693036,\n",
       " 3.2824509923858254,\n",
       " 2.700637427382422,\n",
       " 2.1598287931917595,\n",
       " 1.9746783842564282,\n",
       " 1.7569109581931905,\n",
       " 1.507521498780264,\n",
       " 1.3680893285648146,\n",
       " 1.2355193835286968,\n",
       " 0.9587946428332674,\n",
       " 0.7833841888302104,\n",
       " 0.7049867285538325,\n",
       " 0.6235526907572876,\n",
       " 0.4293804727758959,\n",
       " 0.12280261154687445,\n",
       " 0.10407985573851468]"
      ]
     },
     "execution_count": 160,
     "metadata": {},
     "output_type": "execute_result"
    }
   ],
   "source": [
    "var_exp"
   ]
  },
  {
   "cell_type": "code",
   "execution_count": 188,
   "metadata": {},
   "outputs": [
    {
     "data": {
      "text/plain": [
       "array([ 43.47891815,  53.8542123 ,  59.32562137,  64.42907011,\n",
       "        68.76146442,  72.90837286,  76.82072621,  80.28738204,\n",
       "        83.56983304,  86.27047046,  88.43029926,  90.40497764,\n",
       "        92.1618886 ,  93.6694101 ,  95.03749943,  96.27301881,\n",
       "        97.23181345,  98.01519764,  98.72018437,  99.34373706,\n",
       "        99.77311753,  99.89592014, 100.        ])"
      ]
     },
     "execution_count": 188,
     "metadata": {},
     "output_type": "execute_result"
    }
   ],
   "source": [
    "cum_var_exp"
   ]
  },
  {
   "cell_type": "code",
   "execution_count": 186,
   "metadata": {},
   "outputs": [
    {
     "name": "stdout",
     "output_type": "stream",
     "text": [
      "Eigenvectors \n",
      "[[-1.84791773e-01  2.45194037e-01 -1.38955587e-01  3.50391976e-01\n",
      "   1.75919450e-01 -1.19630523e-01 -1.92370965e-01  1.17650863e-01\n",
      "  -8.63960932e-02 -7.54119883e-02  4.69693213e-01 -6.43100497e-02\n",
      "  -1.07724349e-01 -4.30883990e-02 -7.73931950e-02  5.29506131e-01\n",
      "  -3.27143968e-01 -5.53125880e-02 -8.97455351e-02 -1.46471322e-02\n",
      "   6.33359840e-02 -7.24645626e-02  4.69137656e-02]\n",
      " [-2.56755664e-01 -3.63213756e-02  7.92574190e-02 -1.17572828e-01\n",
      "   2.63623349e-02 -1.82248471e-02  7.19184767e-02  1.88064842e-01\n",
      "  -1.43364344e-02 -3.54061258e-01 -1.28823712e-01 -3.61705109e-01\n",
      "  -5.82354407e-02  2.56970730e-02  1.57776387e-01  3.24004604e-02\n",
      "   1.75633150e-02 -2.28794814e-01 -2.25028562e-02 -6.52429276e-01\n",
      "  -5.13949307e-02  2.86042357e-01  6.93609182e-02]\n",
      " [-2.89795953e-01  1.36718103e-01  3.72517824e-02 -2.95675613e-02\n",
      "   3.47468133e-02  4.49335914e-02  2.37029552e-02 -4.96208656e-02\n",
      "   5.83699647e-02 -1.35134307e-02 -1.61779055e-01  9.50391429e-02\n",
      "  -5.44595892e-01 -4.02003150e-02 -1.54240427e-01 -9.80112149e-02\n",
      "  -2.29910089e-01  1.36835222e-02  6.38834967e-01  3.72081519e-02\n",
      "  -3.54843869e-02 -6.01745085e-03 -2.33637914e-01]\n",
      " [-4.79269899e-02 -3.12450730e-01 -9.09172094e-02  1.67538418e-01\n",
      "  -1.77933319e-03  4.96032308e-01 -3.54706723e-01  1.55978354e-01\n",
      "   6.45194611e-01 -8.06223280e-02 -1.20665856e-02 -5.43078865e-03\n",
      "  -5.50478877e-03  6.45620606e-03  1.58015461e-01  5.48769296e-03\n",
      "  -9.25125371e-02 -2.42411519e-02  9.53128320e-03  7.07225787e-02\n",
      "  -4.69321148e-03 -9.41369545e-03  7.19281451e-02]\n",
      " [-2.48155726e-01  8.28640322e-02 -1.35622016e-02 -1.52341643e-01\n",
      "  -5.10396620e-02  1.03511774e-01  3.11358892e-02 -1.07479442e-01\n",
      "   7.61657295e-02 -5.21974414e-02 -5.03799695e-01 -1.26194429e-01\n",
      "  -2.92209056e-03 -1.04733046e-02 -4.90977161e-01  3.51573273e-01\n",
      "  -4.75189421e-02 -1.46923987e-02 -3.21764183e-01  2.89412543e-01\n",
      "  -4.97792566e-02  1.72179738e-01  1.31849470e-01]\n",
      " [ 9.98024539e-04  2.14074214e-01 -3.66955704e-01 -4.70908010e-01\n",
      "  -5.66228825e-02 -2.39792278e-01  9.61265944e-02  6.15235280e-01\n",
      "   2.72722619e-01  2.07047234e-01  5.19123054e-02 -9.35426814e-02\n",
      "   2.85667882e-03  2.06701272e-02  2.33367823e-02 -1.13197134e-02\n",
      "  -2.85005116e-02  6.81702364e-02  5.41600702e-03  9.24697780e-02\n",
      "  -1.13679212e-02 -6.89676151e-02 -2.39678415e-02]\n",
      " [-1.72597934e-01  3.73817119e-02  4.40150827e-01 -2.25620231e-01\n",
      "   1.63351268e-01  1.88757262e-02  3.32772050e-01 -1.65337231e-01\n",
      "   2.97452675e-01  2.03502534e-01  1.88101540e-01  4.61810358e-02\n",
      "  -5.51998196e-03  2.26882097e-02  3.36222250e-01  4.34410096e-01\n",
      "   2.46185481e-01 -6.32091933e-02  8.14010946e-02  1.22661563e-01\n",
      "  -4.25235810e-02  3.39160440e-02 -1.09316441e-02]\n",
      " [ 7.89675330e-02  1.88461245e-01 -5.31126640e-01 -1.48746100e-01\n",
      "  -3.48902778e-02 -1.85942228e-01  6.86168769e-02 -5.55069453e-01\n",
      "   3.09144630e-01 -3.85787517e-01  4.27950748e-02  1.55797244e-01\n",
      "  -2.00905923e-02 -2.49433856e-02  1.30444081e-01  4.27984091e-02\n",
      "   7.46029540e-02 -2.86301461e-02  9.81259992e-03 -7.53923643e-02\n",
      "  -2.08437461e-03 -1.59533083e-02  5.11776252e-02]\n",
      " [-3.94670581e-02 -3.73959000e-02 -6.70727286e-02 -4.85845051e-01\n",
      "   6.18349505e-01  1.08697874e-01 -5.08387669e-01 -1.71820321e-01\n",
      "  -2.22220894e-01  1.19729114e-01  2.35815619e-02 -4.66916407e-02\n",
      "   4.83541019e-03 -9.01717356e-04  5.28878623e-02 -5.54911759e-02\n",
      "  -2.73325807e-03  1.40862929e-02 -1.61414059e-02 -6.48337388e-03\n",
      "  -2.60599504e-02  2.28678016e-02  1.68416948e-02]\n",
      " [-2.55515263e-01  2.27937983e-01 -1.21892647e-02  2.21470843e-01\n",
      "   3.96243708e-02 -5.43325419e-02 -9.64721822e-02 -3.45844209e-02\n",
      "   8.96210652e-02  1.05792714e-01  7.01000560e-02 -7.55276640e-02\n",
      "  -1.67767756e-01 -1.64464134e-02  3.70474583e-02 -2.70642309e-01\n",
      "   2.62058153e-01  6.05954530e-03 -3.19397747e-01  2.66853047e-02\n",
      "  -6.88663576e-01 -7.10020615e-02 -1.86862097e-01]\n",
      " [-2.46872541e-01  1.43763559e-01  1.83380378e-01 -1.94842524e-02\n",
      "   1.41257182e-01 -1.82761482e-02  2.04655128e-01 -7.65022325e-02\n",
      "   1.63312870e-01  2.61882850e-02  1.38420378e-01  1.40491135e-01\n",
      "   5.47115008e-02 -2.78074353e-02 -9.15722656e-03 -3.83383151e-01\n",
      "  -4.04171558e-01  4.23281808e-01 -1.74507244e-01 -7.55450978e-02\n",
      "   6.90665808e-02  1.48199543e-01  4.40284925e-01]\n",
      " [-2.46265360e-01  2.11826238e-01 -6.54830102e-02  2.20777315e-01\n",
      "   4.65013797e-02 -9.58389391e-02 -1.50701723e-01  1.19434979e-02\n",
      "   6.03015646e-02  9.12039983e-02  6.62401343e-02 -1.53057727e-01\n",
      "  -8.79329366e-02  1.58267470e-02 -1.78180110e-02 -2.45037736e-01\n",
      "   4.98830410e-01 -1.30758675e-01  3.96337547e-02  1.99016472e-01\n",
      "   5.38195454e-01  2.91263322e-01  1.32446337e-01]\n",
      " [-2.81202130e-01  7.79983594e-02  5.81557902e-02 -8.17996340e-02\n",
      "  -2.44219488e-02  1.36553307e-01  5.54890893e-02 -1.03596091e-01\n",
      "   8.31747336e-02  8.02482576e-02 -5.65893192e-02 -3.89360551e-02\n",
      "   2.10377277e-02 -2.49302007e-02 -9.99851471e-02 -9.26667270e-02\n",
      "   1.66367656e-02 -6.29372676e-02 -2.51974852e-01 -2.75351986e-01\n",
      "   3.82633344e-01 -7.01136591e-01 -2.28999471e-01]\n",
      " [-4.11170971e-02 -8.41338357e-02  3.83293918e-01 -1.42451991e-01\n",
      "  -3.81275439e-01 -5.66420135e-01 -5.41927206e-01 -1.11735318e-01\n",
      "   1.93642980e-01 -1.01224732e-02 -1.48842131e-02 -6.16589408e-03\n",
      "   3.54697142e-03 -2.69244240e-03  3.91352215e-04  1.79778807e-02\n",
      "  -1.01611436e-01  1.50269626e-02 -3.18540608e-05 -1.62925153e-02\n",
      "   1.33552610e-02 -4.41475137e-02  2.24756933e-02]\n",
      " [-2.47872228e-01 -1.77181080e-01 -1.11738689e-01 -1.55050524e-01\n",
      "  -2.61550193e-01  1.22011542e-01  1.97902590e-02 -1.08987139e-01\n",
      "  -1.19095442e-01 -3.26462975e-02  2.44238427e-01 -6.72992465e-02\n",
      "   2.98638138e-02  8.67756947e-02  1.31418117e-01 -1.92773754e-02\n",
      "  -1.56346311e-01  2.53128752e-01 -2.13634097e-01  1.20008345e-01\n",
      "   1.52007882e-01  3.69381013e-01 -6.01224542e-01]\n",
      " [-2.55710639e-01 -1.69285035e-01 -1.77253129e-01 -1.06359920e-01\n",
      "  -2.96538532e-01  1.12572457e-01  3.13191769e-03 -1.21869833e-01\n",
      "  -1.94841621e-01  1.64187977e-01  1.78610754e-01 -6.05991086e-02\n",
      "  -7.19965400e-02  6.55144566e-01  4.42147906e-03 -2.92497726e-04\n",
      "   2.34634066e-03 -1.30756934e-01  1.13341418e-01  3.35981575e-02\n",
      "  -1.25529104e-01 -1.44538739e-01  3.80938683e-01]\n",
      " [-1.72042960e-01 -3.67862195e-01 -1.01662840e-01  1.47224936e-01\n",
      "   1.94094601e-01 -2.61861681e-01  8.72583253e-02  3.04496126e-02\n",
      "  -6.29481119e-02 -2.25348245e-01 -1.52931639e-01 -3.67785868e-01\n",
      "  -2.06589975e-02 -5.95683420e-03  1.53758369e-01  9.44072855e-02\n",
      "   1.61638159e-01  5.37202768e-01  1.25960918e-01  1.83125520e-01\n",
      "  -5.60859447e-03 -2.72318898e-01  5.96936305e-02]\n",
      " [-2.90202272e-01  1.97399667e-01 -2.39754853e-02  1.01788277e-01\n",
      "   5.14415388e-02 -7.59503984e-03 -5.45759378e-02 -2.19402472e-02\n",
      "   4.87107413e-02 -2.45793930e-02 -5.34641129e-02 -2.69545770e-02\n",
      "   7.98997642e-01  7.55103797e-02 -8.73526413e-02 -3.49061816e-02\n",
      "  -5.04503888e-02 -4.38114163e-02  3.94633974e-01  1.36025805e-02\n",
      "  -1.30027672e-01  1.32213575e-03 -1.51367317e-01]\n",
      " [-1.65041673e-01 -3.84317516e-01 -4.95014882e-02  4.24440080e-02\n",
      "   2.45461591e-01 -3.16325509e-01  2.17362193e-01  8.78608081e-03\n",
      "   3.33664618e-02 -5.61125383e-02 -1.26383386e-02  4.02760894e-02\n",
      "   2.40060906e-02 -5.05688116e-02  6.90387177e-02 -2.28345345e-01\n",
      "  -2.93559341e-01 -5.84610280e-01 -1.32456619e-01  3.12414162e-01\n",
      "   1.03174514e-02 -2.61633498e-02 -5.65932364e-02]\n",
      " [-2.09442259e-01 -3.31499328e-02  1.54602542e-01 -1.85485777e-01\n",
      "  -1.23786197e-02  7.71666350e-02 -5.49170932e-02  3.06554400e-01\n",
      "  -1.44226980e-01 -5.89978711e-01  1.77317948e-01  5.13107715e-01\n",
      "   8.10258760e-03  1.45445359e-02 -1.20854342e-01 -2.15810292e-02\n",
      "   2.76169732e-01  1.73755701e-02 -3.72889025e-02  1.55225018e-01\n",
      "  -3.05452148e-02 -9.98356955e-02  4.15382689e-02]\n",
      " [-1.40010957e-01 -4.09665839e-01 -1.87536402e-01  1.13557949e-01\n",
      "   1.56486107e-01 -2.22392666e-01  3.25801744e-02  1.85266172e-02\n",
      "   1.38858478e-01  3.20896754e-01  1.89681635e-02  4.09421750e-01\n",
      "   1.07224803e-02  3.89757496e-02 -3.56689025e-01  1.36130849e-01\n",
      "   2.07120025e-01  1.18919549e-01  1.10430648e-03 -4.01658223e-01\n",
      "  -7.48004892e-03  1.65651543e-01 -7.51785187e-02]\n",
      " [-2.58485081e-01 -1.74393577e-01 -1.61219967e-01 -1.29840289e-01\n",
      "  -3.10316470e-01  1.29918962e-01 -7.31477121e-03 -6.99154602e-02\n",
      "  -1.82807548e-01  1.68299296e-01  1.61234556e-01 -4.51946602e-02\n",
      "   5.40683584e-02 -7.38267830e-01  3.51424352e-02  2.00553343e-02\n",
      "   6.75504134e-02 -6.90295588e-02  1.19912355e-01  1.26005989e-03\n",
      "  -9.96550630e-02 -3.58383607e-02  2.59804629e-01]\n",
      " [ 2.20614823e-01 -1.38569409e-01  1.37472780e-01 -1.48041359e-01\n",
      "   5.97808684e-02  4.28484167e-02  1.19550035e-01 -1.05545966e-01\n",
      "   2.07811036e-01 -1.53058603e-01  4.84305302e-01 -4.16561055e-01\n",
      "   2.91749392e-03 -2.04611643e-02 -5.81144521e-01 -1.42668796e-01\n",
      "   8.66458047e-02 -2.82355887e-02  1.08446788e-01  1.62218563e-02\n",
      "  -6.97794885e-02 -1.49610087e-02 -4.30289461e-02]]\n",
      "\n",
      "Eigenvalues \n",
      "[10.00015118  2.38631765  1.25842408  1.17379321  0.99645069  0.95378894\n",
      "  0.89984127  0.79733084  0.75496373  0.62114661  0.49676062  0.45417603\n",
      "  0.02393837  0.0282446   0.40408952  0.34672994  0.31466055  0.28416946\n",
      "  0.09875751  0.22052277  0.14341712  0.16214695  0.18017836]\n"
     ]
    }
   ],
   "source": [
    "print('Eigenvectors \\n%s' %eig_vecs)\n",
    "print('\\nEigenvalues \\n%s' %eig_vals)"
   ]
  },
  {
   "cell_type": "code",
   "execution_count": 164,
   "metadata": {},
   "outputs": [
    {
     "data": {
      "application/vnd.plotly.v1+json": {
       "config": {
        "linkText": "Export to plot.ly",
        "plotlyServerURL": "https://plot.ly",
        "showLink": false
       },
       "data": [
        {
         "mode": "lines+markers",
         "name": "Stocks",
         "text": [
          "",
          "AMZN",
          "",
          "DVEM",
          "",
          "ES=F",
          "",
          "EURJPY=X",
          "",
          "GS",
          "",
          "INR=X",
          "",
          "MORT",
          "",
          "MXN=X",
          "",
          "NG=F",
          "",
          "PSJ",
          "",
          "RAAAX"
         ],
         "type": "scatter",
         "x": [
          0,
          0.1483554743084107,
          0,
          0.10714673975623872,
          0,
          -0.26209385014648434,
          0,
          0.07792820227197325,
          0,
          0.13161527500034775,
          0,
          -0.023407501828522154,
          0,
          -0.010369753655611857,
          0,
          0.04569823334608498,
          0,
          0.014633521061425347,
          0,
          -0.14727135304346697,
          0,
          0.3103183068424
         ],
         "y": [
          0,
          -0.22915479964262142,
          0,
          0.4418699581845014,
          0,
          -0.006750346448652757,
          0,
          -0.010198961230856767,
          0,
          0.17187390663835855,
          0,
          -0.06735523415701564,
          0,
          0.03217274704769808,
          0,
          -0.014245248787846854,
          0,
          0.01986952377320898,
          0,
          -0.0559587516527436,
          0,
          0.10445288628757135
         ]
        },
        {
         "mode": "lines+markers",
         "name": "Sectors",
         "text": [
          "",
          "SCATX",
          "",
          "UMPSX",
          "",
          "ZC=F",
          "",
          "^FTSE",
          "",
          "^GDAXI",
          "",
          "^HSI",
          "",
          "^IXIC",
          "",
          "^KS11",
          "",
          "^MXX",
          "",
          "^N225",
          "",
          "^STOXX50E",
          "",
          "^VIX"
         ],
         "type": "scatter",
         "x": [
          0,
          0.08925900800331482,
          0,
          -0.03543086359393503,
          0,
          0.0037772942418324144,
          0,
          -0.38218663320923624,
          0,
          0.2243110925901177,
          0,
          0.03348491018835983,
          0,
          -0.08069020366005268,
          0,
          -0.017784824909116797,
          0,
          0.019506309482374643,
          0,
          -0.028470445373005887,
          0,
          0.1046167617528478,
          0,
          -0.018264678330724274
         ],
         "y": [
          0,
          0.19628987713530274,
          0,
          -0.10848005368234587,
          0,
          -0.0074194885572432855,
          0,
          0.23480825537037175,
          0,
          -0.08510987196715065,
          0,
          -0.15275622837806,
          0,
          0.0007047981378024441,
          0,
          -0.00822201776787708,
          0,
          -0.04688269464618796,
          0,
          0.06273298934038048,
          0,
          -0.014431202643625924,
          0,
          -0.0063505624901045365
         ]
        },
        {
         "mode": "lines+markers",
         "name": "Regions",
         "text": [],
         "type": "scatter",
         "x": [],
         "y": []
        }
       ],
       "layout": {
        "template": {
         "data": {
          "bar": [
           {
            "error_x": {
             "color": "#2a3f5f"
            },
            "error_y": {
             "color": "#2a3f5f"
            },
            "marker": {
             "line": {
              "color": "#E5ECF6",
              "width": 0.5
             }
            },
            "type": "bar"
           }
          ],
          "barpolar": [
           {
            "marker": {
             "line": {
              "color": "#E5ECF6",
              "width": 0.5
             }
            },
            "type": "barpolar"
           }
          ],
          "carpet": [
           {
            "aaxis": {
             "endlinecolor": "#2a3f5f",
             "gridcolor": "white",
             "linecolor": "white",
             "minorgridcolor": "white",
             "startlinecolor": "#2a3f5f"
            },
            "baxis": {
             "endlinecolor": "#2a3f5f",
             "gridcolor": "white",
             "linecolor": "white",
             "minorgridcolor": "white",
             "startlinecolor": "#2a3f5f"
            },
            "type": "carpet"
           }
          ],
          "choropleth": [
           {
            "colorbar": {
             "outlinewidth": 0,
             "ticks": ""
            },
            "type": "choropleth"
           }
          ],
          "contour": [
           {
            "colorbar": {
             "outlinewidth": 0,
             "ticks": ""
            },
            "colorscale": [
             [
              0,
              "#0d0887"
             ],
             [
              0.1111111111111111,
              "#46039f"
             ],
             [
              0.2222222222222222,
              "#7201a8"
             ],
             [
              0.3333333333333333,
              "#9c179e"
             ],
             [
              0.4444444444444444,
              "#bd3786"
             ],
             [
              0.5555555555555556,
              "#d8576b"
             ],
             [
              0.6666666666666666,
              "#ed7953"
             ],
             [
              0.7777777777777778,
              "#fb9f3a"
             ],
             [
              0.8888888888888888,
              "#fdca26"
             ],
             [
              1,
              "#f0f921"
             ]
            ],
            "type": "contour"
           }
          ],
          "contourcarpet": [
           {
            "colorbar": {
             "outlinewidth": 0,
             "ticks": ""
            },
            "type": "contourcarpet"
           }
          ],
          "heatmap": [
           {
            "colorbar": {
             "outlinewidth": 0,
             "ticks": ""
            },
            "colorscale": [
             [
              0,
              "#0d0887"
             ],
             [
              0.1111111111111111,
              "#46039f"
             ],
             [
              0.2222222222222222,
              "#7201a8"
             ],
             [
              0.3333333333333333,
              "#9c179e"
             ],
             [
              0.4444444444444444,
              "#bd3786"
             ],
             [
              0.5555555555555556,
              "#d8576b"
             ],
             [
              0.6666666666666666,
              "#ed7953"
             ],
             [
              0.7777777777777778,
              "#fb9f3a"
             ],
             [
              0.8888888888888888,
              "#fdca26"
             ],
             [
              1,
              "#f0f921"
             ]
            ],
            "type": "heatmap"
           }
          ],
          "heatmapgl": [
           {
            "colorbar": {
             "outlinewidth": 0,
             "ticks": ""
            },
            "colorscale": [
             [
              0,
              "#0d0887"
             ],
             [
              0.1111111111111111,
              "#46039f"
             ],
             [
              0.2222222222222222,
              "#7201a8"
             ],
             [
              0.3333333333333333,
              "#9c179e"
             ],
             [
              0.4444444444444444,
              "#bd3786"
             ],
             [
              0.5555555555555556,
              "#d8576b"
             ],
             [
              0.6666666666666666,
              "#ed7953"
             ],
             [
              0.7777777777777778,
              "#fb9f3a"
             ],
             [
              0.8888888888888888,
              "#fdca26"
             ],
             [
              1,
              "#f0f921"
             ]
            ],
            "type": "heatmapgl"
           }
          ],
          "histogram": [
           {
            "marker": {
             "colorbar": {
              "outlinewidth": 0,
              "ticks": ""
             }
            },
            "type": "histogram"
           }
          ],
          "histogram2d": [
           {
            "colorbar": {
             "outlinewidth": 0,
             "ticks": ""
            },
            "colorscale": [
             [
              0,
              "#0d0887"
             ],
             [
              0.1111111111111111,
              "#46039f"
             ],
             [
              0.2222222222222222,
              "#7201a8"
             ],
             [
              0.3333333333333333,
              "#9c179e"
             ],
             [
              0.4444444444444444,
              "#bd3786"
             ],
             [
              0.5555555555555556,
              "#d8576b"
             ],
             [
              0.6666666666666666,
              "#ed7953"
             ],
             [
              0.7777777777777778,
              "#fb9f3a"
             ],
             [
              0.8888888888888888,
              "#fdca26"
             ],
             [
              1,
              "#f0f921"
             ]
            ],
            "type": "histogram2d"
           }
          ],
          "histogram2dcontour": [
           {
            "colorbar": {
             "outlinewidth": 0,
             "ticks": ""
            },
            "colorscale": [
             [
              0,
              "#0d0887"
             ],
             [
              0.1111111111111111,
              "#46039f"
             ],
             [
              0.2222222222222222,
              "#7201a8"
             ],
             [
              0.3333333333333333,
              "#9c179e"
             ],
             [
              0.4444444444444444,
              "#bd3786"
             ],
             [
              0.5555555555555556,
              "#d8576b"
             ],
             [
              0.6666666666666666,
              "#ed7953"
             ],
             [
              0.7777777777777778,
              "#fb9f3a"
             ],
             [
              0.8888888888888888,
              "#fdca26"
             ],
             [
              1,
              "#f0f921"
             ]
            ],
            "type": "histogram2dcontour"
           }
          ],
          "mesh3d": [
           {
            "colorbar": {
             "outlinewidth": 0,
             "ticks": ""
            },
            "type": "mesh3d"
           }
          ],
          "parcoords": [
           {
            "line": {
             "colorbar": {
              "outlinewidth": 0,
              "ticks": ""
             }
            },
            "type": "parcoords"
           }
          ],
          "pie": [
           {
            "automargin": true,
            "type": "pie"
           }
          ],
          "scatter": [
           {
            "marker": {
             "colorbar": {
              "outlinewidth": 0,
              "ticks": ""
             }
            },
            "type": "scatter"
           }
          ],
          "scatter3d": [
           {
            "line": {
             "colorbar": {
              "outlinewidth": 0,
              "ticks": ""
             }
            },
            "marker": {
             "colorbar": {
              "outlinewidth": 0,
              "ticks": ""
             }
            },
            "type": "scatter3d"
           }
          ],
          "scattercarpet": [
           {
            "marker": {
             "colorbar": {
              "outlinewidth": 0,
              "ticks": ""
             }
            },
            "type": "scattercarpet"
           }
          ],
          "scattergeo": [
           {
            "marker": {
             "colorbar": {
              "outlinewidth": 0,
              "ticks": ""
             }
            },
            "type": "scattergeo"
           }
          ],
          "scattergl": [
           {
            "marker": {
             "colorbar": {
              "outlinewidth": 0,
              "ticks": ""
             }
            },
            "type": "scattergl"
           }
          ],
          "scattermapbox": [
           {
            "marker": {
             "colorbar": {
              "outlinewidth": 0,
              "ticks": ""
             }
            },
            "type": "scattermapbox"
           }
          ],
          "scatterpolar": [
           {
            "marker": {
             "colorbar": {
              "outlinewidth": 0,
              "ticks": ""
             }
            },
            "type": "scatterpolar"
           }
          ],
          "scatterpolargl": [
           {
            "marker": {
             "colorbar": {
              "outlinewidth": 0,
              "ticks": ""
             }
            },
            "type": "scatterpolargl"
           }
          ],
          "scatterternary": [
           {
            "marker": {
             "colorbar": {
              "outlinewidth": 0,
              "ticks": ""
             }
            },
            "type": "scatterternary"
           }
          ],
          "surface": [
           {
            "colorbar": {
             "outlinewidth": 0,
             "ticks": ""
            },
            "colorscale": [
             [
              0,
              "#0d0887"
             ],
             [
              0.1111111111111111,
              "#46039f"
             ],
             [
              0.2222222222222222,
              "#7201a8"
             ],
             [
              0.3333333333333333,
              "#9c179e"
             ],
             [
              0.4444444444444444,
              "#bd3786"
             ],
             [
              0.5555555555555556,
              "#d8576b"
             ],
             [
              0.6666666666666666,
              "#ed7953"
             ],
             [
              0.7777777777777778,
              "#fb9f3a"
             ],
             [
              0.8888888888888888,
              "#fdca26"
             ],
             [
              1,
              "#f0f921"
             ]
            ],
            "type": "surface"
           }
          ],
          "table": [
           {
            "cells": {
             "fill": {
              "color": "#EBF0F8"
             },
             "line": {
              "color": "white"
             }
            },
            "header": {
             "fill": {
              "color": "#C8D4E3"
             },
             "line": {
              "color": "white"
             }
            },
            "type": "table"
           }
          ]
         },
         "layout": {
          "annotationdefaults": {
           "arrowcolor": "#2a3f5f",
           "arrowhead": 0,
           "arrowwidth": 1
          },
          "coloraxis": {
           "colorbar": {
            "outlinewidth": 0,
            "ticks": ""
           }
          },
          "colorscale": {
           "diverging": [
            [
             0,
             "#8e0152"
            ],
            [
             0.1,
             "#c51b7d"
            ],
            [
             0.2,
             "#de77ae"
            ],
            [
             0.3,
             "#f1b6da"
            ],
            [
             0.4,
             "#fde0ef"
            ],
            [
             0.5,
             "#f7f7f7"
            ],
            [
             0.6,
             "#e6f5d0"
            ],
            [
             0.7,
             "#b8e186"
            ],
            [
             0.8,
             "#7fbc41"
            ],
            [
             0.9,
             "#4d9221"
            ],
            [
             1,
             "#276419"
            ]
           ],
           "sequential": [
            [
             0,
             "#0d0887"
            ],
            [
             0.1111111111111111,
             "#46039f"
            ],
            [
             0.2222222222222222,
             "#7201a8"
            ],
            [
             0.3333333333333333,
             "#9c179e"
            ],
            [
             0.4444444444444444,
             "#bd3786"
            ],
            [
             0.5555555555555556,
             "#d8576b"
            ],
            [
             0.6666666666666666,
             "#ed7953"
            ],
            [
             0.7777777777777778,
             "#fb9f3a"
            ],
            [
             0.8888888888888888,
             "#fdca26"
            ],
            [
             1,
             "#f0f921"
            ]
           ],
           "sequentialminus": [
            [
             0,
             "#0d0887"
            ],
            [
             0.1111111111111111,
             "#46039f"
            ],
            [
             0.2222222222222222,
             "#7201a8"
            ],
            [
             0.3333333333333333,
             "#9c179e"
            ],
            [
             0.4444444444444444,
             "#bd3786"
            ],
            [
             0.5555555555555556,
             "#d8576b"
            ],
            [
             0.6666666666666666,
             "#ed7953"
            ],
            [
             0.7777777777777778,
             "#fb9f3a"
            ],
            [
             0.8888888888888888,
             "#fdca26"
            ],
            [
             1,
             "#f0f921"
            ]
           ]
          },
          "colorway": [
           "#636efa",
           "#EF553B",
           "#00cc96",
           "#ab63fa",
           "#FFA15A",
           "#19d3f3",
           "#FF6692",
           "#B6E880",
           "#FF97FF",
           "#FECB52"
          ],
          "font": {
           "color": "#2a3f5f"
          },
          "geo": {
           "bgcolor": "white",
           "lakecolor": "white",
           "landcolor": "#E5ECF6",
           "showlakes": true,
           "showland": true,
           "subunitcolor": "white"
          },
          "hoverlabel": {
           "align": "left"
          },
          "hovermode": "closest",
          "mapbox": {
           "style": "light"
          },
          "paper_bgcolor": "white",
          "plot_bgcolor": "#E5ECF6",
          "polar": {
           "angularaxis": {
            "gridcolor": "white",
            "linecolor": "white",
            "ticks": ""
           },
           "bgcolor": "#E5ECF6",
           "radialaxis": {
            "gridcolor": "white",
            "linecolor": "white",
            "ticks": ""
           }
          },
          "scene": {
           "xaxis": {
            "backgroundcolor": "#E5ECF6",
            "gridcolor": "white",
            "gridwidth": 2,
            "linecolor": "white",
            "showbackground": true,
            "ticks": "",
            "zerolinecolor": "white"
           },
           "yaxis": {
            "backgroundcolor": "#E5ECF6",
            "gridcolor": "white",
            "gridwidth": 2,
            "linecolor": "white",
            "showbackground": true,
            "ticks": "",
            "zerolinecolor": "white"
           },
           "zaxis": {
            "backgroundcolor": "#E5ECF6",
            "gridcolor": "white",
            "gridwidth": 2,
            "linecolor": "white",
            "showbackground": true,
            "ticks": "",
            "zerolinecolor": "white"
           }
          },
          "shapedefaults": {
           "line": {
            "color": "#2a3f5f"
           }
          },
          "ternary": {
           "aaxis": {
            "gridcolor": "white",
            "linecolor": "white",
            "ticks": ""
           },
           "baxis": {
            "gridcolor": "white",
            "linecolor": "white",
            "ticks": ""
           },
           "bgcolor": "#E5ECF6",
           "caxis": {
            "gridcolor": "white",
            "linecolor": "white",
            "ticks": ""
           }
          },
          "title": {
           "x": 0.05
          },
          "xaxis": {
           "automargin": true,
           "gridcolor": "white",
           "linecolor": "white",
           "ticks": "",
           "title": {
            "standoff": 15
           },
           "zerolinecolor": "white",
           "zerolinewidth": 2
          },
          "yaxis": {
           "automargin": true,
           "gridcolor": "white",
           "linecolor": "white",
           "ticks": "",
           "title": {
            "standoff": 15
           },
           "zerolinecolor": "white",
           "zerolinewidth": 2
          }
         }
        },
        "title": {
         "text": "PCA loadings plot"
        },
        "xaxis": {
         "title": {
          "text": "PC 89"
         }
        },
        "yaxis": {
         "title": {
          "text": "PC 88"
         }
        }
       }
      },
      "text/html": [
       "<div>\n",
       "        \n",
       "        \n",
       "            <div id=\"b9fe7137-370e-4112-834c-de2b12fdd0a5\" class=\"plotly-graph-div\" style=\"height:525px; width:100%;\"></div>\n",
       "            <script type=\"text/javascript\">\n",
       "                require([\"plotly\"], function(Plotly) {\n",
       "                    window.PLOTLYENV=window.PLOTLYENV || {};\n",
       "                    \n",
       "                if (document.getElementById(\"b9fe7137-370e-4112-834c-de2b12fdd0a5\")) {\n",
       "                    Plotly.newPlot(\n",
       "                        'b9fe7137-370e-4112-834c-de2b12fdd0a5',\n",
       "                        [{\"mode\": \"lines+markers\", \"name\": \"Stocks\", \"text\": [\"\", \"AMZN\", \"\", \"DVEM\", \"\", \"ES=F\", \"\", \"EURJPY=X\", \"\", \"GS\", \"\", \"INR=X\", \"\", \"MORT\", \"\", \"MXN=X\", \"\", \"NG=F\", \"\", \"PSJ\", \"\", \"RAAAX\"], \"type\": \"scatter\", \"x\": [0, 0.1483554743084107, 0, 0.10714673975623872, 0, -0.26209385014648434, 0, 0.07792820227197325, 0, 0.13161527500034775, 0, -0.023407501828522154, 0, -0.010369753655611857, 0, 0.04569823334608498, 0, 0.014633521061425347, 0, -0.14727135304346697, 0, 0.3103183068424], \"y\": [0, -0.22915479964262142, 0, 0.4418699581845014, 0, -0.006750346448652757, 0, -0.010198961230856767, 0, 0.17187390663835855, 0, -0.06735523415701564, 0, 0.03217274704769808, 0, -0.014245248787846854, 0, 0.01986952377320898, 0, -0.0559587516527436, 0, 0.10445288628757135]}, {\"mode\": \"lines+markers\", \"name\": \"Sectors\", \"text\": [\"\", \"SCATX\", \"\", \"UMPSX\", \"\", \"ZC=F\", \"\", \"^FTSE\", \"\", \"^GDAXI\", \"\", \"^HSI\", \"\", \"^IXIC\", \"\", \"^KS11\", \"\", \"^MXX\", \"\", \"^N225\", \"\", \"^STOXX50E\", \"\", \"^VIX\"], \"type\": \"scatter\", \"x\": [0, 0.08925900800331482, 0, -0.03543086359393503, 0, 0.0037772942418324144, 0, -0.38218663320923624, 0, 0.2243110925901177, 0, 0.03348491018835983, 0, -0.08069020366005268, 0, -0.017784824909116797, 0, 0.019506309482374643, 0, -0.028470445373005887, 0, 0.1046167617528478, 0, -0.018264678330724274], \"y\": [0, 0.19628987713530274, 0, -0.10848005368234587, 0, -0.0074194885572432855, 0, 0.23480825537037175, 0, -0.08510987196715065, 0, -0.15275622837806, 0, 0.0007047981378024441, 0, -0.00822201776787708, 0, -0.04688269464618796, 0, 0.06273298934038048, 0, -0.014431202643625924, 0, -0.0063505624901045365]}, {\"mode\": \"lines+markers\", \"name\": \"Regions\", \"text\": [], \"type\": \"scatter\", \"x\": [], \"y\": []}],\n",
       "                        {\"template\": {\"data\": {\"bar\": [{\"error_x\": {\"color\": \"#2a3f5f\"}, \"error_y\": {\"color\": \"#2a3f5f\"}, \"marker\": {\"line\": {\"color\": \"#E5ECF6\", \"width\": 0.5}}, \"type\": \"bar\"}], \"barpolar\": [{\"marker\": {\"line\": {\"color\": \"#E5ECF6\", \"width\": 0.5}}, \"type\": \"barpolar\"}], \"carpet\": [{\"aaxis\": {\"endlinecolor\": \"#2a3f5f\", \"gridcolor\": \"white\", \"linecolor\": \"white\", \"minorgridcolor\": \"white\", \"startlinecolor\": \"#2a3f5f\"}, \"baxis\": {\"endlinecolor\": \"#2a3f5f\", \"gridcolor\": \"white\", \"linecolor\": \"white\", \"minorgridcolor\": \"white\", \"startlinecolor\": \"#2a3f5f\"}, \"type\": \"carpet\"}], \"choropleth\": [{\"colorbar\": {\"outlinewidth\": 0, \"ticks\": \"\"}, \"type\": \"choropleth\"}], \"contour\": [{\"colorbar\": {\"outlinewidth\": 0, \"ticks\": \"\"}, \"colorscale\": [[0.0, \"#0d0887\"], [0.1111111111111111, \"#46039f\"], [0.2222222222222222, \"#7201a8\"], [0.3333333333333333, \"#9c179e\"], [0.4444444444444444, \"#bd3786\"], [0.5555555555555556, \"#d8576b\"], [0.6666666666666666, \"#ed7953\"], [0.7777777777777778, \"#fb9f3a\"], [0.8888888888888888, \"#fdca26\"], [1.0, \"#f0f921\"]], \"type\": \"contour\"}], \"contourcarpet\": [{\"colorbar\": {\"outlinewidth\": 0, \"ticks\": \"\"}, \"type\": \"contourcarpet\"}], \"heatmap\": [{\"colorbar\": {\"outlinewidth\": 0, \"ticks\": \"\"}, \"colorscale\": [[0.0, \"#0d0887\"], [0.1111111111111111, \"#46039f\"], [0.2222222222222222, \"#7201a8\"], [0.3333333333333333, \"#9c179e\"], [0.4444444444444444, \"#bd3786\"], [0.5555555555555556, \"#d8576b\"], [0.6666666666666666, \"#ed7953\"], [0.7777777777777778, \"#fb9f3a\"], [0.8888888888888888, \"#fdca26\"], [1.0, \"#f0f921\"]], \"type\": \"heatmap\"}], \"heatmapgl\": [{\"colorbar\": {\"outlinewidth\": 0, \"ticks\": \"\"}, \"colorscale\": [[0.0, \"#0d0887\"], [0.1111111111111111, \"#46039f\"], [0.2222222222222222, \"#7201a8\"], [0.3333333333333333, \"#9c179e\"], [0.4444444444444444, \"#bd3786\"], [0.5555555555555556, \"#d8576b\"], [0.6666666666666666, \"#ed7953\"], [0.7777777777777778, \"#fb9f3a\"], [0.8888888888888888, \"#fdca26\"], [1.0, \"#f0f921\"]], \"type\": \"heatmapgl\"}], \"histogram\": [{\"marker\": {\"colorbar\": {\"outlinewidth\": 0, \"ticks\": \"\"}}, \"type\": \"histogram\"}], \"histogram2d\": [{\"colorbar\": {\"outlinewidth\": 0, \"ticks\": \"\"}, \"colorscale\": [[0.0, \"#0d0887\"], [0.1111111111111111, \"#46039f\"], [0.2222222222222222, \"#7201a8\"], [0.3333333333333333, \"#9c179e\"], [0.4444444444444444, \"#bd3786\"], [0.5555555555555556, \"#d8576b\"], [0.6666666666666666, \"#ed7953\"], [0.7777777777777778, \"#fb9f3a\"], [0.8888888888888888, \"#fdca26\"], [1.0, \"#f0f921\"]], \"type\": \"histogram2d\"}], \"histogram2dcontour\": [{\"colorbar\": {\"outlinewidth\": 0, \"ticks\": \"\"}, \"colorscale\": [[0.0, \"#0d0887\"], [0.1111111111111111, \"#46039f\"], [0.2222222222222222, \"#7201a8\"], [0.3333333333333333, \"#9c179e\"], [0.4444444444444444, \"#bd3786\"], [0.5555555555555556, \"#d8576b\"], [0.6666666666666666, \"#ed7953\"], [0.7777777777777778, \"#fb9f3a\"], [0.8888888888888888, \"#fdca26\"], [1.0, \"#f0f921\"]], \"type\": \"histogram2dcontour\"}], \"mesh3d\": [{\"colorbar\": {\"outlinewidth\": 0, \"ticks\": \"\"}, \"type\": \"mesh3d\"}], \"parcoords\": [{\"line\": {\"colorbar\": {\"outlinewidth\": 0, \"ticks\": \"\"}}, \"type\": \"parcoords\"}], \"pie\": [{\"automargin\": true, \"type\": \"pie\"}], \"scatter\": [{\"marker\": {\"colorbar\": {\"outlinewidth\": 0, \"ticks\": \"\"}}, \"type\": \"scatter\"}], \"scatter3d\": [{\"line\": {\"colorbar\": {\"outlinewidth\": 0, \"ticks\": \"\"}}, \"marker\": {\"colorbar\": {\"outlinewidth\": 0, \"ticks\": \"\"}}, \"type\": \"scatter3d\"}], \"scattercarpet\": [{\"marker\": {\"colorbar\": {\"outlinewidth\": 0, \"ticks\": \"\"}}, \"type\": \"scattercarpet\"}], \"scattergeo\": [{\"marker\": {\"colorbar\": {\"outlinewidth\": 0, \"ticks\": \"\"}}, \"type\": \"scattergeo\"}], \"scattergl\": [{\"marker\": {\"colorbar\": {\"outlinewidth\": 0, \"ticks\": \"\"}}, \"type\": \"scattergl\"}], \"scattermapbox\": [{\"marker\": {\"colorbar\": {\"outlinewidth\": 0, \"ticks\": \"\"}}, \"type\": \"scattermapbox\"}], \"scatterpolar\": [{\"marker\": {\"colorbar\": {\"outlinewidth\": 0, \"ticks\": \"\"}}, \"type\": \"scatterpolar\"}], \"scatterpolargl\": [{\"marker\": {\"colorbar\": {\"outlinewidth\": 0, \"ticks\": \"\"}}, \"type\": \"scatterpolargl\"}], \"scatterternary\": [{\"marker\": {\"colorbar\": {\"outlinewidth\": 0, \"ticks\": \"\"}}, \"type\": \"scatterternary\"}], \"surface\": [{\"colorbar\": {\"outlinewidth\": 0, \"ticks\": \"\"}, \"colorscale\": [[0.0, \"#0d0887\"], [0.1111111111111111, \"#46039f\"], [0.2222222222222222, \"#7201a8\"], [0.3333333333333333, \"#9c179e\"], [0.4444444444444444, \"#bd3786\"], [0.5555555555555556, \"#d8576b\"], [0.6666666666666666, \"#ed7953\"], [0.7777777777777778, \"#fb9f3a\"], [0.8888888888888888, \"#fdca26\"], [1.0, \"#f0f921\"]], \"type\": \"surface\"}], \"table\": [{\"cells\": {\"fill\": {\"color\": \"#EBF0F8\"}, \"line\": {\"color\": \"white\"}}, \"header\": {\"fill\": {\"color\": \"#C8D4E3\"}, \"line\": {\"color\": \"white\"}}, \"type\": \"table\"}]}, \"layout\": {\"annotationdefaults\": {\"arrowcolor\": \"#2a3f5f\", \"arrowhead\": 0, \"arrowwidth\": 1}, \"coloraxis\": {\"colorbar\": {\"outlinewidth\": 0, \"ticks\": \"\"}}, \"colorscale\": {\"diverging\": [[0, \"#8e0152\"], [0.1, \"#c51b7d\"], [0.2, \"#de77ae\"], [0.3, \"#f1b6da\"], [0.4, \"#fde0ef\"], [0.5, \"#f7f7f7\"], [0.6, \"#e6f5d0\"], [0.7, \"#b8e186\"], [0.8, \"#7fbc41\"], [0.9, \"#4d9221\"], [1, \"#276419\"]], \"sequential\": [[0.0, \"#0d0887\"], [0.1111111111111111, \"#46039f\"], [0.2222222222222222, \"#7201a8\"], [0.3333333333333333, \"#9c179e\"], [0.4444444444444444, \"#bd3786\"], [0.5555555555555556, \"#d8576b\"], [0.6666666666666666, \"#ed7953\"], [0.7777777777777778, \"#fb9f3a\"], [0.8888888888888888, \"#fdca26\"], [1.0, \"#f0f921\"]], \"sequentialminus\": [[0.0, \"#0d0887\"], [0.1111111111111111, \"#46039f\"], [0.2222222222222222, \"#7201a8\"], [0.3333333333333333, \"#9c179e\"], [0.4444444444444444, \"#bd3786\"], [0.5555555555555556, \"#d8576b\"], [0.6666666666666666, \"#ed7953\"], [0.7777777777777778, \"#fb9f3a\"], [0.8888888888888888, \"#fdca26\"], [1.0, \"#f0f921\"]]}, \"colorway\": [\"#636efa\", \"#EF553B\", \"#00cc96\", \"#ab63fa\", \"#FFA15A\", \"#19d3f3\", \"#FF6692\", \"#B6E880\", \"#FF97FF\", \"#FECB52\"], \"font\": {\"color\": \"#2a3f5f\"}, \"geo\": {\"bgcolor\": \"white\", \"lakecolor\": \"white\", \"landcolor\": \"#E5ECF6\", \"showlakes\": true, \"showland\": true, \"subunitcolor\": \"white\"}, \"hoverlabel\": {\"align\": \"left\"}, \"hovermode\": \"closest\", \"mapbox\": {\"style\": \"light\"}, \"paper_bgcolor\": \"white\", \"plot_bgcolor\": \"#E5ECF6\", \"polar\": {\"angularaxis\": {\"gridcolor\": \"white\", \"linecolor\": \"white\", \"ticks\": \"\"}, \"bgcolor\": \"#E5ECF6\", \"radialaxis\": {\"gridcolor\": \"white\", \"linecolor\": \"white\", \"ticks\": \"\"}}, \"scene\": {\"xaxis\": {\"backgroundcolor\": \"#E5ECF6\", \"gridcolor\": \"white\", \"gridwidth\": 2, \"linecolor\": \"white\", \"showbackground\": true, \"ticks\": \"\", \"zerolinecolor\": \"white\"}, \"yaxis\": {\"backgroundcolor\": \"#E5ECF6\", \"gridcolor\": \"white\", \"gridwidth\": 2, \"linecolor\": \"white\", \"showbackground\": true, \"ticks\": \"\", \"zerolinecolor\": \"white\"}, \"zaxis\": {\"backgroundcolor\": \"#E5ECF6\", \"gridcolor\": \"white\", \"gridwidth\": 2, \"linecolor\": \"white\", \"showbackground\": true, \"ticks\": \"\", \"zerolinecolor\": \"white\"}}, \"shapedefaults\": {\"line\": {\"color\": \"#2a3f5f\"}}, \"ternary\": {\"aaxis\": {\"gridcolor\": \"white\", \"linecolor\": \"white\", \"ticks\": \"\"}, \"baxis\": {\"gridcolor\": \"white\", \"linecolor\": \"white\", \"ticks\": \"\"}, \"bgcolor\": \"#E5ECF6\", \"caxis\": {\"gridcolor\": \"white\", \"linecolor\": \"white\", \"ticks\": \"\"}}, \"title\": {\"x\": 0.05}, \"xaxis\": {\"automargin\": true, \"gridcolor\": \"white\", \"linecolor\": \"white\", \"ticks\": \"\", \"title\": {\"standoff\": 15}, \"zerolinecolor\": \"white\", \"zerolinewidth\": 2}, \"yaxis\": {\"automargin\": true, \"gridcolor\": \"white\", \"linecolor\": \"white\", \"ticks\": \"\", \"title\": {\"standoff\": 15}, \"zerolinecolor\": \"white\", \"zerolinewidth\": 2}}}, \"title\": {\"text\": \"PCA loadings plot\"}, \"xaxis\": {\"title\": {\"text\": \"PC 89\"}}, \"yaxis\": {\"title\": {\"text\": \"PC 88\"}}},\n",
       "                        {\"responsive\": true}\n",
       "                    ).then(function(){\n",
       "                            \n",
       "var gd = document.getElementById('b9fe7137-370e-4112-834c-de2b12fdd0a5');\n",
       "var x = new MutationObserver(function (mutations, observer) {{\n",
       "        var display = window.getComputedStyle(gd).display;\n",
       "        if (!display || display === 'none') {{\n",
       "            console.log([gd, 'removed!']);\n",
       "            Plotly.purge(gd);\n",
       "            observer.disconnect();\n",
       "        }}\n",
       "}});\n",
       "\n",
       "// Listen for the removal of the full notebook cells\n",
       "var notebookContainer = gd.closest('#notebook-container');\n",
       "if (notebookContainer) {{\n",
       "    x.observe(notebookContainer, {childList: true});\n",
       "}}\n",
       "\n",
       "// Listen for the clearing of the current output cell\n",
       "var outputEl = gd.closest('.output');\n",
       "if (outputEl) {{\n",
       "    x.observe(outputEl, {childList: true});\n",
       "}}\n",
       "\n",
       "                        })\n",
       "                };\n",
       "                });\n",
       "            </script>\n",
       "        </div>"
      ]
     },
     "metadata": {},
     "output_type": "display_data"
    }
   ],
   "source": [
    "#As we can see, most of the variance is concentrated in the top 1-3 components. These components capture \n",
    "#\"market wide\" effects that impact all members of the dataset.\n",
    "\n",
    "# Now we plot loadings which load = eigenvec*sqrt(eigenval)\n",
    "\n",
    "#we will analyse the last few components (third and 4th from the end)\n",
    "k1 = -1\n",
    "k2 = -2\n",
    "k3 = -3\n",
    "xl = []\n",
    "yl = []\n",
    "\n",
    "#set up the labels so that central points are blank\n",
    "tickers = list(mix_asset_class_rets.columns)\n",
    "\n",
    "#insert some spacers as we want pairs of labels\n",
    "for index, item in enumerate(tickers):\n",
    "    if index % 2 == 0:\n",
    "        tickers.insert(index,'')\n",
    "\n",
    "\n",
    "#build up data points for loadings plot\n",
    "for i in range(eig_vecs.shape[0]):\n",
    "    x_val = [0,eig_vecs[i,k1]*(0 if eig_vals[i]<0 else np.sqrt(eig_vals[i]))]\n",
    "    y_val = [0,eig_vecs[i,k2]*(0 if eig_vals[i]<0 else np.sqrt(eig_vals[i]))]\n",
    "    xl.append(x_val)\n",
    "    yl.append(y_val)\n",
    "\n",
    "#convert list of lists to list     \n",
    "flattenedx = [val for sublist in xl for val in sublist]\n",
    "flattenedy = [val for sublist in yl for val in sublist]\n",
    "\n",
    "traceall = go.Scatter(\n",
    "    x = flattenedx,\n",
    "    y = flattenedy,\n",
    "    mode = 'lines+markers',name = 'all',\n",
    "    text = tickers,\n",
    ")\n",
    "\n",
    "trace1 = go.Scatter(\n",
    "    x = flattenedx[0:22],\n",
    "    y = flattenedy[0:22],\n",
    "    mode = 'lines+markers',name = 'Stocks',\n",
    "    text = tickers[0:22]\n",
    ")\n",
    "\n",
    "trace2 = go.Scatter(\n",
    "    x = flattenedx[22:((20+45)*2)],\n",
    "    y = flattenedy[22:((20+45)*2)],\n",
    "    mode = 'lines+markers',name = 'Sectors',\n",
    "    text = tickers[22:((20+45)*2)]\n",
    ")\n",
    "\n",
    "trace3 = go.Scatter(\n",
    "    x = flattenedx[((20+45)*2):],\n",
    "    y = flattenedy[((20+45)*2):],\n",
    "    mode = 'lines+markers',name = 'Regions',\n",
    "    text = tickers[((20+45)*2):]\n",
    ")\n",
    "\n",
    "layout=Layout(\n",
    "        yaxis=YAxis(title='PC %s' % (90+k2)),\n",
    "        xaxis=XAxis(title='PC %s' % (90+k1)),\n",
    "        title='PCA loadings plot')\n",
    "\n",
    "data = [trace1,trace2,trace3]\n",
    "#data = [traceall]\n",
    "fig = Figure(data=data,layout=layout)\n",
    "iplot(fig)\n"
   ]
  },
  {
   "cell_type": "markdown",
   "metadata": {},
   "source": [
    "# Analysis of loadings to determine correlations "
   ]
  },
  {
   "cell_type": "code",
   "execution_count": 180,
   "metadata": {},
   "outputs": [
    {
     "data": {
      "image/png": "[encoded data removed]",
      "text/plain": [
       "<Figure size 504x288 with 1 Axes>"
      ]
     },
     "metadata": {
      "needs_background": "light"
     },
     "output_type": "display_data"
    },
    {
     "data": {
      "image/png": "[encoded data removed]",
      "text/plain": [
       "<Figure size 504x288 with 1 Axes>"
      ]
     },
     "metadata": {
      "needs_background": "light"
     },
     "output_type": "display_data"
    },
    {
     "data": {
      "image/png": "[encoded data removed]",
      "text/plain": [
       "<Figure size 504x288 with 1 Axes>"
      ]
     },
     "metadata": {
      "needs_background": "light"
     },
     "output_type": "display_data"
    },
    {
     "data": {
      "image/png": "[encoded data removed]",
      "text/plain": [
       "<Figure size 504x288 with 1 Axes>"
      ]
     },
     "metadata": {
      "needs_background": "light"
     },
     "output_type": "display_data"
    },
    {
     "data": {
      "image/png": "[encoded data removed]",
      "text/plain": [
       "<Figure size 504x288 with 1 Axes>"
      ]
     },
     "metadata": {
      "needs_background": "light"
     },
     "output_type": "display_data"
    },
    {
     "data": {
      "image/png": "[encoded data removed]",
      "text/plain": [
       "<Figure size 504x288 with 1 Axes>"
      ]
     },
     "metadata": {
      "needs_background": "light"
     },
     "output_type": "display_data"
    },
    {
     "data": {
      "image/png": "[encoded data removed]",
      "text/plain": [
       "<Figure size 504x288 with 1 Axes>"
      ]
     },
     "metadata": {
      "needs_background": "light"
     },
     "output_type": "display_data"
    },
    {
     "data": {
      "image/png": "[encoded data removed]",
      "text/plain": [
       "<Figure size 504x288 with 1 Axes>"
      ]
     },
     "metadata": {
      "needs_background": "light"
     },
     "output_type": "display_data"
    },
    {
     "data": {
      "image/png": "[encoded data removed]",
      "text/plain": [
       "<Figure size 504x288 with 1 Axes>"
      ]
     },
     "metadata": {
      "needs_background": "light"
     },
     "output_type": "display_data"
    },
    {
     "data": {
      "image/png": "[encoded data removed]",
      "text/plain": [
       "<Figure size 504x288 with 1 Axes>"
      ]
     },
     "metadata": {
      "needs_background": "light"
     },
     "output_type": "display_data"
    },
    {
     "data": {
      "image/png": "[encoded data removed]",
      "text/plain": [
       "<Figure size 504x288 with 1 Axes>"
      ]
     },
     "metadata": {
      "needs_background": "light"
     },
     "output_type": "display_data"
    },
    {
     "data": {
      "image/png": "[encoded data removed]",
      "text/plain": [
       "<Figure size 504x288 with 1 Axes>"
      ]
     },
     "metadata": {
      "needs_background": "light"
     },
     "output_type": "display_data"
    },
    {
     "data": {
      "image/png": "[encoded data removed]",
      "text/plain": [
       "<Figure size 504x288 with 1 Axes>"
      ]
     },
     "metadata": {
      "needs_background": "light"
     },
     "output_type": "display_data"
    }
   ],
   "source": [
    "dist=[]\n",
    "#list to contain tuples (ith example, quandrant location 1,2,3,4)\n",
    "quad = []\n",
    "\n",
    "#calculate distances of each point in case we want to filter by only significant results\n",
    "for i in range(eig_vecs.shape[0]):\n",
    "    x = eig_vecs[i,k1]*(0 if eig_vals[i]<0 else np.sqrt(eig_vals[i]))\n",
    "    y = eig_vecs[i,k2]*(0 if eig_vals[i]<0 else np.sqrt(eig_vals[i]))\n",
    "    d = np.sqrt(x**2 + y**2)\n",
    "    dist.append(d)\n",
    "    \n",
    "    \n",
    "    \n",
    "    #calculate the location of each indicies wrt the quadrant of the loading plot\n",
    "    if((x > 0) and (y > 0)):\n",
    "        quad.append((i, 1))\n",
    "    elif((x < 0) and (y > 0)):\n",
    "        quad.append((i, 2))\n",
    "    elif((x < 0) and (y < 0)):\n",
    "        quad.append((i, 3))\n",
    "    elif((x > 0) and (y < 0)):\n",
    "        quad.append((i, 4))\n",
    "        \n",
    "        \n",
    "    #reset the tickers to the original format\n",
    "tickers = list(mix_asset_class_rets.columns)\n",
    "\n",
    "#collect the entities for ranking later\n",
    "corrells = pd.DataFrame(columns=[\"Stock/index_A\",\"Stock/index_B\",\"R^2\"])\n",
    "\n",
    "#select the stocks only\n",
    "stocks = tickers[:15]\n",
    "\n",
    "#calculate quadrant membership and determine opposing pairs\n",
    "for i in range(len(quad)):\n",
    "    # Q1 vs Q3\n",
    "    if(quad[i][1] == 1):\n",
    "        for j in range(len(quad)):\n",
    "            #we are only interested in correlations that involve at least 1 stock\n",
    "            if(quad[j][1] == 3 and ((tickers[quad[i][0]] in stocks) or (tickers[quad[j][0]] in stocks)) ):\n",
    "                \n",
    " \n",
    "                ts1 = mix_asset_class_rets[tickers[quad[i][0]]]  # time-series for cross plots\n",
    "                ts2 = mix_asset_class_rets[tickers[quad[j][0]]]\n",
    " \n",
    "                # correlation metrics \n",
    "                slope, intercept, r2, pvalue, _ = stats.linregress(ts1, ts2)\n",
    "                \n",
    "                #print(r2, pvalue)\n",
    "                \n",
    "                #save metrics\n",
    "                corrells = corrells.append({\"Stock/index_A\":tickers[quad[i][0]],\"Stock/index_B\":tickers[quad[j][0]],\"R^2\":r2},ignore_index=True)\n",
    "                \n",
    "                # if the correlation is significant then plot it up\n",
    "                if (r2>0.6):\n",
    "                    plt.figure(figsize=(7,4))\n",
    "                    plt.plot(ts1, ts2, '.k')\n",
    "                    #linear regression line\n",
    "                    xline = np.linspace(np.min(ts1), np.max(ts1), 100)\n",
    "                    yline = slope*xline + intercept\n",
    "                    plt.plot(xline, yline,'-', color='r') \n",
    "                    plt.xlabel(tickers[quad[i][0]])\n",
    "                    plt.ylabel(tickers[quad[j][0]])\n",
    "                    plt.show()\n",
    "                    \n",
    "    # Q2 vs Q4\n",
    "    if(quad[i][1] == 2):\n",
    "        for j in range(len(quad)):\n",
    "            if(quad[j][1] == 4 and ((tickers[quad[i][0]] in stocks) or (tickers[quad[j][0]] in stocks)) ):\n",
    "                \n",
    "                #print(tickers[quad[i][0]], tickers[quad[j][0]])\n",
    "                ts1 = mix_asset_class_rets[tickers[quad[i][0]]]\n",
    "                ts2 = mix_asset_class_rets[tickers[quad[j][0]]]\n",
    "                slope, intercept, r2, pvalue, _ = stats.linregress(ts1, ts2)\n",
    "               \n",
    "                #print(r2, pvalue)\n",
    "                \n",
    "                corrells = corrells.append({\"Stock/index_A\":tickers[quad[i][0]],\"Stock/index_B\":tickers[quad[j][0]],\"R^2\":r2},ignore_index=True)\n",
    "                \n",
    "                if(r2>0.6):\n",
    "                    plt.figure(figsize=(7,4))\n",
    "                    plt.plot(ts1, ts2, '.k')\n",
    "                    xline = np.linspace(np.min(ts1), np.max(ts1), 100)\n",
    "                    yline = slope*xline + intercept\n",
    "                    plt.plot(xline, yline,'-', color='r')\n",
    "                    plt.xlabel(tickers[quad[i][0]])\n",
    "                    plt.ylabel(tickers[quad[j][0]])\n",
    "                    plt.show()"
   ]
  },
  {
   "cell_type": "code",
   "execution_count": 183,
   "metadata": {},
   "outputs": [
    {
     "data": {
      "text/html": [
       "<div>\n",
       "<style scoped>\n",
       "    .dataframe tbody tr th:only-of-type {\n",
       "        vertical-align: middle;\n",
       "    }\n",
       "\n",
       "    .dataframe tbody tr th {\n",
       "        vertical-align: top;\n",
       "    }\n",
       "\n",
       "    .dataframe thead th {\n",
       "        text-align: right;\n",
       "    }\n",
       "</style>\n",
       "<table border=\"1\" class=\"dataframe\">\n",
       "  <thead>\n",
       "    <tr style=\"text-align: right;\">\n",
       "      <th></th>\n",
       "      <th>Stock/index_A</th>\n",
       "      <th>Stock/index_B</th>\n",
       "      <th>R^2</th>\n",
       "    </tr>\n",
       "  </thead>\n",
       "  <tbody>\n",
       "    <tr>\n",
       "      <th>0</th>\n",
       "      <td>^FTSE</td>\n",
       "      <td>^STOXX50E</td>\n",
       "      <td>0.853379</td>\n",
       "    </tr>\n",
       "    <tr>\n",
       "      <th>1</th>\n",
       "      <td>SCATX</td>\n",
       "      <td>PSJ</td>\n",
       "      <td>0.842993</td>\n",
       "    </tr>\n",
       "    <tr>\n",
       "      <th>2</th>\n",
       "      <td>^FTSE</td>\n",
       "      <td>^GDAXI</td>\n",
       "      <td>0.826553</td>\n",
       "    </tr>\n",
       "    <tr>\n",
       "      <th>3</th>\n",
       "      <td>RAAAX</td>\n",
       "      <td>ES=F</td>\n",
       "      <td>0.798173</td>\n",
       "    </tr>\n",
       "    <tr>\n",
       "      <th>4</th>\n",
       "      <td>GS</td>\n",
       "      <td>ES=F</td>\n",
       "      <td>0.795957</td>\n",
       "    </tr>\n",
       "    <tr>\n",
       "      <th>5</th>\n",
       "      <td>GS</td>\n",
       "      <td>UMPSX</td>\n",
       "      <td>0.741867</td>\n",
       "    </tr>\n",
       "    <tr>\n",
       "      <th>6</th>\n",
       "      <td>RAAAX</td>\n",
       "      <td>UMPSX</td>\n",
       "      <td>0.732930</td>\n",
       "    </tr>\n",
       "    <tr>\n",
       "      <th>7</th>\n",
       "      <td>SCATX</td>\n",
       "      <td>ES=F</td>\n",
       "      <td>0.725337</td>\n",
       "    </tr>\n",
       "    <tr>\n",
       "      <th>8</th>\n",
       "      <td>DVEM</td>\n",
       "      <td>ES=F</td>\n",
       "      <td>0.709255</td>\n",
       "    </tr>\n",
       "    <tr>\n",
       "      <th>9</th>\n",
       "      <td>DVEM</td>\n",
       "      <td>UMPSX</td>\n",
       "      <td>0.707548</td>\n",
       "    </tr>\n",
       "    <tr>\n",
       "      <th>10</th>\n",
       "      <td>^IXIC</td>\n",
       "      <td>AMZN</td>\n",
       "      <td>0.695431</td>\n",
       "    </tr>\n",
       "    <tr>\n",
       "      <th>11</th>\n",
       "      <td>RAAAX</td>\n",
       "      <td>PSJ</td>\n",
       "      <td>0.689508</td>\n",
       "    </tr>\n",
       "    <tr>\n",
       "      <th>12</th>\n",
       "      <td>SCATX</td>\n",
       "      <td>UMPSX</td>\n",
       "      <td>0.684376</td>\n",
       "    </tr>\n",
       "    <tr>\n",
       "      <th>13</th>\n",
       "      <td>GS</td>\n",
       "      <td>PSJ</td>\n",
       "      <td>0.587232</td>\n",
       "    </tr>\n",
       "    <tr>\n",
       "      <th>14</th>\n",
       "      <td>DVEM</td>\n",
       "      <td>PSJ</td>\n",
       "      <td>0.575681</td>\n",
       "    </tr>\n",
       "    <tr>\n",
       "      <th>15</th>\n",
       "      <td>^FTSE</td>\n",
       "      <td>^MXX</td>\n",
       "      <td>0.535723</td>\n",
       "    </tr>\n",
       "    <tr>\n",
       "      <th>16</th>\n",
       "      <td>^FTSE</td>\n",
       "      <td>^HSI</td>\n",
       "      <td>0.507739</td>\n",
       "    </tr>\n",
       "    <tr>\n",
       "      <th>17</th>\n",
       "      <td>DVEM</td>\n",
       "      <td>^KS11</td>\n",
       "      <td>0.471280</td>\n",
       "    </tr>\n",
       "    <tr>\n",
       "      <th>18</th>\n",
       "      <td>MORT</td>\n",
       "      <td>^MXX</td>\n",
       "      <td>0.361055</td>\n",
       "    </tr>\n",
       "    <tr>\n",
       "      <th>19</th>\n",
       "      <td>MORT</td>\n",
       "      <td>^STOXX50E</td>\n",
       "      <td>0.343556</td>\n",
       "    </tr>\n",
       "    <tr>\n",
       "      <th>20</th>\n",
       "      <td>RAAAX</td>\n",
       "      <td>^KS11</td>\n",
       "      <td>0.336914</td>\n",
       "    </tr>\n",
       "    <tr>\n",
       "      <th>21</th>\n",
       "      <td>MORT</td>\n",
       "      <td>^GDAXI</td>\n",
       "      <td>0.323982</td>\n",
       "    </tr>\n",
       "    <tr>\n",
       "      <th>22</th>\n",
       "      <td>^N225</td>\n",
       "      <td>EURJPY=X</td>\n",
       "      <td>0.316353</td>\n",
       "    </tr>\n",
       "    <tr>\n",
       "      <th>23</th>\n",
       "      <td>^FTSE</td>\n",
       "      <td>AMZN</td>\n",
       "      <td>0.302731</td>\n",
       "    </tr>\n",
       "    <tr>\n",
       "      <th>24</th>\n",
       "      <td>GS</td>\n",
       "      <td>^KS11</td>\n",
       "      <td>0.280352</td>\n",
       "    </tr>\n",
       "    <tr>\n",
       "      <th>25</th>\n",
       "      <td>SCATX</td>\n",
       "      <td>^KS11</td>\n",
       "      <td>0.239158</td>\n",
       "    </tr>\n",
       "    <tr>\n",
       "      <th>26</th>\n",
       "      <td>^FTSE</td>\n",
       "      <td>EURJPY=X</td>\n",
       "      <td>0.218230</td>\n",
       "    </tr>\n",
       "    <tr>\n",
       "      <th>27</th>\n",
       "      <td>MORT</td>\n",
       "      <td>^HSI</td>\n",
       "      <td>0.195566</td>\n",
       "    </tr>\n",
       "    <tr>\n",
       "      <th>28</th>\n",
       "      <td>MORT</td>\n",
       "      <td>AMZN</td>\n",
       "      <td>0.180919</td>\n",
       "    </tr>\n",
       "    <tr>\n",
       "      <th>29</th>\n",
       "      <td>MORT</td>\n",
       "      <td>ZC=F</td>\n",
       "      <td>0.128184</td>\n",
       "    </tr>\n",
       "    <tr>\n",
       "      <th>30</th>\n",
       "      <td>^N225</td>\n",
       "      <td>AMZN</td>\n",
       "      <td>0.127336</td>\n",
       "    </tr>\n",
       "    <tr>\n",
       "      <th>31</th>\n",
       "      <td>^FTSE</td>\n",
       "      <td>ZC=F</td>\n",
       "      <td>0.124968</td>\n",
       "    </tr>\n",
       "    <tr>\n",
       "      <th>32</th>\n",
       "      <td>NG=F</td>\n",
       "      <td>UMPSX</td>\n",
       "      <td>0.121311</td>\n",
       "    </tr>\n",
       "    <tr>\n",
       "      <th>33</th>\n",
       "      <td>NG=F</td>\n",
       "      <td>ES=F</td>\n",
       "      <td>0.120317</td>\n",
       "    </tr>\n",
       "    <tr>\n",
       "      <th>34</th>\n",
       "      <td>NG=F</td>\n",
       "      <td>^KS11</td>\n",
       "      <td>0.089684</td>\n",
       "    </tr>\n",
       "    <tr>\n",
       "      <th>35</th>\n",
       "      <td>^N225</td>\n",
       "      <td>ZC=F</td>\n",
       "      <td>0.085138</td>\n",
       "    </tr>\n",
       "    <tr>\n",
       "      <th>36</th>\n",
       "      <td>^IXIC</td>\n",
       "      <td>ZC=F</td>\n",
       "      <td>0.072318</td>\n",
       "    </tr>\n",
       "    <tr>\n",
       "      <th>37</th>\n",
       "      <td>NG=F</td>\n",
       "      <td>INR=X</td>\n",
       "      <td>0.064839</td>\n",
       "    </tr>\n",
       "    <tr>\n",
       "      <th>38</th>\n",
       "      <td>GS</td>\n",
       "      <td>INR=X</td>\n",
       "      <td>0.058279</td>\n",
       "    </tr>\n",
       "    <tr>\n",
       "      <th>39</th>\n",
       "      <td>DVEM</td>\n",
       "      <td>INR=X</td>\n",
       "      <td>0.052037</td>\n",
       "    </tr>\n",
       "    <tr>\n",
       "      <th>40</th>\n",
       "      <td>SCATX</td>\n",
       "      <td>INR=X</td>\n",
       "      <td>0.051597</td>\n",
       "    </tr>\n",
       "    <tr>\n",
       "      <th>41</th>\n",
       "      <td>^IXIC</td>\n",
       "      <td>EURJPY=X</td>\n",
       "      <td>0.045759</td>\n",
       "    </tr>\n",
       "    <tr>\n",
       "      <th>42</th>\n",
       "      <td>NG=F</td>\n",
       "      <td>PSJ</td>\n",
       "      <td>0.026134</td>\n",
       "    </tr>\n",
       "    <tr>\n",
       "      <th>43</th>\n",
       "      <td>RAAAX</td>\n",
       "      <td>INR=X</td>\n",
       "      <td>0.015969</td>\n",
       "    </tr>\n",
       "    <tr>\n",
       "      <th>44</th>\n",
       "      <td>MORT</td>\n",
       "      <td>EURJPY=X</td>\n",
       "      <td>-0.007164</td>\n",
       "    </tr>\n",
       "    <tr>\n",
       "      <th>45</th>\n",
       "      <td>NG=F</td>\n",
       "      <td>^VIX</td>\n",
       "      <td>-0.042561</td>\n",
       "    </tr>\n",
       "    <tr>\n",
       "      <th>46</th>\n",
       "      <td>^IXIC</td>\n",
       "      <td>MXN=X</td>\n",
       "      <td>-0.129618</td>\n",
       "    </tr>\n",
       "    <tr>\n",
       "      <th>47</th>\n",
       "      <td>^FTSE</td>\n",
       "      <td>MXN=X</td>\n",
       "      <td>-0.164212</td>\n",
       "    </tr>\n",
       "    <tr>\n",
       "      <th>48</th>\n",
       "      <td>^N225</td>\n",
       "      <td>MXN=X</td>\n",
       "      <td>-0.183945</td>\n",
       "    </tr>\n",
       "    <tr>\n",
       "      <th>49</th>\n",
       "      <td>MORT</td>\n",
       "      <td>MXN=X</td>\n",
       "      <td>-0.233352</td>\n",
       "    </tr>\n",
       "  </tbody>\n",
       "</table>\n",
       "</div>"
      ],
      "text/plain": [
       "   Stock/index_A Stock/index_B       R^2\n",
       "0          ^FTSE     ^STOXX50E  0.853379\n",
       "1          SCATX           PSJ  0.842993\n",
       "2          ^FTSE        ^GDAXI  0.826553\n",
       "3          RAAAX          ES=F  0.798173\n",
       "4             GS          ES=F  0.795957\n",
       "5             GS         UMPSX  0.741867\n",
       "6          RAAAX         UMPSX  0.732930\n",
       "7          SCATX          ES=F  0.725337\n",
       "8           DVEM          ES=F  0.709255\n",
       "9           DVEM         UMPSX  0.707548\n",
       "10         ^IXIC          AMZN  0.695431\n",
       "11         RAAAX           PSJ  0.689508\n",
       "12         SCATX         UMPSX  0.684376\n",
       "13            GS           PSJ  0.587232\n",
       "14          DVEM           PSJ  0.575681\n",
       "15         ^FTSE          ^MXX  0.535723\n",
       "16         ^FTSE          ^HSI  0.507739\n",
       "17          DVEM         ^KS11  0.471280\n",
       "18          MORT          ^MXX  0.361055\n",
       "19          MORT     ^STOXX50E  0.343556\n",
       "20         RAAAX         ^KS11  0.336914\n",
       "21          MORT        ^GDAXI  0.323982\n",
       "22         ^N225      EURJPY=X  0.316353\n",
       "23         ^FTSE          AMZN  0.302731\n",
       "24            GS         ^KS11  0.280352\n",
       "25         SCATX         ^KS11  0.239158\n",
       "26         ^FTSE      EURJPY=X  0.218230\n",
       "27          MORT          ^HSI  0.195566\n",
       "28          MORT          AMZN  0.180919\n",
       "29          MORT          ZC=F  0.128184\n",
       "30         ^N225          AMZN  0.127336\n",
       "31         ^FTSE          ZC=F  0.124968\n",
       "32          NG=F         UMPSX  0.121311\n",
       "33          NG=F          ES=F  0.120317\n",
       "34          NG=F         ^KS11  0.089684\n",
       "35         ^N225          ZC=F  0.085138\n",
       "36         ^IXIC          ZC=F  0.072318\n",
       "37          NG=F         INR=X  0.064839\n",
       "38            GS         INR=X  0.058279\n",
       "39          DVEM         INR=X  0.052037\n",
       "40         SCATX         INR=X  0.051597\n",
       "41         ^IXIC      EURJPY=X  0.045759\n",
       "42          NG=F           PSJ  0.026134\n",
       "43         RAAAX         INR=X  0.015969\n",
       "44          MORT      EURJPY=X -0.007164\n",
       "45          NG=F          ^VIX -0.042561\n",
       "46         ^IXIC         MXN=X -0.129618\n",
       "47         ^FTSE         MXN=X -0.164212\n",
       "48         ^N225         MXN=X -0.183945\n",
       "49          MORT         MXN=X -0.233352"
      ]
     },
     "execution_count": 183,
     "metadata": {},
     "output_type": "execute_result"
    }
   ],
   "source": [
    "corrells = corrells.sort_values(by=\"R^2\",ascending=False)\n",
    "corrells = corrells.reset_index(drop=True)\n",
    "corrells.head(50)"
   ]
  },
  {
   "cell_type": "code",
   "execution_count": null,
   "metadata": {},
   "outputs": [],
   "source": [
    "#The top correlations listed in the above table are broadly consistent with the manual examples supplied and \n",
    "#the results of the correlation heatmap produced in section 5. "
   ]
  }
 ],
 "metadata": {
  "kernelspec": {
   "display_name": "Python 3",
   "language": "python",
   "name": "python3"
  },
  "language_info": {
   "codemirror_mode": {
    "name": "ipython",
    "version": 3
   },
   "file_extension": ".py",
   "mimetype": "text/x-python",
   "name": "python",
   "nbconvert_exporter": "python",
   "pygments_lexer": "ipython3",
   "version": "3.7.6"
  }
 },
 "nbformat": 4,
 "nbformat_minor": 4
}
